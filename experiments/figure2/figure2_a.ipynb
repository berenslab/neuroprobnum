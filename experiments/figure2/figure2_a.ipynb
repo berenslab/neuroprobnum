{
 "cells": [
  {
   "cell_type": "markdown",
   "metadata": {},
   "source": [
    "# Hodgkin-Huxley"
   ]
  },
  {
   "cell_type": "code",
   "execution_count": 1,
   "metadata": {},
   "outputs": [],
   "source": [
    "%load_ext autoreload\n",
    "%autoreload 2"
   ]
  },
  {
   "cell_type": "code",
   "execution_count": 2,
   "metadata": {},
   "outputs": [],
   "source": [
    "import numpy as np\n",
    "from matplotlib import pyplot as plt\n",
    "from seaborn import despine\n",
    "from itertools import product as itproduct"
   ]
  },
  {
   "cell_type": "code",
   "execution_count": 3,
   "metadata": {},
   "outputs": [],
   "source": [
    "from neuroprobnum.utils import math_utils\n",
    "from neuroprobnum.utils import plot_utils as pltu"
   ]
  },
  {
   "cell_type": "markdown",
   "metadata": {},
   "source": [
    "# Model"
   ]
  },
  {
   "cell_type": "code",
   "execution_count": 4,
   "metadata": {},
   "outputs": [
    {
     "name": "stdout",
     "output_type": "stream",
     "text": [
      "running build_ext\n",
      "\n"
     ]
    }
   ],
   "source": [
    "from neuroprobnum.models.hodgkin_huxley import compile_cython\n",
    "\n",
    "compile_cython()"
   ]
  },
  {
   "cell_type": "code",
   "execution_count": 5,
   "metadata": {},
   "outputs": [
    {
     "data": {
      "text/plain": [
       "HH_neuron"
      ]
     },
     "execution_count": 5,
     "metadata": {},
     "output_type": "execute_result"
    }
   ],
   "source": [
    "from neuroprobnum.models.hodgkin_huxley import HHNeuron\n",
    "\n",
    "neuron = HHNeuron()\n",
    "neuron"
   ]
  },
  {
   "cell_type": "code",
   "execution_count": 6,
   "metadata": {},
   "outputs": [
    {
     "data": {
      "image/png": "[encoded data removed]",
      "text/plain": [
       "<Figure size 720x96 with 1 Axes>"
      ]
     },
     "metadata": {},
     "output_type": "display_data"
    }
   ],
   "source": [
    "from neuroprobnum.utils import stim_utils\n",
    "t0, tmax = 0, 200\n",
    "stim_onset, stim_offset = 10, tmax-10\n",
    "stim = stim_utils.IStimStep(Iamp=0.2, onset=stim_onset, offset=stim_offset, name='Step')\n",
    "neuron.get_Istim_at_t = stim.get_I_at_t\n",
    "stim.plot(t0=t0, tmax=tmax)"
   ]
  },
  {
   "cell_type": "markdown",
   "metadata": {},
   "source": [
    "# Generator"
   ]
  },
  {
   "cell_type": "code",
   "execution_count": 7,
   "metadata": {},
   "outputs": [],
   "source": [
    "from neuroprobnum.generator.generator_hh import DataGeneratorHH\n",
    "    \n",
    "gen = DataGeneratorHH(\n",
    "    t0=t0, tmax=tmax, t_eval_adaptive=math_utils.t_arange(t0, tmax, 5),\n",
    "    return_vars=['events', 'ys'],\n",
    "    model=neuron, y0=neuron.compute_yinf(-65), thresh=0.0,\n",
    "    n_samples=100, n_parallel=20,\n",
    "    gen_det_sols=True, gen_acc_sols=True, acc_same_ts=True,\n",
    "    base_folder='data/examples_hh'\n",
    ")\n",
    "gen.update_subfoldername(stim=stim.name)\n",
    "gen.load_acc_sols_from_file()"
   ]
  },
  {
   "cell_type": "markdown",
   "metadata": {},
   "source": [
    "## Data"
   ]
  },
  {
   "cell_type": "code",
   "execution_count": 8,
   "metadata": {},
   "outputs": [],
   "source": [
    "# pert_method, adaptive, methods, step_params, pert_param\n",
    "solver_params = [\n",
    "    ('abdulle_ln', 0, ['EE'], [0.25], [1]),\n",
    "]"
   ]
  },
  {
   "cell_type": "code",
   "execution_count": 9,
   "metadata": {
    "scrolled": true
   },
   "outputs": [
    {
     "name": "stdout",
     "output_type": "stream",
     "text": [
      "             stim_Step_tmax_200/EE_f(0.25)_abdulle_ln(1).pkl --> Generate data because overwrite==True.\n"
     ]
    }
   ],
   "source": [
    "np.random.seed(42)\n",
    "  \n",
    "for pert_method, adaptive, methods, step_params, pert_params in solver_params:\n",
    "    for step_param, method, pert_param in itproduct(step_params, methods, pert_params):\n",
    "        gen.gen_and_save_data(\n",
    "            method=method, adaptive=adaptive, step_param=step_param,\n",
    "            pert_method=pert_method, pert_param=pert_param, overwrite=True, allowgenerror=False,\n",
    "        )"
   ]
  },
  {
   "cell_type": "markdown",
   "metadata": {},
   "source": [
    "# Load data"
   ]
  },
  {
   "cell_type": "code",
   "execution_count": 10,
   "metadata": {},
   "outputs": [
    {
     "data": {
      "text/html": [
       "<div>\n",
       "<style scoped>\n",
       "    .dataframe tbody tr th:only-of-type {\n",
       "        vertical-align: middle;\n",
       "    }\n",
       "\n",
       "    .dataframe tbody tr th {\n",
       "        vertical-align: top;\n",
       "    }\n",
       "\n",
       "    .dataframe thead th {\n",
       "        text-align: right;\n",
       "    }\n",
       "</style>\n",
       "<table border=\"1\" class=\"dataframe\">\n",
       "  <thead>\n",
       "    <tr style=\"text-align: right;\">\n",
       "      <th></th>\n",
       "      <th>acc_events</th>\n",
       "      <th>acc_ts</th>\n",
       "      <th>acc_vs</th>\n",
       "      <th>adaptive</th>\n",
       "      <th>det_events</th>\n",
       "      <th>det_nODEcalls</th>\n",
       "      <th>det_run_time</th>\n",
       "      <th>det_ts</th>\n",
       "      <th>det_vs</th>\n",
       "      <th>events</th>\n",
       "      <th>...</th>\n",
       "      <th>pert_param</th>\n",
       "      <th>run_times</th>\n",
       "      <th>seed</th>\n",
       "      <th>step_param</th>\n",
       "      <th>t0</th>\n",
       "      <th>tmax</th>\n",
       "      <th>ts</th>\n",
       "      <th>vs</th>\n",
       "      <th>stimfun</th>\n",
       "      <th>stim</th>\n",
       "    </tr>\n",
       "  </thead>\n",
       "  <tbody>\n",
       "    <tr>\n",
       "      <th>0</th>\n",
       "      <td>[[11.270881645965627, 23.333899356067285, 34.9...</td>\n",
       "      <td>[0.0, 0.25, 0.5, 0.75, 1.0, 1.25, 1.5, 1.75, 2...</td>\n",
       "      <td>[-65.0, -64.99992457182115, -64.9998570073335,...</td>\n",
       "      <td>0</td>\n",
       "      <td>[[11.850855243541666, 25.65387713167099, 38.90...</td>\n",
       "      <td>800.0</td>\n",
       "      <td>0.022244</td>\n",
       "      <td>[0.0, 0.25, 0.5, 0.75, 1.0, 1.25, 1.5, 1.75, 2...</td>\n",
       "      <td>[-65.0, -64.99992555291273, -64.9998627013862,...</td>\n",
       "      <td>[[[12.007016188593497, 25.654282196452833, 39....</td>\n",
       "      <td>...</td>\n",
       "      <td>1.0</td>\n",
       "      <td>[0.048438072204589844, 0.026699542999267578, 0...</td>\n",
       "      <td>[12475674, 1080776788, 1858585705, 1629164900,...</td>\n",
       "      <td>0.25</td>\n",
       "      <td>0.0</td>\n",
       "      <td>200.0</td>\n",
       "      <td>[0.0, 0.25, 0.5, 0.75, 1.0, 1.25, 1.5, 1.75, 2...</td>\n",
       "      <td>[[-65.0, -64.99993881026417, -64.9998622452679...</td>\n",
       "      <td>IStimStep(0.2,t=[10,190])</td>\n",
       "      <td>Step</td>\n",
       "    </tr>\n",
       "  </tbody>\n",
       "</table>\n",
       "<p>1 rows × 24 columns</p>\n",
       "</div>"
      ],
      "text/plain": [
       "                                          acc_events  \\\n",
       "0  [[11.270881645965627, 23.333899356067285, 34.9...   \n",
       "\n",
       "                                              acc_ts  \\\n",
       "0  [0.0, 0.25, 0.5, 0.75, 1.0, 1.25, 1.5, 1.75, 2...   \n",
       "\n",
       "                                              acc_vs  adaptive  \\\n",
       "0  [-65.0, -64.99992457182115, -64.9998570073335,...         0   \n",
       "\n",
       "                                          det_events  det_nODEcalls  \\\n",
       "0  [[11.850855243541666, 25.65387713167099, 38.90...          800.0   \n",
       "\n",
       "   det_run_time                                             det_ts  \\\n",
       "0      0.022244  [0.0, 0.25, 0.5, 0.75, 1.0, 1.25, 1.5, 1.75, 2...   \n",
       "\n",
       "                                              det_vs  \\\n",
       "0  [-65.0, -64.99992555291273, -64.9998627013862,...   \n",
       "\n",
       "                                              events  ... pert_param  \\\n",
       "0  [[[12.007016188593497, 25.654282196452833, 39....  ...        1.0   \n",
       "\n",
       "                                           run_times  \\\n",
       "0  [0.048438072204589844, 0.026699542999267578, 0...   \n",
       "\n",
       "                                                seed step_param   t0   tmax  \\\n",
       "0  [12475674, 1080776788, 1858585705, 1629164900,...       0.25  0.0  200.0   \n",
       "\n",
       "                                                  ts  \\\n",
       "0  [0.0, 0.25, 0.5, 0.75, 1.0, 1.25, 1.5, 1.75, 2...   \n",
       "\n",
       "                                                  vs  \\\n",
       "0  [[-65.0, -64.99993881026417, -64.9998622452679...   \n",
       "\n",
       "                     stimfun  stim  \n",
       "0  IStimStep(0.2,t=[10,190])  Step  \n",
       "\n",
       "[1 rows x 24 columns]"
      ]
     },
     "execution_count": 10,
     "metadata": {},
     "output_type": "execute_result"
    }
   ],
   "source": [
    "from neuroprobnum.generator.dataloader import DataLoader\n",
    "\n",
    "df = DataLoader(gen).load_data2dataframe(solver_params, drop_traces=False, MAEs=False)\n",
    "df['stimfun'] = stim\n",
    "df['stim'] = stim.name\n",
    "df.head()"
   ]
  },
  {
   "cell_type": "markdown",
   "metadata": {},
   "source": [
    "### Compute KDEs"
   ]
  },
  {
   "cell_type": "code",
   "execution_count": 11,
   "metadata": {},
   "outputs": [],
   "source": [
    "from neuroprobnum.utils.metric_utils import compute_kde\n",
    "\n",
    "df[['kde', 'kde_ts']] = None\n",
    "\n",
    "for i, row in df.iterrows():\n",
    "    kde_ts = np.linspace(row.t0, row.tmax, 2001)\n",
    "    df.at[i, 'kde_ts'] = kde_ts\n",
    "    \n",
    "try:\n",
    "    from joblib import Parallel, delayed\n",
    "    df['kde'] = Parallel(n_jobs=np.maximum(len(df), 10))(delayed(compute_kde)(np.concatenate([events[0] for events in row.events]), row.kde_ts, np.mean([len(e_list[0]) for e_list in row.events])) for i, row in df.iterrows())\n",
    "    \n",
    "except ImportError:\n",
    "    for i, row in df.iterrows():\n",
    "        kde = compute_kde(X=np.concatenate([events[0] for events in row.events]), kde_ts=row.kde_ts, scale=np.mean([len(e_list[0]) for e_list in row.events]))\n",
    "        df.at[i, 'kde'] = kde"
   ]
  },
  {
   "cell_type": "markdown",
   "metadata": {},
   "source": [
    "# Plot"
   ]
  },
  {
   "cell_type": "code",
   "execution_count": 12,
   "metadata": {},
   "outputs": [],
   "source": [
    "from neuroprobnum.utils.figure_utils import plot_stim, plot_vs, plot_events, plot_kde\n",
    "from neuroprobnum.utils.metric_utils import compute_kde\n",
    "\n",
    "def plot_row(axs, row, nraster=10):\n",
    "    \n",
    "    assert axs.size == 5, axs.size\n",
    "    \n",
    "    stim_ts = np.arange(t0, tmax, 0.01)\n",
    "    plot_stim(ax=axs[0], ts=stim_ts, stim=[row.stimfun.get_I_at_t(t=t) for t in stim_ts])\n",
    "\n",
    "    plot_vs(ax=axs[1], ts=row.acc_ts, vs=row.acc_vs, c='k')\n",
    "    plot_vs(ax=axs[2], ts=row.det_ts, vs=row.det_vs, c='C1')    \n",
    "    plot_kde(ax=axs[3], kde_ts=row.kde_ts, kde=row.kde)\n",
    "    plot_events(ax=axs[4], events=row.events[:nraster] if nraster > 0 else None, event_traces={'det.': (row.det_events[0], 'C1'), 'ref.': (row.acc_events[0], 'k')}, lw=1)\n",
    "    \n",
    "    pltu.make_share_xlims(axs)\n",
    "    \n",
    "    for ax in axs[:-1]:\n",
    "        ax.set_xlabel(None)\n",
    "        ax.set_xticks([])\n",
    "        ax.spines['bottom'].set_visible(False)"
   ]
  },
  {
   "cell_type": "code",
   "execution_count": 13,
   "metadata": {},
   "outputs": [
    {
     "data": {
      "image/png": "[encoded data removed]",
      "text/plain": [
       "<Figure size 758.74x240 with 5 Axes>"
      ]
     },
     "metadata": {},
     "output_type": "display_data"
    }
   ],
   "source": [
    "fig, axs = pltu.subplots(1, 5, ysizerow=0.34, yoffsize=0.3, xsize='fullwidth', gridspec_kw=dict(height_ratios=[0.08, 0.25, 0.25, 0.25, 0.75]))\n",
    "despine()\n",
    "  \n",
    "assert len(df) == 1\n",
    "plot_row(axs=axs, row=df.iloc[0], nraster=5)\n",
    "\n",
    "# Adjust spacing\n",
    "mode_spacing = 0.085\n",
    "plt.tight_layout(h_pad=0.3, rect=[0, 0, 1, 1])    \n",
    "pltu.set_labs(axs[0], panel_nums='auto', panel_num_space=4, panel_num_va='top', panel_num_y=1.1)\n",
    "fig.align_ylabels()\n",
    "fig.align_xlabels()\n",
    "\n",
    "pltu.savefig(\"fig2_a\")\n",
    "plt.show()"
   ]
  },
  {
   "cell_type": "markdown",
   "metadata": {},
   "source": [
    "# Text"
   ]
  },
  {
   "cell_type": "code",
   "execution_count": 14,
   "metadata": {},
   "outputs": [],
   "source": [
    "row = df.iloc[0]"
   ]
  },
  {
   "cell_type": "code",
   "execution_count": 15,
   "metadata": {},
   "outputs": [
    {
     "name": "stdout",
     "output_type": "stream",
     "text": [
      "Det error 0 = 0.6\n",
      "Det error 1 = 2.3\n",
      "Det error 2 = 4.0\n"
     ]
    }
   ],
   "source": [
    "for i in range(3):\n",
    "    error = np.abs(row.det_events[0][i] - row.acc_events[0][i])\n",
    "    print(f\"Det error {i} = {error:.1f}\")"
   ]
  },
  {
   "cell_type": "code",
   "execution_count": 16,
   "metadata": {},
   "outputs": [
    {
     "name": "stdout",
     "output_type": "stream",
     "text": [
      "SD of spike 0 = 0.2\n",
      "SD of spike 1 = 0.9\n",
      "SD of spike 2 = 1.1\n"
     ]
    }
   ],
   "source": [
    "#for i in range(3):\n",
    "#    errors = np.array([e_list[0][i] for e_list in row.events]) - row.acc_events[0][i]\n",
    "#    print(f\"Mean error of spike {i} = {np.mean(errors):.1f}\")\n",
    "\n",
    "for i in range(3):\n",
    "    print(f\"SD of spike {i} = {np.std([e_list[0][i] for e_list in row.events], ddof=1):.1f}\")"
   ]
  },
  {
   "cell_type": "code",
   "execution_count": null,
   "metadata": {},
   "outputs": [],
   "source": []
  }
 ],
 "metadata": {
  "kernelspec": {
   "display_name": "Python 3 (ipykernel)",
   "language": "python",
   "name": "python3"
  },
  "language_info": {
   "codemirror_mode": {
    "name": "ipython",
    "version": 3
   },
   "file_extension": ".py",
   "mimetype": "text/x-python",
   "name": "python",
   "nbconvert_exporter": "python",
   "pygments_lexer": "ipython3",
   "version": "3.8.10"
  },
  "toc": {
   "base_numbering": 1,
   "nav_menu": {},
   "number_sections": true,
   "sideBar": true,
   "skip_h1_title": false,
   "title_cell": "Table of Contents",
   "title_sidebar": "Contents",
   "toc_cell": false,
   "toc_position": {
    "height": "calc(100% - 180px)",
    "left": "10px",
    "top": "150px",
    "width": "383.949px"
   },
   "toc_section_display": true,
   "toc_window_display": true
  },
  "varInspector": {
   "cols": {
    "lenName": 16,
    "lenType": 16,
    "lenVar": 40
   },
   "kernels_config": {
    "python": {
     "delete_cmd_postfix": "",
     "delete_cmd_prefix": "del ",
     "library": "var_list.py",
     "varRefreshCmd": "print(var_dic_list())"
    },
    "r": {
     "delete_cmd_postfix": ") ",
     "delete_cmd_prefix": "rm(",
     "library": "var_list.r",
     "varRefreshCmd": "cat(var_dic_list()) "
    }
   },
   "types_to_exclude": [
    "module",
    "function",
    "builtin_function_or_method",
    "instance",
    "_Feature"
   ],
   "window_display": false
  }
 },
 "nbformat": 4,
 "nbformat_minor": 4
}
