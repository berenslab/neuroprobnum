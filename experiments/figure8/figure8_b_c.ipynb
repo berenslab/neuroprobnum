{
 "cells": [
  {
   "cell_type": "markdown",
   "metadata": {
    "tags": []
   },
   "source": [
    "# Izhikevich neuron model\n",
    "\n",
    "Figure 2a is generated together with figure 2b and 2c."
   ]
  },
  {
   "cell_type": "code",
   "execution_count": 1,
   "metadata": {},
   "outputs": [],
   "source": [
    "%load_ext autoreload\n",
    "%autoreload 2"
   ]
  },
  {
   "cell_type": "code",
   "execution_count": 2,
   "metadata": {},
   "outputs": [],
   "source": [
    "import numpy as np\n",
    "from matplotlib import pyplot as plt\n",
    "from seaborn import despine\n",
    "from itertools import product as itproduct"
   ]
  },
  {
   "cell_type": "code",
   "execution_count": 3,
   "metadata": {},
   "outputs": [],
   "source": [
    "from neuroprobnum.utils import plot_utils as pltu"
   ]
  },
  {
   "cell_type": "markdown",
   "metadata": {},
   "source": [
    "# Select modes"
   ]
  },
  {
   "cell_type": "code",
   "execution_count": 4,
   "metadata": {},
   "outputs": [],
   "source": [
    "# Select modes to generate data for.\n",
    "neuron_modes = [\n",
    "    'DAP',\n",
    "]"
   ]
  },
  {
   "cell_type": "markdown",
   "metadata": {},
   "source": [
    "# Generator"
   ]
  },
  {
   "cell_type": "code",
   "execution_count": 5,
   "metadata": {},
   "outputs": [
    {
     "name": "stdout",
     "output_type": "stream",
     "text": [
      "Not acc sols file found!\n"
     ]
    }
   ],
   "source": [
    "from neuroprobnum.models.izhikevich import INmodel, INParameters\n",
    "from neuroprobnum.generator.generator_in import DataGeneratorIN\n",
    "\n",
    "gens = {}\n",
    "\n",
    "for neuron_mode in neuron_modes:\n",
    "    neuron_parameters, stimulus_parameters, t_parameters = INParameters().select_mode(neuron_mode)\n",
    "    neuron = INmodel(neuron_parameters, stimulus_parameters)\n",
    "    tmax = t_parameters['tmax']\n",
    "\n",
    "    # Generate solver instance.\n",
    "    gens[neuron_mode] = DataGeneratorIN(\n",
    "        y0=neuron.y0, t0=0.0, tmax=t_parameters['tmax'], gen_acc_sols=True,\n",
    "        model=neuron, n_samples=40, n_parallel=20,\n",
    "        base_folder='data'\n",
    "    )\n",
    "    gens[neuron_mode].subfoldername = neuron_mode\n",
    "    gens[neuron_mode].load_acc_sols_from_file()    "
   ]
  },
  {
   "cell_type": "markdown",
   "metadata": {},
   "source": [
    "## Generate data"
   ]
  },
  {
   "cell_type": "code",
   "execution_count": 6,
   "metadata": {},
   "outputs": [],
   "source": [
    "# pert_method, adaptive, methods, step_params\n",
    "solver_params = [\n",
    "    ('abdulle_ln', 0, ['FE'], [0.5, 0.1, 0.02, 0.002]),\n",
    "    ('abdulle_ln', 2, ['FE'], [0.5, 0.1, 0.02, 0.002]),\n",
    "    \n",
    "    ('conrad', 0, ['RKBS', 'RKDP'], [0.5, 0.1, 0.02, 0.002]),\n",
    "    ('conrad', 2, ['RKBS', 'RKDP'], [0.5, 0.1, 0.02, 0.002]),\n",
    "]"
   ]
  },
  {
   "cell_type": "code",
   "execution_count": 7,
   "metadata": {},
   "outputs": [
    {
     "name": "stdout",
     "output_type": "stream",
     "text": [
      "----------------------------------------------------------\n",
      "DAP : DAP\n",
      "----------------------------------------------------------\n",
      "                                 FE_f(0.5)_abdulle_ln(1).pkl --> Generate data because file was not found.\n",
      "No acc_sol found. Create reference solution!\n",
      "\u001b[5;30;41m1 times the following warning: inefficient\u001b[0m\n",
      "                                 FE_f(0.1)_abdulle_ln(1).pkl --> Generate data because file was not found.\n",
      "                                FE_f(0.02)_abdulle_ln(1).pkl --> Generate data because file was not found.\n",
      "                               FE_f(0.002)_abdulle_ln(1).pkl --> Generate data because file was not found.\n",
      "                                FE_pf(0.5)_abdulle_ln(1).pkl --> Generate data because file was not found.\n",
      "                                FE_pf(0.1)_abdulle_ln(1).pkl --> Generate data because file was not found.\n",
      "                               FE_pf(0.02)_abdulle_ln(1).pkl --> Generate data because file was not found.\n",
      "                              FE_pf(0.002)_abdulle_ln(1).pkl --> Generate data because file was not found.\n",
      "                                   RKBS_f(0.5)_conrad(1).pkl --> Generate data because file was not found.\n",
      "                                   RKDP_f(0.5)_conrad(1).pkl --> Generate data because file was not found.\n",
      "                                   RKBS_f(0.1)_conrad(1).pkl --> Generate data because file was not found.\n",
      "                                   RKDP_f(0.1)_conrad(1).pkl --> Generate data because file was not found.\n",
      "                                  RKBS_f(0.02)_conrad(1).pkl --> Generate data because file was not found.\n",
      "                                  RKDP_f(0.02)_conrad(1).pkl --> Generate data because file was not found.\n",
      "                                 RKBS_f(0.002)_conrad(1).pkl --> Generate data because file was not found.\n",
      "                                 RKDP_f(0.002)_conrad(1).pkl --> Generate data because file was not found.\n",
      "                                  RKBS_pf(0.5)_conrad(1).pkl --> Generate data because file was not found.\n",
      "                                  RKDP_pf(0.5)_conrad(1).pkl --> Generate data because file was not found.\n",
      "                                  RKBS_pf(0.1)_conrad(1).pkl --> Generate data because file was not found.\n",
      "                                  RKDP_pf(0.1)_conrad(1).pkl --> Generate data because file was not found.\n",
      "                                 RKBS_pf(0.02)_conrad(1).pkl --> Generate data because file was not found.\n",
      "                                 RKDP_pf(0.02)_conrad(1).pkl --> Generate data because file was not found.\n",
      "                                RKBS_pf(0.002)_conrad(1).pkl --> Generate data because file was not found.\n",
      "                                RKDP_pf(0.002)_conrad(1).pkl --> Generate data because file was not found.\n"
     ]
    }
   ],
   "source": [
    "for neuron_mode, gen in gens.items():\n",
    "    \n",
    "    print('----------------------------------------------------------')\n",
    "    print(neuron_mode, ':', gen.subfoldername)\n",
    "    print('----------------------------------------------------------') \n",
    "    \n",
    "    for pert_method, adaptive, methods, step_params in solver_params:\n",
    "        for step_param, method in itproduct(step_params, methods):\n",
    "            gen.gen_and_save_data(\n",
    "                method=method, adaptive=adaptive, step_param=step_param,\n",
    "                pert_method=pert_method, overwrite=False\n",
    "            )"
   ]
  },
  {
   "cell_type": "code",
   "execution_count": 8,
   "metadata": {},
   "outputs": [],
   "source": [
    "from neuroprobnum.generator.dataloader import DataLoader\n",
    "import pandas as pd\n",
    "\n",
    "df = pd.DataFrame()\n",
    "for mode, gen in gens.items():\n",
    "    mode_df = DataLoader(gen).load_data2dataframe(solver_params, drop_traces=False, MAEs=False, allowgenerror=False)\n",
    "    mode_df['neuron'] = mode\n",
    "    df = df.append(mode_df, ignore_index=True)\n",
    "    \n",
    "df['acc_n_spikes'] = df.acc_events.apply(lambda x: len(x[0]))\n",
    "df['n_spikes'] = df.events.apply(lambda x: np.array([len(xi[0]) for xi in x]))"
   ]
  },
  {
   "cell_type": "code",
   "execution_count": 9,
   "metadata": {},
   "outputs": [
    {
     "data": {
      "text/html": [
       "<div>\n",
       "<style scoped>\n",
       "    .dataframe tbody tr th:only-of-type {\n",
       "        vertical-align: middle;\n",
       "    }\n",
       "\n",
       "    .dataframe tbody tr th {\n",
       "        vertical-align: top;\n",
       "    }\n",
       "\n",
       "    .dataframe thead th {\n",
       "        text-align: right;\n",
       "    }\n",
       "</style>\n",
       "<table border=\"1\" class=\"dataframe\">\n",
       "  <thead>\n",
       "    <tr style=\"text-align: right;\">\n",
       "      <th></th>\n",
       "      <th>acc_events</th>\n",
       "      <th>acc_ts</th>\n",
       "      <th>acc_vs</th>\n",
       "      <th>adaptive</th>\n",
       "      <th>events</th>\n",
       "      <th>method</th>\n",
       "      <th>nODEcalls</th>\n",
       "      <th>n_samples</th>\n",
       "      <th>pert_method</th>\n",
       "      <th>pert_param</th>\n",
       "      <th>run_times</th>\n",
       "      <th>step_param</th>\n",
       "      <th>t0</th>\n",
       "      <th>tmax</th>\n",
       "      <th>ts</th>\n",
       "      <th>vs</th>\n",
       "      <th>neuron</th>\n",
       "      <th>acc_n_spikes</th>\n",
       "      <th>n_spikes</th>\n",
       "    </tr>\n",
       "  </thead>\n",
       "  <tbody>\n",
       "    <tr>\n",
       "      <th>0</th>\n",
       "      <td>[[11.096424201414727, 14.818559816131469, 19.5...</td>\n",
       "      <td>[0.0, 0.01, 0.02, 0.03, 0.04, 0.05, 0.06000000...</td>\n",
       "      <td>[-70.0, -70.0, -70.0, -70.0, -70.0, -70.0, -70...</td>\n",
       "      <td>0</td>\n",
       "      <td>[[[12.5]], [[12.5]], [[12.0, 17.5, 23.0]], [[]...</td>\n",
       "      <td>FE</td>\n",
       "      <td>[100, 100, 100, 100, 100, 100, 100, 100, 100, ...</td>\n",
       "      <td>40</td>\n",
       "      <td>abdulle_ln</td>\n",
       "      <td>1.0</td>\n",
       "      <td>[0.006284952163696289, 0.01580643653869629, 0....</td>\n",
       "      <td>0.500</td>\n",
       "      <td>0.0</td>\n",
       "      <td>50.0</td>\n",
       "      <td>[0.0, 0.5, 1.0, 1.5, 2.0, 2.5, 3.0, 3.5, 4.0, ...</td>\n",
       "      <td>[[-70.0, -69.99999999999999, -70.0, -69.999999...</td>\n",
       "      <td>DAP</td>\n",
       "      <td>8</td>\n",
       "      <td>[1, 1, 3, 0, 1, 2, 2, 1, 1, 1, 1, 1, 2, 2, 1, ...</td>\n",
       "    </tr>\n",
       "    <tr>\n",
       "      <th>1</th>\n",
       "      <td>[[11.096424201414727, 14.818559816131469, 19.5...</td>\n",
       "      <td>[0.0, 0.01, 0.02, 0.03, 0.04, 0.05, 0.06000000...</td>\n",
       "      <td>[-70.0, -70.0, -70.0, -70.0, -70.0, -70.0, -70...</td>\n",
       "      <td>0</td>\n",
       "      <td>[[[11.4, 15.700000000000001]], [[11.4, 15.6000...</td>\n",
       "      <td>FE</td>\n",
       "      <td>[500, 500, 500, 500, 500, 500, 500, 500, 500, ...</td>\n",
       "      <td>40</td>\n",
       "      <td>abdulle_ln</td>\n",
       "      <td>1.0</td>\n",
       "      <td>[0.031210899353027344, 0.029747486114501953, 0...</td>\n",
       "      <td>0.100</td>\n",
       "      <td>0.0</td>\n",
       "      <td>50.0</td>\n",
       "      <td>[0.0, 0.1, 0.2, 0.30000000000000004, 0.4, 0.5,...</td>\n",
       "      <td>[[-70.0, -70.0, -70.0, -70.0, -70.0, -70.0, -7...</td>\n",
       "      <td>DAP</td>\n",
       "      <td>8</td>\n",
       "      <td>[2, 2, 4, 2, 2, 2, 2, 2, 2, 3, 3, 3, 2, 2, 2, ...</td>\n",
       "    </tr>\n",
       "    <tr>\n",
       "      <th>2</th>\n",
       "      <td>[[11.096424201414727, 14.818559816131469, 19.5...</td>\n",
       "      <td>[0.0, 0.01, 0.02, 0.03, 0.04, 0.05, 0.06000000...</td>\n",
       "      <td>[-70.0, -70.0, -70.0, -70.0, -70.0, -70.0, -70...</td>\n",
       "      <td>0</td>\n",
       "      <td>[[[11.200000000000001, 15.26, 20.38, 26.900000...</td>\n",
       "      <td>FE</td>\n",
       "      <td>[2500, 2500, 2500, 2500, 2500, 2500, 2500, 250...</td>\n",
       "      <td>40</td>\n",
       "      <td>abdulle_ln</td>\n",
       "      <td>1.0</td>\n",
       "      <td>[0.1302962303161621, 0.1309187412261963, 0.129...</td>\n",
       "      <td>0.020</td>\n",
       "      <td>0.0</td>\n",
       "      <td>50.0</td>\n",
       "      <td>[0.0, 0.02, 0.04, 0.06, 0.08, 0.1, 0.12, 0.14,...</td>\n",
       "      <td>[[-70.0, -70.0, -70.0, -70.0, -70.0, -70.0, -7...</td>\n",
       "      <td>DAP</td>\n",
       "      <td>8</td>\n",
       "      <td>[5, 6, 6, 6, 6, 6, 7, 6, 7, 6, 6, 7, 7, 6, 7, ...</td>\n",
       "    </tr>\n",
       "    <tr>\n",
       "      <th>3</th>\n",
       "      <td>[[11.096424201414727, 14.818559816131469, 19.5...</td>\n",
       "      <td>[0.0, 0.01, 0.02, 0.03, 0.04, 0.05, 0.06000000...</td>\n",
       "      <td>[-70.0, -70.0, -70.0, -70.0, -70.0, -70.0, -70...</td>\n",
       "      <td>0</td>\n",
       "      <td>[[[11.104000000000001, 14.84, 19.638, 25.168, ...</td>\n",
       "      <td>FE</td>\n",
       "      <td>[25000, 25000, 25000, 25000, 25000, 25000, 250...</td>\n",
       "      <td>40</td>\n",
       "      <td>abdulle_ln</td>\n",
       "      <td>1.0</td>\n",
       "      <td>[1.2848045825958252, 1.3025538921356201, 1.291...</td>\n",
       "      <td>0.002</td>\n",
       "      <td>0.0</td>\n",
       "      <td>50.0</td>\n",
       "      <td>[0.0, 0.002, 0.004, 0.006, 0.008, 0.01, 0.012,...</td>\n",
       "      <td>[[-70.0, -70.0, -70.0, -70.0, -70.0, -70.0, -7...</td>\n",
       "      <td>DAP</td>\n",
       "      <td>8</td>\n",
       "      <td>[8, 8, 8, 8, 8, 8, 8, 8, 8, 8, 8, 8, 8, 8, 8, ...</td>\n",
       "    </tr>\n",
       "    <tr>\n",
       "      <th>4</th>\n",
       "      <td>[[11.096424201414727, 14.818559816131469, 19.5...</td>\n",
       "      <td>[0.0, 0.01, 0.02, 0.03, 0.04, 0.05, 0.06000000...</td>\n",
       "      <td>[-70.0, -70.0, -70.0, -70.0, -70.0, -70.0, -70...</td>\n",
       "      <td>2</td>\n",
       "      <td>[[[12.419577212601757, 17.505420726925802, 25....</td>\n",
       "      <td>FE</td>\n",
       "      <td>[106, 101, 101, 100, 104, 101, 103, 103, 107, ...</td>\n",
       "      <td>40</td>\n",
       "      <td>abdulle_ln</td>\n",
       "      <td>1.0</td>\n",
       "      <td>[0.01943349838256836, 0.00807499885559082, 0.0...</td>\n",
       "      <td>0.500</td>\n",
       "      <td>0.0</td>\n",
       "      <td>50.0</td>\n",
       "      <td>[0.0, 0.5, 1.0, 1.5, 2.0, 2.5, 3.0, 3.5, 4.0, ...</td>\n",
       "      <td>[[-70.0, -69.99999999999999, -70.0, -69.999999...</td>\n",
       "      <td>DAP</td>\n",
       "      <td>8</td>\n",
       "      <td>[6, 1, 1, 0, 4, 1, 3, 3, 7, 6, 6, 3, 1, 3, 2, ...</td>\n",
       "    </tr>\n",
       "  </tbody>\n",
       "</table>\n",
       "</div>"
      ],
      "text/plain": [
       "                                          acc_events  \\\n",
       "0  [[11.096424201414727, 14.818559816131469, 19.5...   \n",
       "1  [[11.096424201414727, 14.818559816131469, 19.5...   \n",
       "2  [[11.096424201414727, 14.818559816131469, 19.5...   \n",
       "3  [[11.096424201414727, 14.818559816131469, 19.5...   \n",
       "4  [[11.096424201414727, 14.818559816131469, 19.5...   \n",
       "\n",
       "                                              acc_ts  \\\n",
       "0  [0.0, 0.01, 0.02, 0.03, 0.04, 0.05, 0.06000000...   \n",
       "1  [0.0, 0.01, 0.02, 0.03, 0.04, 0.05, 0.06000000...   \n",
       "2  [0.0, 0.01, 0.02, 0.03, 0.04, 0.05, 0.06000000...   \n",
       "3  [0.0, 0.01, 0.02, 0.03, 0.04, 0.05, 0.06000000...   \n",
       "4  [0.0, 0.01, 0.02, 0.03, 0.04, 0.05, 0.06000000...   \n",
       "\n",
       "                                              acc_vs  adaptive  \\\n",
       "0  [-70.0, -70.0, -70.0, -70.0, -70.0, -70.0, -70...         0   \n",
       "1  [-70.0, -70.0, -70.0, -70.0, -70.0, -70.0, -70...         0   \n",
       "2  [-70.0, -70.0, -70.0, -70.0, -70.0, -70.0, -70...         0   \n",
       "3  [-70.0, -70.0, -70.0, -70.0, -70.0, -70.0, -70...         0   \n",
       "4  [-70.0, -70.0, -70.0, -70.0, -70.0, -70.0, -70...         2   \n",
       "\n",
       "                                              events method  \\\n",
       "0  [[[12.5]], [[12.5]], [[12.0, 17.5, 23.0]], [[]...     FE   \n",
       "1  [[[11.4, 15.700000000000001]], [[11.4, 15.6000...     FE   \n",
       "2  [[[11.200000000000001, 15.26, 20.38, 26.900000...     FE   \n",
       "3  [[[11.104000000000001, 14.84, 19.638, 25.168, ...     FE   \n",
       "4  [[[12.419577212601757, 17.505420726925802, 25....     FE   \n",
       "\n",
       "                                           nODEcalls  n_samples pert_method  \\\n",
       "0  [100, 100, 100, 100, 100, 100, 100, 100, 100, ...         40  abdulle_ln   \n",
       "1  [500, 500, 500, 500, 500, 500, 500, 500, 500, ...         40  abdulle_ln   \n",
       "2  [2500, 2500, 2500, 2500, 2500, 2500, 2500, 250...         40  abdulle_ln   \n",
       "3  [25000, 25000, 25000, 25000, 25000, 25000, 250...         40  abdulle_ln   \n",
       "4  [106, 101, 101, 100, 104, 101, 103, 103, 107, ...         40  abdulle_ln   \n",
       "\n",
       "   pert_param                                          run_times  step_param  \\\n",
       "0         1.0  [0.006284952163696289, 0.01580643653869629, 0....       0.500   \n",
       "1         1.0  [0.031210899353027344, 0.029747486114501953, 0...       0.100   \n",
       "2         1.0  [0.1302962303161621, 0.1309187412261963, 0.129...       0.020   \n",
       "3         1.0  [1.2848045825958252, 1.3025538921356201, 1.291...       0.002   \n",
       "4         1.0  [0.01943349838256836, 0.00807499885559082, 0.0...       0.500   \n",
       "\n",
       "    t0  tmax                                                 ts  \\\n",
       "0  0.0  50.0  [0.0, 0.5, 1.0, 1.5, 2.0, 2.5, 3.0, 3.5, 4.0, ...   \n",
       "1  0.0  50.0  [0.0, 0.1, 0.2, 0.30000000000000004, 0.4, 0.5,...   \n",
       "2  0.0  50.0  [0.0, 0.02, 0.04, 0.06, 0.08, 0.1, 0.12, 0.14,...   \n",
       "3  0.0  50.0  [0.0, 0.002, 0.004, 0.006, 0.008, 0.01, 0.012,...   \n",
       "4  0.0  50.0  [0.0, 0.5, 1.0, 1.5, 2.0, 2.5, 3.0, 3.5, 4.0, ...   \n",
       "\n",
       "                                                  vs neuron  acc_n_spikes  \\\n",
       "0  [[-70.0, -69.99999999999999, -70.0, -69.999999...    DAP             8   \n",
       "1  [[-70.0, -70.0, -70.0, -70.0, -70.0, -70.0, -7...    DAP             8   \n",
       "2  [[-70.0, -70.0, -70.0, -70.0, -70.0, -70.0, -7...    DAP             8   \n",
       "3  [[-70.0, -70.0, -70.0, -70.0, -70.0, -70.0, -7...    DAP             8   \n",
       "4  [[-70.0, -69.99999999999999, -70.0, -69.999999...    DAP             8   \n",
       "\n",
       "                                            n_spikes  \n",
       "0  [1, 1, 3, 0, 1, 2, 2, 1, 1, 1, 1, 1, 2, 2, 1, ...  \n",
       "1  [2, 2, 4, 2, 2, 2, 2, 2, 2, 3, 3, 3, 2, 2, 2, ...  \n",
       "2  [5, 6, 6, 6, 6, 6, 7, 6, 7, 6, 6, 7, 7, 6, 7, ...  \n",
       "3  [8, 8, 8, 8, 8, 8, 8, 8, 8, 8, 8, 8, 8, 8, 8, ...  \n",
       "4  [6, 1, 1, 0, 4, 1, 3, 3, 7, 6, 6, 3, 1, 3, 2, ...  "
      ]
     },
     "execution_count": 9,
     "metadata": {},
     "output_type": "execute_result"
    }
   ],
   "source": [
    "df.head()"
   ]
  },
  {
   "cell_type": "markdown",
   "metadata": {},
   "source": [
    "# Plots"
   ]
  },
  {
   "cell_type": "code",
   "execution_count": 10,
   "metadata": {},
   "outputs": [],
   "source": [
    "def plot_n_spikes(ax, adaptive, methods, step_params, maketitle=True):\n",
    "    \"\"\"Plot number of spikes for different solver settings\"\"\"\n",
    "    \n",
    "    for idx_method, method in enumerate(methods):\n",
    "        data_rows = df[(df.method==method) & (df.adaptive==adaptive)].sort_values('step_param', ascending=False)\n",
    "        assert np.all(data_rows.step_param.values == step_params), f\"{data_rows.step_param.values} {step_params}\"\n",
    "\n",
    "        n_spikes = data_rows.n_spikes.values\n",
    "        \n",
    "        assert data_rows.pert_method.nunique() == 1\n",
    "        \n",
    "        pltu.plot_percentiles(\n",
    "            ax, data=n_spikes,\n",
    "            positions=pltu.get_x_positions(n_positions=len(step_params), idx=idx_method, n_idxs=len(methods), offset=0.22),\n",
    "            color=pltu.method2color(method),\n",
    "            marker=pltu.method2marker(method),\n",
    "            outl_kw=dict(clip_on=False),\n",
    "            mean_kw=dict(clip_on=False, ms=4, ls='none', label=pltu.method2label(method=method, pert_method=data_rows.pert_method.iloc[0])),\n",
    "            line_kw=dict(clip_on=False),\n",
    "            connect=False,\n",
    "        )\n",
    "    \n",
    "    assert data_rows.acc_n_spikes.nunique() == 1\n",
    "    ax.axhline(data_rows.acc_n_spikes.iloc[0], c='grey', ls='--', zorder=-20)\n",
    "        \n",
    "        \n",
    "    #if maketitle: ax.set_title(pltu.mode2label(adaptive))\n",
    "    ax.set_xticks(np.arange(len(step_params)))\n",
    "    ax.set_xticklabels([pltu.step_param2tick(step_param, adaptive) for step_param in step_params])\n",
    "    ax.set_ylabel('No. spikes')\n",
    "    ax.set_xlabel(pltu.mode2xlabel(adaptive, time_unit='ms'))"
   ]
  },
  {
   "cell_type": "markdown",
   "metadata": {},
   "source": [
    "## Figure"
   ]
  },
  {
   "cell_type": "code",
   "execution_count": 12,
   "metadata": {},
   "outputs": [
    {
     "data": {
      "image/png": "[encoded data removed]",
      "text/plain": [
       "<Figure size 312x300 with 8 Axes>"
      ]
     },
     "metadata": {},
     "output_type": "display_data"
    }
   ],
   "source": [
    "np.random.seed(777)\n",
    "\n",
    "### Prepare axes ###\n",
    "fig, axs = pltu.subplots(1, 2, xsize=pltu.TEXT_WIDTH/2, ysize=2.5, sharey='col', sharex='col', squeeze=True)\n",
    "despine()\n",
    "\n",
    "### Plot data ###\n",
    "for ax, adaptive in zip(axs, [0, 2]):\n",
    "    plot_n_spikes(ax=ax, adaptive=adaptive, methods=['FE', 'RKBS', 'RKDP'], step_params=step_params)\n",
    "\n",
    "axs[0].set(yticks=[0, 2, 4, 6, 8])\n",
    "    \n",
    "### Decorate ### \n",
    "# Labels and ticks\n",
    "pltu.set_labs(axs, panel_num_space=6, panel_nums=['B', 'C'], panel_num_va='top')\n",
    "fig.align_labels(axs)\n",
    "\n",
    "axs[0].set_xlabel(None)\n",
    "    \n",
    "# Adjust axis spacing\n",
    "pltu.move_xaxis_outward(axs)\n",
    "pltu.tight_layout(rect=(0.01,0.01,0.98,1), w_pad=1.5)\n",
    "\n",
    "axs[0].legend(handlelength=0.8, loc='lower right')\n",
    "\n",
    "pltu.savefig(\"fig8b_c\")"
   ]
  },
  {
   "cell_type": "markdown",
   "metadata": {},
   "source": [
    "## Text"
   ]
  },
  {
   "cell_type": "code",
   "execution_count": 15,
   "metadata": {},
   "outputs": [],
   "source": [
    "_df = df[['method', 'adaptive', 'step_param', 'n_spikes']].assign(mean_n_spikes=df.n_spikes.apply(np.mean), std_n_spikes=df.n_spikes.apply(lambda x: np.std(x, ddof=1)),\n",
    "                                                                  q10_90_n_spikes=df.n_spikes.apply(lambda x: (np.percentile(x, q=10), np.percentile(x, q=90))))"
   ]
  },
  {
   "cell_type": "code",
   "execution_count": 16,
   "metadata": {},
   "outputs": [
    {
     "data": {
      "text/html": [
       "<div>\n",
       "<style scoped>\n",
       "    .dataframe tbody tr th:only-of-type {\n",
       "        vertical-align: middle;\n",
       "    }\n",
       "\n",
       "    .dataframe tbody tr th {\n",
       "        vertical-align: top;\n",
       "    }\n",
       "\n",
       "    .dataframe thead th {\n",
       "        text-align: right;\n",
       "    }\n",
       "</style>\n",
       "<table border=\"1\" class=\"dataframe\">\n",
       "  <thead>\n",
       "    <tr style=\"text-align: right;\">\n",
       "      <th></th>\n",
       "      <th>method</th>\n",
       "      <th>adaptive</th>\n",
       "      <th>step_param</th>\n",
       "      <th>n_spikes</th>\n",
       "      <th>mean_n_spikes</th>\n",
       "      <th>std_n_spikes</th>\n",
       "      <th>q10_90_n_spikes</th>\n",
       "    </tr>\n",
       "  </thead>\n",
       "  <tbody>\n",
       "    <tr>\n",
       "      <th>2</th>\n",
       "      <td>FE</td>\n",
       "      <td>0</td>\n",
       "      <td>0.02</td>\n",
       "      <td>[5, 6, 6, 6, 6, 6, 7, 6, 7, 6, 6, 7, 7, 6, 7, ...</td>\n",
       "      <td>5.900</td>\n",
       "      <td>1.032796</td>\n",
       "      <td>(4.0, 7.0)</td>\n",
       "    </tr>\n",
       "    <tr>\n",
       "      <th>10</th>\n",
       "      <td>RKBS</td>\n",
       "      <td>0</td>\n",
       "      <td>0.02</td>\n",
       "      <td>[7, 7, 7, 7, 6, 7, 7, 7, 4, 7, 7, 7, 5, 7, 7, ...</td>\n",
       "      <td>6.525</td>\n",
       "      <td>0.784056</td>\n",
       "      <td>(5.0, 7.0)</td>\n",
       "    </tr>\n",
       "    <tr>\n",
       "      <th>14</th>\n",
       "      <td>RKDP</td>\n",
       "      <td>0</td>\n",
       "      <td>0.02</td>\n",
       "      <td>[7, 7, 7, 6, 5, 7, 7, 7, 7, 7, 6, 7, 7, 6, 5, ...</td>\n",
       "      <td>6.650</td>\n",
       "      <td>0.662164</td>\n",
       "      <td>(5.9, 7.0)</td>\n",
       "    </tr>\n",
       "  </tbody>\n",
       "</table>\n",
       "</div>"
      ],
      "text/plain": [
       "   method  adaptive  step_param  \\\n",
       "2      FE         0        0.02   \n",
       "10   RKBS         0        0.02   \n",
       "14   RKDP         0        0.02   \n",
       "\n",
       "                                             n_spikes  mean_n_spikes  \\\n",
       "2   [5, 6, 6, 6, 6, 6, 7, 6, 7, 6, 6, 7, 7, 6, 7, ...          5.900   \n",
       "10  [7, 7, 7, 7, 6, 7, 7, 7, 4, 7, 7, 7, 5, 7, 7, ...          6.525   \n",
       "14  [7, 7, 7, 6, 5, 7, 7, 7, 7, 7, 6, 7, 7, 6, 5, ...          6.650   \n",
       "\n",
       "    std_n_spikes q10_90_n_spikes  \n",
       "2       1.032796      (4.0, 7.0)  \n",
       "10      0.784056      (5.0, 7.0)  \n",
       "14      0.662164      (5.9, 7.0)  "
      ]
     },
     "execution_count": 16,
     "metadata": {},
     "output_type": "execute_result"
    }
   ],
   "source": [
    "_df[(_df['step_param'] == 0.02) & (_df.adaptive == 0)].sort_values('method')"
   ]
  },
  {
   "cell_type": "code",
   "execution_count": 17,
   "metadata": {},
   "outputs": [
    {
     "data": {
      "text/html": [
       "<div>\n",
       "<style scoped>\n",
       "    .dataframe tbody tr th:only-of-type {\n",
       "        vertical-align: middle;\n",
       "    }\n",
       "\n",
       "    .dataframe tbody tr th {\n",
       "        vertical-align: top;\n",
       "    }\n",
       "\n",
       "    .dataframe thead th {\n",
       "        text-align: right;\n",
       "    }\n",
       "</style>\n",
       "<table border=\"1\" class=\"dataframe\">\n",
       "  <thead>\n",
       "    <tr style=\"text-align: right;\">\n",
       "      <th></th>\n",
       "      <th>method</th>\n",
       "      <th>adaptive</th>\n",
       "      <th>step_param</th>\n",
       "      <th>n_spikes</th>\n",
       "      <th>mean_n_spikes</th>\n",
       "      <th>std_n_spikes</th>\n",
       "      <th>q10_90_n_spikes</th>\n",
       "    </tr>\n",
       "  </thead>\n",
       "  <tbody>\n",
       "    <tr>\n",
       "      <th>4</th>\n",
       "      <td>FE</td>\n",
       "      <td>2</td>\n",
       "      <td>0.5</td>\n",
       "      <td>[6, 1, 1, 0, 4, 1, 3, 3, 7, 6, 6, 3, 1, 3, 2, ...</td>\n",
       "      <td>3.5</td>\n",
       "      <td>1.853617</td>\n",
       "      <td>(1.0, 6.0)</td>\n",
       "    </tr>\n",
       "    <tr>\n",
       "      <th>16</th>\n",
       "      <td>RKBS</td>\n",
       "      <td>2</td>\n",
       "      <td>0.5</td>\n",
       "      <td>[8, 5, 4, 4, 8, 4, 8, 7, 8, 5, 7, 2, 6, 7, 7, ...</td>\n",
       "      <td>6.3</td>\n",
       "      <td>1.697661</td>\n",
       "      <td>(4.0, 8.0)</td>\n",
       "    </tr>\n",
       "    <tr>\n",
       "      <th>20</th>\n",
       "      <td>RKDP</td>\n",
       "      <td>2</td>\n",
       "      <td>0.5</td>\n",
       "      <td>[8, 8, 8, 8, 8, 8, 8, 8, 8, 8, 8, 8, 8, 8, 8, ...</td>\n",
       "      <td>8.0</td>\n",
       "      <td>0.000000</td>\n",
       "      <td>(8.0, 8.0)</td>\n",
       "    </tr>\n",
       "  </tbody>\n",
       "</table>\n",
       "</div>"
      ],
      "text/plain": [
       "   method  adaptive  step_param  \\\n",
       "4      FE         2         0.5   \n",
       "16   RKBS         2         0.5   \n",
       "20   RKDP         2         0.5   \n",
       "\n",
       "                                             n_spikes  mean_n_spikes  \\\n",
       "4   [6, 1, 1, 0, 4, 1, 3, 3, 7, 6, 6, 3, 1, 3, 2, ...            3.5   \n",
       "16  [8, 5, 4, 4, 8, 4, 8, 7, 8, 5, 7, 2, 6, 7, 7, ...            6.3   \n",
       "20  [8, 8, 8, 8, 8, 8, 8, 8, 8, 8, 8, 8, 8, 8, 8, ...            8.0   \n",
       "\n",
       "    std_n_spikes q10_90_n_spikes  \n",
       "4       1.853617      (1.0, 6.0)  \n",
       "16      1.697661      (4.0, 8.0)  \n",
       "20      0.000000      (8.0, 8.0)  "
      ]
     },
     "execution_count": 17,
     "metadata": {},
     "output_type": "execute_result"
    }
   ],
   "source": [
    "_df[(_df['step_param'] == 0.5) & (_df.adaptive == 2)].sort_values('method')"
   ]
  },
  {
   "cell_type": "code",
   "execution_count": null,
   "metadata": {},
   "outputs": [],
   "source": []
  }
 ],
 "metadata": {
  "kernelspec": {
   "display_name": "Python 3",
   "language": "python",
   "name": "python3"
  },
  "language_info": {
   "codemirror_mode": {
    "name": "ipython",
    "version": 3
   },
   "file_extension": ".py",
   "mimetype": "text/x-python",
   "name": "python",
   "nbconvert_exporter": "python",
   "pygments_lexer": "ipython3",
   "version": "3.6.9"
  },
  "toc": {
   "base_numbering": 1,
   "nav_menu": {},
   "number_sections": true,
   "sideBar": true,
   "skip_h1_title": false,
   "title_cell": "Table of Contents",
   "title_sidebar": "Contents",
   "toc_cell": false,
   "toc_position": {
    "height": "calc(100% - 180px)",
    "left": "10px",
    "top": "150px",
    "width": "384px"
   },
   "toc_section_display": true,
   "toc_window_display": true
  },
  "varInspector": {
   "cols": {
    "lenName": 16,
    "lenType": 16,
    "lenVar": 40
   },
   "kernels_config": {
    "python": {
     "delete_cmd_postfix": "",
     "delete_cmd_prefix": "del ",
     "library": "var_list.py",
     "varRefreshCmd": "print(var_dic_list())"
    },
    "r": {
     "delete_cmd_postfix": ") ",
     "delete_cmd_prefix": "rm(",
     "library": "var_list.r",
     "varRefreshCmd": "cat(var_dic_list()) "
    }
   },
   "types_to_exclude": [
    "module",
    "function",
    "builtin_function_or_method",
    "instance",
    "_Feature"
   ],
   "window_display": false
  }
 },
 "nbformat": 4,
 "nbformat_minor": 4
}
