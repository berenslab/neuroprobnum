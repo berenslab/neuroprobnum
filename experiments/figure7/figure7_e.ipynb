{
 "cells": [
  {
   "cell_type": "markdown",
   "metadata": {},
   "source": [
    "# Relative run times\n",
    "\n",
    "Compute run times and computational overhead of perturbation"
   ]
  },
  {
   "cell_type": "code",
   "execution_count": 1,
   "metadata": {},
   "outputs": [],
   "source": [
    "%load_ext autoreload\n",
    "%autoreload 2"
   ]
  },
  {
   "cell_type": "code",
   "execution_count": 2,
   "metadata": {},
   "outputs": [],
   "source": [
    "import numpy as np\n",
    "import pandas as pd\n",
    "\n",
    "from matplotlib import pyplot as plt\n",
    "from seaborn import despine\n",
    "\n",
    "from itertools import product as itproduct"
   ]
  },
  {
   "cell_type": "code",
   "execution_count": 3,
   "metadata": {},
   "outputs": [],
   "source": [
    "from neuroprobnum.utils import math_utils\n",
    "from neuroprobnum.utils import plot_utils as pltu"
   ]
  },
  {
   "cell_type": "markdown",
   "metadata": {},
   "source": [
    "# Model"
   ]
  },
  {
   "cell_type": "code",
   "execution_count": 4,
   "metadata": {},
   "outputs": [
    {
     "name": "stdout",
     "output_type": "stream",
     "text": [
      "running build_ext\n",
      "\n"
     ]
    }
   ],
   "source": [
    "from neuroprobnum.models.hodgkin_huxley import compile_cython\n",
    "compile_cython()"
   ]
  },
  {
   "cell_type": "code",
   "execution_count": 5,
   "metadata": {},
   "outputs": [
    {
     "data": {
      "text/plain": [
       "HH_neuron"
      ]
     },
     "execution_count": 5,
     "metadata": {},
     "output_type": "execute_result"
    }
   ],
   "source": [
    "from neuroprobnum.models.hodgkin_huxley import HHNeuron\n",
    "\n",
    "neuron = HHNeuron()\n",
    "neuron"
   ]
  },
  {
   "cell_type": "code",
   "execution_count": 6,
   "metadata": {},
   "outputs": [
    {
     "data": {
      "image/png": "[encoded data removed]",
      "text/plain": [
       "<Figure size 720x96 with 1 Axes>"
      ]
     },
     "metadata": {},
     "output_type": "display_data"
    }
   ],
   "source": [
    "from neuroprobnum.utils import stim_utils\n",
    "\n",
    "t0, tmax = 0, 200\n",
    "stim_onset, stim_offset = 10, tmax-10\n",
    "stims = [\n",
    "    #stim_utils.IStimStep(Iamp=0.2, onset=stim_onset, offset=stim_offset, name='Step'),\n",
    "    stim_utils.IStimNoisy(Iamp=0.2, onset=stim_onset, offset=stim_offset, name='Noisy', nknots=101, seed=46),\n",
    "\n",
    "]\n",
    "for stim in stims: stim.plot(t0=t0, tmax=tmax)"
   ]
  },
  {
   "cell_type": "markdown",
   "metadata": {},
   "source": [
    "# Generator"
   ]
  },
  {
   "cell_type": "code",
   "execution_count": 7,
   "metadata": {},
   "outputs": [],
   "source": [
    "from neuroprobnum.generator.generator_hh import DataGeneratorHH\n",
    "from copy import deepcopy\n",
    "\n",
    "gens = {}\n",
    "\n",
    "for stim in stims:\n",
    "    \n",
    "    neuron = deepcopy(neuron)\n",
    "    neuron.get_Istim_at_t = stim.get_I_at_t\n",
    "    \n",
    "    gens[stim] = DataGeneratorHH(\n",
    "        y0=neuron.compute_yinf(-65), t0=t0, tmax=tmax,\n",
    "        t_eval_adaptive=math_utils.t_arange(t0, tmax, 1),\n",
    "        model=neuron, n_samples=100, n_parallel=20, dt_min_eval_fixed=0.1,\n",
    "        gen_det_sols=True, gen_acc_sols=True, acc_same_ts=True,\n",
    "        base_folder='data',\n",
    "    )\n",
    "    gens[stim].update_subfoldername(stim=stim.name)\n",
    "    gens[stim].load_acc_sols_from_file()    "
   ]
  },
  {
   "cell_type": "markdown",
   "metadata": {},
   "source": [
    "## Data"
   ]
  },
  {
   "cell_type": "code",
   "execution_count": 8,
   "metadata": {},
   "outputs": [],
   "source": [
    "# pert_method, adaptive, methods, step_params, pert_params\n",
    "solver_params = [\n",
    "    \n",
    "    ('abdulle_ln', 0, ['FE', 'EE', 'EEMP', 'RKBS', 'RKCK', 'RKDP'], [0.01], [1]),    \n",
    "    ('abdulle_ln', 1, ['RKBS', 'RKCK', 'RKDP'], [1e-4], [1]),\n",
    "    \n",
    "    ('conrad', 0, ['FE', 'RKBS', 'RKCK', 'RKDP'], [0.01], [1]),\n",
    "    ('conrad', 1, ['RKBS', 'RKCK', 'RKDP'], [1e-4], [1]),\n",
    "\n",
    "    (None, 0, ['FE', 'EE', 'EEMP', 'RKBS', 'RKCK', 'RKDP'], [0.01], ['None']),\n",
    "    (None, 1, ['RKBS', 'RKCK', 'RKDP'], [1e-4], ['None']),\n",
    "]"
   ]
  },
  {
   "cell_type": "code",
   "execution_count": 9,
   "metadata": {
    "scrolled": true
   },
   "outputs": [
    {
     "name": "stdout",
     "output_type": "stream",
     "text": [
      "----------------------------------------------------------\n",
      "IStimNoisy(0.2,t=[10,190],I=[0.00,0.00]) : stim_Noisy_tmax_200\n",
      "----------------------------------------------------------\n",
      "                                FE_f(0.01)_abdulle_ln(1).pkl --> Data already exists.\n",
      "                                EE_f(0.01)_abdulle_ln(1).pkl --> Data already exists.\n",
      "                              EEMP_f(0.01)_abdulle_ln(1).pkl --> Data already exists.\n",
      "                              RKBS_f(0.01)_abdulle_ln(1).pkl --> Data already exists.\n",
      "                              RKCK_f(0.01)_abdulle_ln(1).pkl --> Data already exists.\n",
      "                              RKDP_f(0.01)_abdulle_ln(1).pkl --> Data already exists.\n",
      "                            RKBS_a(0.0001)_abdulle_ln(1).pkl --> Data already exists.\n",
      "                            RKCK_a(0.0001)_abdulle_ln(1).pkl --> Data already exists.\n",
      "                            RKDP_a(0.0001)_abdulle_ln(1).pkl --> Data already exists.\n",
      "                                    FE_f(0.01)_conrad(1).pkl --> Data already exists.\n",
      "                                  RKBS_f(0.01)_conrad(1).pkl --> Data already exists.\n",
      "                                  RKCK_f(0.01)_conrad(1).pkl --> Data already exists.\n",
      "                                  RKDP_f(0.01)_conrad(1).pkl --> Data already exists.\n",
      "                                RKBS_a(0.0001)_conrad(1).pkl --> Data already exists.\n",
      "                                RKCK_a(0.0001)_conrad(1).pkl --> Data already exists.\n",
      "                                RKDP_a(0.0001)_conrad(1).pkl --> Data already exists.\n",
      "                                   FE_f(0.01)_None(None).pkl --> Data already exists.\n",
      "                                   EE_f(0.01)_None(None).pkl --> Data already exists.\n",
      "                                 EEMP_f(0.01)_None(None).pkl --> Data already exists.\n",
      "                                 RKBS_f(0.01)_None(None).pkl --> Data already exists.\n",
      "                                 RKCK_f(0.01)_None(None).pkl --> Data already exists.\n",
      "                                 RKDP_f(0.01)_None(None).pkl --> Data already exists.\n",
      "                               RKBS_a(0.0001)_None(None).pkl --> Data already exists.\n",
      "                               RKCK_a(0.0001)_None(None).pkl --> Data already exists.\n",
      "                               RKDP_a(0.0001)_None(None).pkl --> Data already exists.\n"
     ]
    }
   ],
   "source": [
    "for stim, gen in gens.items():\n",
    "    \n",
    "    print('----------------------------------------------------------')\n",
    "    print(stim, ':', gen.subfoldername)\n",
    "    print('----------------------------------------------------------')   \n",
    "    \n",
    "    for pert_method, adaptive, methods, step_params, pert_params in solver_params:\n",
    "        for step_param, method, pert_param in itproduct(step_params, methods, pert_params):\n",
    "            gen.gen_and_save_data(\n",
    "                method=method, adaptive=adaptive, step_param=step_param,\n",
    "                pert_method=pert_method, pert_param=pert_param, allowgenerror=False,\n",
    "                overwrite=False, \n",
    "            )"
   ]
  },
  {
   "cell_type": "markdown",
   "metadata": {},
   "source": [
    "# Load data"
   ]
  },
  {
   "cell_type": "code",
   "execution_count": 10,
   "metadata": {},
   "outputs": [],
   "source": [
    "from neuroprobnum.generator.dataloader import DataLoader\n",
    "\n",
    "df = pd.DataFrame()\n",
    "for stim, gen in gens.items():\n",
    "    stim_df = DataLoader(gen).load_data2dataframe(solver_params, drop_traces=False, MAEs=False)\n",
    "    stim_df['stimfun'] = stim\n",
    "    stim_df['stim'] = stim.name\n",
    "    #metric_utils.add_det_nODEcalls(stim_df, T=gen.tmax-gen.t0)\n",
    "    df = df.append(stim_df, ignore_index=True)\n",
    "    \n",
    "df.pert_method = df.pert_method.fillna(value='det.')\n",
    "df = df[['method', 'adaptive', 'pert_method', 'stim', 'run_times']] # Drop some columns"
   ]
  },
  {
   "cell_type": "markdown",
   "metadata": {},
   "source": [
    "## Sort data"
   ]
  },
  {
   "cell_type": "code",
   "execution_count": 11,
   "metadata": {},
   "outputs": [],
   "source": [
    "from sklearn.utils import resample\n",
    "\n",
    "n_boot = 10000\n",
    "\n",
    "plot_df = {\n",
    "    'solver': [],\n",
    "    'stim': [],\n",
    "    'method': [],\n",
    "    'adaptive': [],\n",
    "    'abdulle_ln_rel_run_times': [],  \n",
    "    'conrad_rel_run_times': [],\n",
    "}\n",
    "\n",
    "for (method, adaptive, stim), group in df.groupby(by=['method', 'adaptive', 'stim'], sort=False):\n",
    "    plot_df['solver'].append(pltu.method2label(method=method, adaptive=adaptive))\n",
    "    plot_df['method'].append(method)\n",
    "    plot_df['adaptive'].append(adaptive)\n",
    "    plot_df['stim'].append(stim)\n",
    "    \n",
    "    for pert_method in ['abdulle_ln', 'conrad']:\n",
    "        if group.run_times[group.pert_method==pert_method].size > 0:\n",
    "            prob_rel_run_times = resample(group.run_times[group.pert_method==pert_method].iloc[0], n_samples=n_boot, replace=True)\n",
    "            det_rel_run_times = resample(group.run_times[group.pert_method=='det.'].iloc[0], n_samples=n_boot, replace=True)\n",
    "            plot_df[f'{pert_method}_rel_run_times'].append(prob_rel_run_times / det_rel_run_times)\n",
    "        else:\n",
    "            plot_df[f'{pert_method}_rel_run_times'].append(np.full(1, np.nan))\n",
    "    \n",
    "plot_df = pd.DataFrame(plot_df)"
   ]
  },
  {
   "cell_type": "code",
   "execution_count": 12,
   "metadata": {},
   "outputs": [
    {
     "data": {
      "text/html": [
       "<div>\n",
       "<style scoped>\n",
       "    .dataframe tbody tr th:only-of-type {\n",
       "        vertical-align: middle;\n",
       "    }\n",
       "\n",
       "    .dataframe tbody tr th {\n",
       "        vertical-align: top;\n",
       "    }\n",
       "\n",
       "    .dataframe thead th {\n",
       "        text-align: right;\n",
       "    }\n",
       "</style>\n",
       "<table border=\"1\" class=\"dataframe\">\n",
       "  <thead>\n",
       "    <tr style=\"text-align: right;\">\n",
       "      <th></th>\n",
       "      <th>solver</th>\n",
       "      <th>stim</th>\n",
       "      <th>method</th>\n",
       "      <th>adaptive</th>\n",
       "      <th>abdulle_ln_rel_run_times</th>\n",
       "      <th>conrad_rel_run_times</th>\n",
       "    </tr>\n",
       "  </thead>\n",
       "  <tbody>\n",
       "    <tr>\n",
       "      <th>0</th>\n",
       "      <td>$\\mathrm{FE}_\\mathrm{{f}}$</td>\n",
       "      <td>Noisy</td>\n",
       "      <td>FE</td>\n",
       "      <td>0</td>\n",
       "      <td>[1.2265666426354753, 1.3263649083201394, 1.229...</td>\n",
       "      <td>[2.237293663083645, 2.247726306919181, 1.99209...</td>\n",
       "    </tr>\n",
       "    <tr>\n",
       "      <th>1</th>\n",
       "      <td>$\\mathrm{EE}_\\mathrm{{f}}$</td>\n",
       "      <td>Noisy</td>\n",
       "      <td>EE</td>\n",
       "      <td>0</td>\n",
       "      <td>[1.0995330110952823, 1.7870427910149018, 1.415...</td>\n",
       "      <td>[nan]</td>\n",
       "    </tr>\n",
       "    <tr>\n",
       "      <th>2</th>\n",
       "      <td>$\\mathrm{EEMP}_\\mathrm{{f}}$</td>\n",
       "      <td>Noisy</td>\n",
       "      <td>EEMP</td>\n",
       "      <td>0</td>\n",
       "      <td>[0.9965296181980254, 1.088119826870954, 1.1160...</td>\n",
       "      <td>[nan]</td>\n",
       "    </tr>\n",
       "    <tr>\n",
       "      <th>3</th>\n",
       "      <td>$\\mathrm{RKBS}_\\mathrm{{f}}$</td>\n",
       "      <td>Noisy</td>\n",
       "      <td>RKBS</td>\n",
       "      <td>0</td>\n",
       "      <td>[1.147969627806351, 1.1507666059412458, 1.1486...</td>\n",
       "      <td>[1.4542628173544379, 1.5978578969862742, 1.475...</td>\n",
       "    </tr>\n",
       "    <tr>\n",
       "      <th>4</th>\n",
       "      <td>$\\mathrm{RKCK}_\\mathrm{{f}}$</td>\n",
       "      <td>Noisy</td>\n",
       "      <td>RKCK</td>\n",
       "      <td>0</td>\n",
       "      <td>[0.9869494786785823, 1.1214193267706978, 1.244...</td>\n",
       "      <td>[1.1587292086627858, 1.1282220863522314, 1.179...</td>\n",
       "    </tr>\n",
       "    <tr>\n",
       "      <th>5</th>\n",
       "      <td>$\\mathrm{RKDP}_\\mathrm{{f}}$</td>\n",
       "      <td>Noisy</td>\n",
       "      <td>RKDP</td>\n",
       "      <td>0</td>\n",
       "      <td>[1.1175156919401137, 1.085382402914701, 1.1035...</td>\n",
       "      <td>[1.1981335026387947, 1.2033822646221202, 1.206...</td>\n",
       "    </tr>\n",
       "    <tr>\n",
       "      <th>6</th>\n",
       "      <td>$\\mathrm{RKBS}_\\mathrm{{a}}$</td>\n",
       "      <td>Noisy</td>\n",
       "      <td>RKBS</td>\n",
       "      <td>1</td>\n",
       "      <td>[1.3915959758577432, 1.3712144673742692, 1.240...</td>\n",
       "      <td>[1.1879758431062466, 1.2219132586611097, 1.197...</td>\n",
       "    </tr>\n",
       "    <tr>\n",
       "      <th>7</th>\n",
       "      <td>$\\mathrm{RKCK}_\\mathrm{{a}}$</td>\n",
       "      <td>Noisy</td>\n",
       "      <td>RKCK</td>\n",
       "      <td>1</td>\n",
       "      <td>[1.1544532634129612, 0.9078580122649238, 0.912...</td>\n",
       "      <td>[1.0587501917668116, 1.0690084753669213, 0.946...</td>\n",
       "    </tr>\n",
       "    <tr>\n",
       "      <th>8</th>\n",
       "      <td>$\\mathrm{RKDP}_\\mathrm{{a}}$</td>\n",
       "      <td>Noisy</td>\n",
       "      <td>RKDP</td>\n",
       "      <td>1</td>\n",
       "      <td>[1.0512094606701308, 1.1668094813110483, 1.030...</td>\n",
       "      <td>[1.2874663818822227, 1.146283061772299, 1.1472...</td>\n",
       "    </tr>\n",
       "  </tbody>\n",
       "</table>\n",
       "</div>"
      ],
      "text/plain": [
       "                         solver   stim method  adaptive  \\\n",
       "0    $\\mathrm{FE}_\\mathrm{{f}}$  Noisy     FE         0   \n",
       "1    $\\mathrm{EE}_\\mathrm{{f}}$  Noisy     EE         0   \n",
       "2  $\\mathrm{EEMP}_\\mathrm{{f}}$  Noisy   EEMP         0   \n",
       "3  $\\mathrm{RKBS}_\\mathrm{{f}}$  Noisy   RKBS         0   \n",
       "4  $\\mathrm{RKCK}_\\mathrm{{f}}$  Noisy   RKCK         0   \n",
       "5  $\\mathrm{RKDP}_\\mathrm{{f}}$  Noisy   RKDP         0   \n",
       "6  $\\mathrm{RKBS}_\\mathrm{{a}}$  Noisy   RKBS         1   \n",
       "7  $\\mathrm{RKCK}_\\mathrm{{a}}$  Noisy   RKCK         1   \n",
       "8  $\\mathrm{RKDP}_\\mathrm{{a}}$  Noisy   RKDP         1   \n",
       "\n",
       "                            abdulle_ln_rel_run_times  \\\n",
       "0  [1.2265666426354753, 1.3263649083201394, 1.229...   \n",
       "1  [1.0995330110952823, 1.7870427910149018, 1.415...   \n",
       "2  [0.9965296181980254, 1.088119826870954, 1.1160...   \n",
       "3  [1.147969627806351, 1.1507666059412458, 1.1486...   \n",
       "4  [0.9869494786785823, 1.1214193267706978, 1.244...   \n",
       "5  [1.1175156919401137, 1.085382402914701, 1.1035...   \n",
       "6  [1.3915959758577432, 1.3712144673742692, 1.240...   \n",
       "7  [1.1544532634129612, 0.9078580122649238, 0.912...   \n",
       "8  [1.0512094606701308, 1.1668094813110483, 1.030...   \n",
       "\n",
       "                                conrad_rel_run_times  \n",
       "0  [2.237293663083645, 2.247726306919181, 1.99209...  \n",
       "1                                              [nan]  \n",
       "2                                              [nan]  \n",
       "3  [1.4542628173544379, 1.5978578969862742, 1.475...  \n",
       "4  [1.1587292086627858, 1.1282220863522314, 1.179...  \n",
       "5  [1.1981335026387947, 1.2033822646221202, 1.206...  \n",
       "6  [1.1879758431062466, 1.2219132586611097, 1.197...  \n",
       "7  [1.0587501917668116, 1.0690084753669213, 0.946...  \n",
       "8  [1.2874663818822227, 1.146283061772299, 1.1472...  "
      ]
     },
     "execution_count": 12,
     "metadata": {},
     "output_type": "execute_result"
    }
   ],
   "source": [
    "plot_df"
   ]
  },
  {
   "cell_type": "markdown",
   "metadata": {},
   "source": [
    "# Plot"
   ]
  },
  {
   "cell_type": "code",
   "execution_count": 20,
   "metadata": {},
   "outputs": [
    {
     "data": {
      "image/png": "[encoded data removed]",
      "text/plain": [
       "<Figure size 758.74x144 with 3 Axes>"
      ]
     },
     "metadata": {},
     "output_type": "display_data"
    }
   ],
   "source": [
    "fig, ax = pltu.subplots(1, 1, ysizerow=1.2, xsize='fullwidth')\n",
    "pltu.move_xaxis_outward(ax, scale=3)\n",
    "pltu.set_labs(ax, panel_nums=['E'], panel_num_space=15, panel_num_va='top', panel_num_y=1.1)\n",
    "\n",
    "pert_methods = ['conrad', 'abdulle_ln']\n",
    "\n",
    "### Plot data ###\n",
    "for i, pert_method in enumerate(pert_methods):\n",
    "\n",
    "    if pert_method == 'conrad':\n",
    "        label = 'State perturbation'\n",
    "    elif pert_method == 'abdulle_ln':\n",
    "        label = 'Step-size perturbation'\n",
    "    else:\n",
    "        raise ValueError\n",
    "\n",
    "    positions = pltu.get_x_positions(n_positions=plot_df.shape[0], idx=i, n_idxs=len(pert_methods), offset=0.18)\n",
    "    pltu.plot_percentiles(\n",
    "        ax=ax, data=list(plot_df[f'{pert_method}_rel_run_times'].apply(lambda x: (x-1)*100)), positions=positions, connect=False,\n",
    "        color=['C0', 'C1'][i], marker=['o', 'o'][i], nan_text=False, nans_kw=dict(ls='none'),\n",
    "        mean_kw=dict(label=label, ls='None'), showflier=False\n",
    "    )\n",
    "    ax.set_xticks(np.arange(plot_df.shape[0]))\n",
    "    ax.set_xticklabels(list(plot_df.solver), rotation=0)\n",
    "    ax.set_yticks(np.arange(0, 101, 25))\n",
    "\n",
    "### Decorate ###\n",
    "ax.set_ylabel('Run time\\nincrease (%)')\n",
    "ax.legend(loc='upper right', frameon=True, bbox_to_anchor=(1,1), borderpad=0.5)\n",
    "pltu.tight_layout(pad=1, rect=(0.03, 0, 1, 1))\n",
    "despine()\n",
    "pltu.grid(ax, axis='y')\n",
    "pltu.savefig('fig7e')"
   ]
  },
  {
   "cell_type": "markdown",
   "metadata": {},
   "source": [
    "## Text"
   ]
  },
  {
   "cell_type": "code",
   "execution_count": 14,
   "metadata": {},
   "outputs": [
    {
     "name": "stdout",
     "output_type": "stream",
     "text": [
      "Noisy\n",
      "{FE}_{{f}} \t +113%\n",
      "Noisy\n",
      "{EE}_{{f}} \t +nan%\n",
      "Noisy\n",
      "{EEMP}_{{f}} \t +nan%\n",
      "Noisy\n",
      "{RKBS}_{{f}} \t +50%\n",
      "Noisy\n",
      "{RKCK}_{{f}} \t +6%\n",
      "Noisy\n",
      "{RKDP}_{{f}} \t +23%\n",
      "Noisy\n",
      "{RKBS}_{{a}} \t +22%\n",
      "Noisy\n",
      "{RKCK}_{{a}} \t +5%\n",
      "Noisy\n",
      "{RKDP}_{{a}} \t +14%\n"
     ]
    }
   ],
   "source": [
    "for (stim, solver), group in plot_df.groupby(['stim', 'solver'], sort=False):\n",
    "    print(stim)\n",
    "    method = solver.replace('\\mathrm', '').replace('$', '')\n",
    "    print(f\"{method} \\t +{np.mean(np.concatenate(list(group.conrad_rel_run_times))-1):.0%}\")"
   ]
  },
  {
   "cell_type": "code",
   "execution_count": 15,
   "metadata": {},
   "outputs": [
    {
     "name": "stdout",
     "output_type": "stream",
     "text": [
      "0 \t nan%\n",
      "1 \t 14%\n"
     ]
    }
   ],
   "source": [
    "for adaptive, group in plot_df.groupby(['adaptive'], sort=False):\n",
    "    print(f\"{adaptive} \\t {np.mean(np.concatenate(list(group.conrad_rel_run_times))-1):.0%}\")"
   ]
  },
  {
   "cell_type": "code",
   "execution_count": 16,
   "metadata": {},
   "outputs": [
    {
     "name": "stdout",
     "output_type": "stream",
     "text": [
      "1 \t 33%\n"
     ]
    }
   ],
   "source": [
    "print(f\"{adaptive} \\t {np.nanmean(np.concatenate(list(plot_df.conrad_rel_run_times))-1):.0%}\")"
   ]
  },
  {
   "cell_type": "code",
   "execution_count": 17,
   "metadata": {},
   "outputs": [
    {
     "name": "stdout",
     "output_type": "stream",
     "text": [
      "1 \t 16%\n"
     ]
    }
   ],
   "source": [
    "print(f\"{adaptive} \\t {np.nanmean(np.concatenate(list(plot_df.abdulle_ln_rel_run_times))-1):.0%}\")"
   ]
  },
  {
   "cell_type": "code",
   "execution_count": 18,
   "metadata": {},
   "outputs": [
    {
     "name": "stdout",
     "output_type": "stream",
     "text": [
      "{FE}_{{f}} \t +24%\n",
      "{EE}_{{f}} \t +32%\n",
      "{EEMP}_{{f}} \t +18%\n",
      "{RKBS}_{{f}} \t +15%\n",
      "{RKCK}_{{f}} \t +7%\n",
      "{RKDP}_{{f}} \t +11%\n",
      "{RKBS}_{{a}} \t +20%\n",
      "{RKCK}_{{a}} \t +5%\n",
      "{RKDP}_{{a}} \t +13%\n"
     ]
    }
   ],
   "source": [
    "for solver, group in plot_df.groupby(['solver'], sort=False):\n",
    "    method = solver.replace('\\mathrm', '').replace('$', '')\n",
    "    print(f\"{method} \\t +{(np.mean(np.concatenate(list(group.abdulle_ln_rel_run_times)))-1):.0%}\")"
   ]
  },
  {
   "cell_type": "code",
   "execution_count": 19,
   "metadata": {},
   "outputs": [
    {
     "name": "stdout",
     "output_type": "stream",
     "text": [
      "0 \t 118\n",
      "1 \t 113\n"
     ]
    }
   ],
   "source": [
    "for adaptive, group in plot_df.groupby(['adaptive'], sort=False):\n",
    "    print(f\"{adaptive} \\t {np.mean(np.concatenate(list(group.abdulle_ln_rel_run_times)))*100:.0f}\")"
   ]
  },
  {
   "cell_type": "code",
   "execution_count": null,
   "metadata": {},
   "outputs": [],
   "source": []
  }
 ],
 "metadata": {
  "kernelspec": {
   "display_name": "Python 3 (ipykernel)",
   "language": "python",
   "name": "python3"
  },
  "language_info": {
   "codemirror_mode": {
    "name": "ipython",
    "version": 3
   },
   "file_extension": ".py",
   "mimetype": "text/x-python",
   "name": "python",
   "nbconvert_exporter": "python",
   "pygments_lexer": "ipython3",
   "version": "3.8.10"
  },
  "toc": {
   "base_numbering": 1,
   "nav_menu": {},
   "number_sections": true,
   "sideBar": true,
   "skip_h1_title": false,
   "title_cell": "Table of Contents",
   "title_sidebar": "Contents",
   "toc_cell": false,
   "toc_position": {
    "height": "calc(100% - 180px)",
    "left": "10px",
    "top": "150px",
    "width": "383.949px"
   },
   "toc_section_display": true,
   "toc_window_display": true
  },
  "varInspector": {
   "cols": {
    "lenName": 16,
    "lenType": 16,
    "lenVar": 40
   },
   "kernels_config": {
    "python": {
     "delete_cmd_postfix": "",
     "delete_cmd_prefix": "del ",
     "library": "var_list.py",
     "varRefreshCmd": "print(var_dic_list())"
    },
    "r": {
     "delete_cmd_postfix": ") ",
     "delete_cmd_prefix": "rm(",
     "library": "var_list.r",
     "varRefreshCmd": "cat(var_dic_list()) "
    }
   },
   "types_to_exclude": [
    "module",
    "function",
    "builtin_function_or_method",
    "instance",
    "_Feature"
   ],
   "window_display": false
  }
 },
 "nbformat": 4,
 "nbformat_minor": 4
}
