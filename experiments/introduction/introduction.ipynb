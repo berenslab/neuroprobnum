{
 "cells": [
  {
   "cell_type": "markdown",
   "metadata": {},
   "source": [
    "# Introduction\n",
    "\n",
    "- Introduction to the perturbation methods (state and step-size perturbation).\n",
    "- Create Izhikevich example."
   ]
  },
  {
   "cell_type": "code",
   "execution_count": null,
   "metadata": {},
   "outputs": [],
   "source": [
    "import numpy as np\n",
    "import seaborn as sns\n",
    "from matplotlib import pyplot as plt\n",
    "\n",
    "import matplotlib.patches as patches\n",
    "from scipy.stats import norm, uniform"
   ]
  },
  {
   "cell_type": "code",
   "execution_count": null,
   "metadata": {},
   "outputs": [],
   "source": [
    "from sys import path as sys_path\n",
    "from os.path import abspath as os_path_abspath\n",
    "sys_path.append(os_path_abspath('..'))\n",
    "import addpaths"
   ]
  },
  {
   "cell_type": "code",
   "execution_count": null,
   "metadata": {},
   "outputs": [],
   "source": [
    "%load_ext autoreload\n",
    "%autoreload 2"
   ]
  },
  {
   "cell_type": "code",
   "execution_count": null,
   "metadata": {},
   "outputs": [],
   "source": [
    "import data_utils\n",
    "import plot_utils as pltu\n",
    "import ode_solver"
   ]
  },
  {
   "cell_type": "markdown",
   "metadata": {},
   "source": [
    "# Toy problem"
   ]
  },
  {
   "cell_type": "code",
   "execution_count": null,
   "metadata": {},
   "outputs": [],
   "source": [
    "import test_models\n",
    "toy_model = test_models.model1()"
   ]
  },
  {
   "cell_type": "code",
   "execution_count": null,
   "metadata": {},
   "outputs": [],
   "source": [
    "plt.plot(np.linspace(0,3,101), toy_model.eval_y(t=np.linspace(0,3,101)));"
   ]
  },
  {
   "cell_type": "markdown",
   "metadata": {},
   "source": [
    "## Plot"
   ]
  },
  {
   "cell_type": "markdown",
   "metadata": {},
   "source": [
    "### Plot parameters"
   ]
  },
  {
   "cell_type": "code",
   "execution_count": null,
   "metadata": {},
   "outputs": [],
   "source": [
    "stages_kw  = {'lw': 0.8, \"alpha\": 0.7, \"ls\": '--', \"zorder\": -20, \"c\": 'gray'}\n",
    "exact_kw   = {'lw': 0.8, \"alpha\": 0.7, \"ls\": '-',  \"zorder\": -10}\n",
    "sol_kw     = {\"alpha\": 1.0, \"ms\": 4.5, \"markeredgewidth\": 0}\n",
    "error_kw   = {\"alpha\": 0.5, \"color\": 'red', \"lw\": 1.2, \"zorder\": -3}\n",
    "arrowstyle = \"Simple,tail_width=1.0,head_width=3,head_length=8\"\n",
    "arrowcolor = 'blue'\n",
    "dist_kw    = {'lw': 2, \"alpha\": 0.4, \"zorder\": -30, \"c\": 'green'}"
   ]
  },
  {
   "cell_type": "markdown",
   "metadata": {},
   "source": [
    "### Conrad's Method"
   ]
  },
  {
   "cell_type": "code",
   "execution_count": null,
   "metadata": {},
   "outputs": [],
   "source": [
    "def plot_conrads_method(model, ax=None):\n",
    "    \"\"\"Plot conrads perturbation method\"\"\"\n",
    "    \n",
    "    if ax is None: ax = plt.subplot(111)\n",
    "    \n",
    "    t0 = 2.5\n",
    "    y0 = model.eval_y(t0)\n",
    "    ydot0 = model.eval_ydot(t0, y0)\n",
    "\n",
    "    h = 0.4\n",
    "    t1 = t0 + h\n",
    "\n",
    "    true_ts = np.linspace(t0,t0+2*h,101)\n",
    "    true_ys = model.eval_y(true_ts)\n",
    "\n",
    "    y1_FE = y0 + h*ydot0 # Forward Euler\n",
    "    ydot1_FE = model.eval_ydot(t1, y1_FE)\n",
    "    y1_HN = y0 + h*(0.5*ydot0 + 0.4*ydot1_FE) # Heun's method\n",
    "\n",
    "    dt_ydot = 0.55*h\n",
    "\n",
    "    xlims = [t0-0.05*h, t1+dt_ydot+0.05*h]\n",
    "    ylims = [y0-0.15*np.abs(y0-y1_FE), max(y1_FE, y1_HN)+0.45*np.abs(y0-y1_FE)]\n",
    "    ax.set(xlim=xlims, ylim=ylims)\n",
    "\n",
    "    ax.plot(true_ts, true_ys, c='k', label=r\"exact\", **exact_kw)\n",
    "\n",
    "    ax.plot(t0, y0, 'o', c=arrowcolor, **sol_kw)\n",
    "    ax.plot([xlims[0], t0, t0], [y0, y0, ylims[0]], **stages_kw)\n",
    "\n",
    "    ax.plot(t1, y1_FE, marker=\"o\", color= 'darkred', **sol_kw)\n",
    "    ax.plot(t1, y1_HN, marker=\"X\", color= 'darkred', **sol_kw)\n",
    "    ax.vlines(t1, y1_FE, y1_HN, **error_kw)\n",
    "\n",
    "    ax.plot([xlims[0], t1], [y1_FE, y1_FE], **stages_kw)\n",
    "    ax.plot([xlims[0], t1], [y1_HN, y1_HN], **stages_kw)\n",
    "    ax.plot([t1, t1], [max(y1_FE, y1_HN), ylims[0]], **stages_kw)\n",
    "\n",
    "    for i, (ti, yi, ydoti) in enumerate([(t0, y0, ydot0), (t1, y1_FE, ydot1_FE)]):\n",
    "\n",
    "        arrow = patches.FancyArrowPatch(\n",
    "            (ti, yi), (ti+dt_ydot, yi+dt_ydot*ydoti),\n",
    "            color=arrowcolor, alpha=.8, lw=0, arrowstyle=arrowstyle, clip_on=False\n",
    "        )\n",
    "        ax.add_patch(arrow)\n",
    "\n",
    "        ax.text(ti+0.5*dt_ydot, yi+max(0.48*dt_ydot*ydoti, 0.52*dt_ydot*ydoti),\n",
    "                r'$k_' + str(i) + '$', ha='right', va='bottom', c=arrowcolor, clip_on=False) \n",
    "\n",
    "    ax.set_xticks([t0, t1])\n",
    "    ax.set_xticklabels([r'$t_0$', r'$t_1 = t_0 + \\Delta t$'], fontsize=plt.rcParams['font.size'])\n",
    "\n",
    "    ax.set_yticks([y0, y1_FE, y1_HN])\n",
    "    ax.set_yticklabels([r'$x_0$', r'${x}^\\mathregular{FE}_1$', r'${x}^\\mathregular{HN}_1$'],\n",
    "                       fontsize=plt.rcParams['font.size'])\n",
    "\n",
    "    y_pdf_in = np.linspace(ylims[0], ylims[1], 101)\n",
    "    y_pdf_out = norm(loc=y1_FE, scale=abs(y1_FE-y1_HN)).pdf(y_pdf_in)\n",
    "    y_pdf_out /= np.max(y_pdf_out)\n",
    "    y_pdf_out *= 0.2*h\n",
    "    y_pdf_out += t1\n",
    "    ax.plot(y_pdf_out, y_pdf_in, **dist_kw)\n",
    "\n",
    "    y_pdf_idx = 30\n",
    "    ax.annotate(\n",
    "        r'$\\mathregular{pdf}({x}_1$)', xy=(np.max(y_pdf_out), y_pdf_in[np.argmax(y_pdf_out)]),\n",
    "        xytext=(np.max(y_pdf_out)+0.2*h, y_pdf_in[y_pdf_idx]), c=dist_kw['c'],\n",
    "        arrowprops=dict(facecolor=dist_kw['c'], shrink=0.05, width=2, headwidth=8, alpha=dist_kw['alpha']),\n",
    "        ha='center', va='top'\n",
    "    )\n"
   ]
  },
  {
   "cell_type": "code",
   "execution_count": null,
   "metadata": {},
   "outputs": [],
   "source": [
    "fig, ax = pltu.subplots(1,1, xsize=4)\n",
    "plot_conrads_method(ax=ax, model=toy_model)"
   ]
  },
  {
   "cell_type": "markdown",
   "metadata": {},
   "source": [
    "### Abdulle's method"
   ]
  },
  {
   "cell_type": "code",
   "execution_count": null,
   "metadata": {},
   "outputs": [],
   "source": [
    "def plot_abdulles_method(model, ax=None):\n",
    "\n",
    "    if ax is None: ax = plt.subplot(111)\n",
    "    \n",
    "    t0 = 2.5\n",
    "    y0 = model.eval_y(t0)\n",
    "    ydot0 = model.eval_ydot(t0, y0)\n",
    "\n",
    "    h = 0.4\n",
    "    t1 = t0 + h\n",
    "    \n",
    "    tau = 0.75\n",
    "    dt_pert = tau*h**1.5 # Bound of uniform distribution\n",
    "    t1a = t1-dt_pert\n",
    "    t1b = t1+dt_pert\n",
    "\n",
    "    true_ts = np.linspace(t0,t0+2*h,101)\n",
    "    true_ys = model.eval_y(true_ts)\n",
    "\n",
    "    t1_smp = 0.6*t1a + 0.4*t1\n",
    "    h_smp = t1_smp-t0\n",
    "    \n",
    "\n",
    "    y1_FE = y0 + h*ydot0 # Forward Euler\n",
    "    y1_FE_pert = y0 + h_smp*ydot0 # Forward Euler\n",
    "\n",
    "    dt_ydot = 0.99*h\n",
    "\n",
    "    xlims = [t0-0.05*h, t1b+0.25*h]\n",
    "    ylims = [y0-0.2*np.abs(y0-y1_FE), y1_FE+0.55*np.abs(y0-y1_FE)]\n",
    "\n",
    "    ax.set(xlim=xlims, ylim=ylims)\n",
    "\n",
    "    ax.plot(true_ts, true_ys, c='k', label=r\"exact\", **exact_kw)\n",
    "\n",
    "    ax.plot(t0, y0, 'o', c=arrowcolor, **sol_kw)\n",
    "    ax.plot([xlims[0], t0, t0], [y0, y0, ylims[0]], **stages_kw)\n",
    "\n",
    "    ax.plot(t1, y1_FE, marker=\"o\", color= 'darkred', **sol_kw)\n",
    "    ax.plot(t1_smp, y1_FE_pert, marker=\"X\", color='darkred', **sol_kw)\n",
    "    ax.plot(t1, y1_FE_pert, marker=\"o\", color=dist_kw['c'], **sol_kw)\n",
    "\n",
    "    ax.plot([xlims[0], t1], [y1_FE, y1_FE], **stages_kw)\n",
    "    ax.plot([xlims[0], t1], [y1_FE_pert, y1_FE_pert], **stages_kw)\n",
    "    ax.plot([t1, t1], [max(y1_FE, y1_FE_pert), ylims[0]], **stages_kw)\n",
    "    ax.plot([t1_smp, t1_smp], [ylims[0], y1_FE_pert], **stages_kw)\n",
    "\n",
    "    for i, (ti, yi, ydoti) in enumerate([(t0, y0, ydot0)]):\n",
    "\n",
    "        arrow = patches.FancyArrowPatch(\n",
    "            (ti, yi), (ti+dt_ydot, yi+dt_ydot*ydoti),\n",
    "            color=arrowcolor, alpha=.8, lw=0, arrowstyle=arrowstyle, clip_on=False\n",
    "        )\n",
    "        ax.add_patch(arrow)\n",
    "\n",
    "        ax.text(ti+0.38*dt_ydot, yi+max(0.35*dt_ydot*ydoti, 0.42*dt_ydot*ydoti),\n",
    "                r'$k_' + str(i) + '$', ha='right', va='bottom', c=arrowcolor, clip_on=False)\n",
    "\n",
    "\n",
    "    ax.set_xticks([t0, t1a, t1, t1b, t1_smp])\n",
    "    ax.set_xticklabels([r'$t_0$', r'$t_1 - a$', r'$t_1 = t_0 + \\Delta t$', r'$t_1 + a$', r'$t_1^*$'],\n",
    "                       fontsize=plt.rcParams['font.size'])\n",
    "\n",
    "    ax.set_yticks([y0, y1_FE, y1_FE_pert])\n",
    "    ax.set_yticklabels([r'$x_0$', r'${x}^\\mathregular{FE}_1$', r'${x}_1^*$'],\n",
    "                       fontsize=plt.rcParams['font.size'])\n",
    "\n",
    "    t_pdf_in = np.linspace(xlims[0], xlims[1], 1001)\n",
    "    t_pdf_out = uniform(loc=t1a, scale=t1b-t1a).pdf(t_pdf_in)\n",
    "    t_pdf_out /= np.max(t_pdf_out) / (0.2*(ylims[1]-ylims[0]))\n",
    "    t_pdf_out += np.mean([y0, ylims[0]])\n",
    "    ax.plot(t_pdf_in, t_pdf_out, **dist_kw, ls='dashdot')\n",
    "\n",
    "    ax.annotate(\n",
    "        r'$\\mathregular{pdf}(t_1^\\mathregular{eval})$',\n",
    "        xy=(t1b-0.2*h, max(t_pdf_out)),\n",
    "        xytext=(t1b+0.1*h, max(t_pdf_out)+0.11*(ylims[1]-ylims[0])), c=dist_kw['c'],\n",
    "        arrowprops=dict(facecolor=dist_kw['c'], shrink=0.05, width=2, headwidth=8, alpha=dist_kw['alpha']),\n",
    "        ha='center', va='bottom'\n",
    "    )\n",
    "\n",
    "    y_pdf_in = np.linspace(ylims[0], ylims[1], 1001)\n",
    "    y_pdf_out = uniform(loc=y0+(t1a-t0)*ydot0, scale=(t1b-t1a)*ydot0).pdf(y_pdf_in)\n",
    "    y_pdf_out /= np.max(y_pdf_out) / (0.1*(xlims[1]-xlims[0]))\n",
    "    y_pdf_out += t1\n",
    "    ax.plot(y_pdf_out, y_pdf_in, **dist_kw)\n",
    "\n",
    "    ax.annotate(\n",
    "        r'$\\mathregular{pdf}({x}_1)$',\n",
    "        xy=(max(y_pdf_out), y1_FE),\n",
    "        xytext=(max(y_pdf_out)+0.3*h, np.mean([y1_FE, ylims[1]])),\n",
    "        c=dist_kw['c'], ha='center', va='bottom',\n",
    "        arrowprops=dict(facecolor=dist_kw['c'], shrink=0.05, width=2, headwidth=8, alpha=dist_kw['alpha']),\n",
    "    )"
   ]
  },
  {
   "cell_type": "code",
   "execution_count": null,
   "metadata": {},
   "outputs": [],
   "source": [
    "fig, ax = pltu.subplots(1,1, xsize=5)\n",
    "plot_abdulles_method(ax=ax, model=toy_model)"
   ]
  },
  {
   "cell_type": "markdown",
   "metadata": {},
   "source": [
    "# A real model, the Izhikevich neuron"
   ]
  },
  {
   "cell_type": "code",
   "execution_count": null,
   "metadata": {},
   "outputs": [],
   "source": [
    "import izhikevich\n",
    "import izhikevich_parameters\n",
    "from data_generator_IN import data_generator_IN\n",
    "\n",
    "parameters = izhikevich_parameters.parameters()\n",
    "neuron_parameters, stimulus_parameters, t_parameters = parameters.select_mode('Tonic spiking')\n",
    "\n",
    "IN_model = izhikevich.neuron(neuron_parameters, stimulus_parameters)"
   ]
  },
  {
   "cell_type": "code",
   "execution_count": null,
   "metadata": {},
   "outputs": [],
   "source": [
    "gen = data_generator_IN(\n",
    "    y0=IN_model.y0, t0=11, h0=0.1, tmax=15,\n",
    "    gen_acc_sols=True, return_vars=['ys', 'events'],\n",
    "    model=IN_model, n_samples=40, base_folder='_data'\n",
    ")\n",
    "gen.DEBUG = True"
   ]
  },
  {
   "cell_type": "code",
   "execution_count": null,
   "metadata": {},
   "outputs": [],
   "source": [
    "# Deterministic solution\n",
    "soldet = gen.gen_det_sol(method='FE', adaptive=0, step_param=t_parameters['dt'], plot=True)"
   ]
  },
  {
   "cell_type": "code",
   "execution_count": null,
   "metadata": {},
   "outputs": [],
   "source": [
    "# Probabilistic solution\n",
    "solprob = gen.gen_sol(method='FE', adaptive=0, pert_method='conrad', step_param=t_parameters['dt'], plot=True)"
   ]
  },
  {
   "cell_type": "markdown",
   "metadata": {},
   "source": [
    "## Plot"
   ]
  },
  {
   "cell_type": "code",
   "execution_count": null,
   "metadata": {},
   "outputs": [],
   "source": [
    "def plot_IN_traces(ax):\n",
    "    \"\"\"Plot traces of Izhikevich neuron\"\"\"\n",
    "    example_kws = {'lw': 0.8, \"alpha\": 0.7, \"marker\": '.', \"ms\": 3.5, \"ls\": '-'}\n",
    "    determi_kws = {'lw': 0.8, \"alpha\": 0.7, \"marker\": '.', \"ms\": 3.5, \"ls\": '--'}\n",
    "    \n",
    "    ax.plot(solprob.ts-gen.t0, solprob.get_ys(yidx=0, sampleidx=1), **example_kws, clip_on=False)\n",
    "    ax.plot(solprob.ts-gen.t0, solprob.get_ys(yidx=0, sampleidx=5), **example_kws, clip_on=False)\n",
    "    ax.plot(solprob.ts-gen.t0, soldet.get_ys(yidx=0), c='black', **determi_kws, clip_on=False)\n",
    "    \n",
    "    # Annotate and 30 mV line.\n",
    "    ax.axhline(30, c='gray', ls=':', lw=0.8)\n",
    "    ax.set_ylabel('v(t)')\n",
    "    ax.set_xlabel('Time (ms)')\n",
    "    ax.set_ylim(-75, 75)"
   ]
  },
  {
   "cell_type": "code",
   "execution_count": null,
   "metadata": {},
   "outputs": [],
   "source": [
    "plot_IN_traces(plt.subplot(111))"
   ]
  },
  {
   "cell_type": "markdown",
   "metadata": {},
   "source": [
    "# Figure"
   ]
  },
  {
   "cell_type": "code",
   "execution_count": null,
   "metadata": {},
   "outputs": [],
   "source": [
    "fig, axs = pltu.subplots(1,3,xsize='text',gridspec_kw=dict(height_ratios=[1,1,0.6]),ysizerow=1.)\n",
    "\n",
    "axs = axs.flatten()\n",
    "\n",
    "plot_conrads_method(model=toy_model, ax=axs[0])\n",
    "plot_abdulles_method(model=toy_model, ax=axs[1])\n",
    "plot_IN_traces(axs[2])\n",
    "\n",
    "pltu.move_xaxis_outward(axs[2], scale=3)\n",
    "pltu.make_share_xlims(axs[:2])\n",
    "\n",
    "pltu.tight_layout(h_pad=0.6, rect=[0,0,1,0.98])\n",
    "sns.despine()\n",
    "\n",
    "for panel_num, ax in zip('ABCDEF', axs):\n",
    "    ax.text(-0.09, 1, panel_num+\" \"*10, ha='left', va='center', fontweight='bold',\n",
    "            fontsize=plt.rcParams['axes.titlesize'], transform=ax.transAxes)\n",
    "\n",
    "pltu.savefig('introduction_both_pert_methods')\n",
    "plt.show()\n",
    "\n",
    "pltu.show_saved_figure(fig)"
   ]
  }
 ],
 "metadata": {
  "kernelspec": {
   "display_name": "Python 3",
   "language": "python",
   "name": "python3"
  },
  "language_info": {
   "codemirror_mode": {
    "name": "ipython",
    "version": 3
   },
   "file_extension": ".py",
   "mimetype": "text/x-python",
   "name": "python",
   "nbconvert_exporter": "python",
   "pygments_lexer": "ipython3",
   "version": "3.7.5"
  },
  "toc": {
   "base_numbering": 1,
   "nav_menu": {},
   "number_sections": true,
   "sideBar": true,
   "skip_h1_title": false,
   "title_cell": "Table of Contents",
   "title_sidebar": "Contents",
   "toc_cell": false,
   "toc_position": {
    "height": "calc(100% - 180px)",
    "left": "10px",
    "top": "150px",
    "width": "384px"
   },
   "toc_section_display": true,
   "toc_window_display": true
  },
  "varInspector": {
   "cols": {
    "lenName": 16,
    "lenType": 16,
    "lenVar": 40
   },
   "kernels_config": {
    "python": {
     "delete_cmd_postfix": "",
     "delete_cmd_prefix": "del ",
     "library": "var_list.py",
     "varRefreshCmd": "print(var_dic_list())"
    },
    "r": {
     "delete_cmd_postfix": ") ",
     "delete_cmd_prefix": "rm(",
     "library": "var_list.r",
     "varRefreshCmd": "cat(var_dic_list()) "
    }
   },
   "types_to_exclude": [
    "module",
    "function",
    "builtin_function_or_method",
    "instance",
    "_Feature"
   ],
   "window_display": false
  }
 },
 "nbformat": 4,
 "nbformat_minor": 4
}
