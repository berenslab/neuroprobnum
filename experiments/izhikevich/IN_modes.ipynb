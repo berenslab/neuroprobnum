{
 "cells": [
  {
   "cell_type": "markdown",
   "metadata": {},
   "source": [
    "# Izhikevich neuron | Uncertainty in modes\n",
    "\n",
    "Simulate Izhikevich neuron for different modes from the original paper"
   ]
  },
  {
   "cell_type": "code",
   "execution_count": null,
   "metadata": {},
   "outputs": [],
   "source": [
    "import numpy as np\n",
    "from matplotlib import pyplot as plt\n",
    "import seaborn as sns"
   ]
  },
  {
   "cell_type": "code",
   "execution_count": null,
   "metadata": {},
   "outputs": [],
   "source": [
    "from sys import path as sys_path\n",
    "from os.path import abspath as os_path_abspath\n",
    "sys_path.append(os_path_abspath('..'))\n",
    "import addpaths"
   ]
  },
  {
   "cell_type": "code",
   "execution_count": null,
   "metadata": {},
   "outputs": [],
   "source": [
    "%load_ext autoreload\n",
    "%autoreload 2"
   ]
  },
  {
   "cell_type": "code",
   "execution_count": null,
   "metadata": {},
   "outputs": [],
   "source": [
    "import plot_utils as pltu"
   ]
  },
  {
   "cell_type": "markdown",
   "metadata": {},
   "source": [
    "# Model parameters"
   ]
  },
  {
   "cell_type": "code",
   "execution_count": null,
   "metadata": {},
   "outputs": [],
   "source": [
    "solver_method = 'FE'"
   ]
  },
  {
   "cell_type": "code",
   "execution_count": null,
   "metadata": {},
   "outputs": [],
   "source": [
    "# Select modes to generate data for.\n",
    "neuron_modes = [\n",
    "    'Tonic spiking'              ,\n",
    "    'Phasic spiking'             ,\n",
    "    'Tonic bursting'             ,\n",
    "    'Phasic bursting'            ,\n",
    "    'Mixed mode'                 ,\n",
    "    'Spike frequency adaptation' ,\n",
    "    'Class 1'                    ,\n",
    "    'Class 2'                    ,\n",
    "    'Spike latency'              ,\n",
    "    'Subthreshold oscillations'  ,\n",
    "    'Resonator'                  ,\n",
    "    'Integrator'                 ,\n",
    "    'Rebound spike'              ,\n",
    "    'Rebound burst'              ,\n",
    "    'Threshold variability'      ,\n",
    "    'DAP'                        ,\n",
    "    'Inhibition-induced spiking' ,\n",
    "    'Inhibition-induced bursting',\n",
    "]"
   ]
  },
  {
   "cell_type": "code",
   "execution_count": null,
   "metadata": {},
   "outputs": [],
   "source": [
    "import izhikevich_parameters\n",
    "parameters = izhikevich_parameters.parameters()"
   ]
  },
  {
   "cell_type": "markdown",
   "metadata": {},
   "source": [
    "# Generator"
   ]
  },
  {
   "cell_type": "code",
   "execution_count": null,
   "metadata": {},
   "outputs": [],
   "source": [
    "import izhikevich\n",
    "from data_generator_IN import data_generator_IN\n",
    "\n",
    "gens = {}\n",
    "\n",
    "for neuron_mode in neuron_modes:\n",
    "    \n",
    "    # Generate neuron instance.\n",
    "    neuron_parameters, stimulus_parameters, t_parameters = parameters.select_mode(neuron_mode)\n",
    "    neuron = izhikevich.neuron(neuron_parameters, stimulus_parameters)\n",
    "    tmax = t_parameters['tmax']\n",
    "\n",
    "    # Generate solver instance.\n",
    "    gens[neuron_mode] = data_generator_IN(\n",
    "        y0=neuron.y0, t0=0.0, h0=t_parameters['dt'], tmax=tmax,\n",
    "        gen_acc_sols=False, return_vars=['ys', 'events'],\n",
    "        model=neuron, n_samples=40, base_folder='_data/modes'\n",
    "    )\n",
    "    gens[neuron_mode].original_dt = t_parameters['dt']\n",
    "    gens[neuron_mode].update_subfoldername(neuron=neuron_mode.replace('-', '_').replace(' ', '_'))"
   ]
  },
  {
   "cell_type": "markdown",
   "metadata": {},
   "source": [
    "## Test"
   ]
  },
  {
   "cell_type": "code",
   "execution_count": null,
   "metadata": {},
   "outputs": [],
   "source": [
    "gens['DAP'].gen_sol(method='FE', adaptive=0, plot=True, step_param=gens['DAP'].original_dt, pert_method='conrad')"
   ]
  },
  {
   "cell_type": "code",
   "execution_count": null,
   "metadata": {},
   "outputs": [],
   "source": [
    "gens['DAP'].gen_sol(method='FE', adaptive=2, plot=True, step_param=gens['DAP'].original_dt, pert_method='conrad')"
   ]
  },
  {
   "cell_type": "markdown",
   "metadata": {},
   "source": [
    "## Data"
   ]
  },
  {
   "cell_type": "code",
   "execution_count": null,
   "metadata": {},
   "outputs": [],
   "source": [
    "for neuron_mode, gen in gens.items():\n",
    "    gen.gen_and_save_data(\n",
    "        method='FE', adaptive=0, pert_method='conrad', step_param=gen.original_dt,\n",
    "        plot=True, overwrite=False,\n",
    "    )"
   ]
  },
  {
   "cell_type": "markdown",
   "metadata": {},
   "source": [
    "# Plot"
   ]
  },
  {
   "cell_type": "code",
   "execution_count": null,
   "metadata": {},
   "outputs": [],
   "source": [
    "neuron_mode_plot_order = [\n",
    "    'Phasic spiking'             ,\n",
    "    'Tonic spiking'              ,\n",
    "    'Tonic bursting'             ,\n",
    "    'Phasic bursting'            ,\n",
    "    'Mixed mode'                 ,\n",
    "    'Spike frequency adaptation' ,\n",
    "    'Class 1'                    ,\n",
    "    'Class 2'                    ,\n",
    "    'Spike latency'              ,\n",
    "    'Subthreshold oscillations'  ,\n",
    "    'Resonator'                  ,\n",
    "    'Integrator'                 ,\n",
    "    'Rebound spike'              ,\n",
    "    'Rebound burst'              ,\n",
    "    'Threshold variability'      ,\n",
    "    'DAP'                        ,\n",
    "    'Inhibition-induced spiking' ,\n",
    "    'Inhibition-induced bursting',\n",
    "]"
   ]
  },
  {
   "cell_type": "code",
   "execution_count": null,
   "metadata": {},
   "outputs": [],
   "source": [
    "def plot_mode(ax, neuron_mode, adaptive, stim_y0=-105, stim_y1=-91, clip_on=True):\n",
    "    \"\"\"Plot traces and stimulus.\"\"\"\n",
    "    \n",
    "    gen = gens[neuron_mode]\n",
    "    \n",
    "    data = gen.load_data_and_check(\n",
    "        method='FE', step_param=gen.original_dt, adaptive=adaptive, pert_method='conrad')\n",
    "    \n",
    "    ts_org, vs_org, us_org, *_ = gen.model.original_solve(\n",
    "        tmax=gen.tmax, dt=gen.original_dt, clip=False)\n",
    "\n",
    "    pltu.plot_sample_trace(ax, ts_org, vs_org, label='org.', tr_kw=dict(clip_on=clip_on))\n",
    "    \n",
    "    pltu.plot_mean_and_uncertainty(\n",
    "        ax, data.ts, data.vs, intpol_dt=0.1, smpidxs=np.random.choice(np.arange(gen.n_samples), 0),\n",
    "        tr_mean_kw=dict(clip_on=clip_on), tr_bnds_kw=dict(clip_on=clip_on),\n",
    "    )\n",
    "        \n",
    "    stim_ts = np.arange(gen.t0,gen.tmax,gen.original_dt/10)\n",
    "    pltu.plot_stim_on_trace_plot(\n",
    "        ax, ts=stim_ts, stim=[gen.model.get_I_at_t(t=t) for t in stim_ts],\n",
    "        stim_y0=stim_y0, stim_y1=stim_y1\n",
    "    )"
   ]
  },
  {
   "cell_type": "code",
   "execution_count": null,
   "metadata": {},
   "outputs": [],
   "source": [
    "np.random.seed(42)\n",
    "\n",
    "adaptive = 0\n",
    "    \n",
    "### Prepare axes ###\n",
    "fig, axs = pltu.auto_subplots(\n",
    "    len(neuron_mode_plot_order), xsize='text', max_nx_sb=3, sharey=True, ysizerow=0.9,\n",
    "    subplot_kw=dict(ylim=(None, 40), yticks=([-50, 0]))\n",
    ")\n",
    "\n",
    "### Plot data ###\n",
    "for ax, neuron_mode in zip(axs.flatten(), neuron_mode_plot_order):\n",
    "    plot_mode(ax=ax, neuron_mode=neuron_mode, adaptive=adaptive, clip_on=True)\n",
    "    ax.set_title(neuron_mode, loc='center', ha='center', fontsize=plt.rcParams['font.size'], va='top')\n",
    "\n",
    "### Decorate ###\n",
    "pltu.set_labs(axs, panel_nums='auto', panel_num_space=0, panel_num_va='top')\n",
    "\n",
    "for ax in axs.flat: ax.spines['left'].set_bounds(-85, ax.get_ylim()[1])\n",
    "\n",
    "sns.despine()\n",
    "pltu.set_labs(axs[-1,:], xlabs='Time (ms)')\n",
    "pltu.set_labs(axs[:,0], ylabs='v(t)')\n",
    "pltu.tight_layout(h_pad=0.5, w_pad=0.3)\n",
    "\n",
    "axs[0,0].legend(loc='upper right', frameon=False, bbox_to_anchor=(1,1.08), borderpad=0.1)\n",
    "\n",
    "pltu.savefig(f\"IN_modes{'_noovershoot' if adaptive==2 else ''}\")\n",
    "plt.show()\n",
    "pltu.show_saved_figure(fig)"
   ]
  }
 ],
 "metadata": {
  "kernelspec": {
   "display_name": "Python 3",
   "language": "python",
   "name": "python3"
  },
  "language_info": {
   "codemirror_mode": {
    "name": "ipython",
    "version": 3
   },
   "file_extension": ".py",
   "mimetype": "text/x-python",
   "name": "python",
   "nbconvert_exporter": "python",
   "pygments_lexer": "ipython3",
   "version": "3.7.5"
  },
  "toc": {
   "base_numbering": 1,
   "nav_menu": {},
   "number_sections": true,
   "sideBar": true,
   "skip_h1_title": false,
   "title_cell": "Table of Contents",
   "title_sidebar": "Contents",
   "toc_cell": false,
   "toc_position": {
    "height": "calc(100% - 180px)",
    "left": "10px",
    "top": "150px",
    "width": "384px"
   },
   "toc_section_display": true,
   "toc_window_display": true
  },
  "varInspector": {
   "cols": {
    "lenName": 16,
    "lenType": 16,
    "lenVar": 40
   },
   "kernels_config": {
    "python": {
     "delete_cmd_postfix": "",
     "delete_cmd_prefix": "del ",
     "library": "var_list.py",
     "varRefreshCmd": "print(var_dic_list())"
    },
    "r": {
     "delete_cmd_postfix": ") ",
     "delete_cmd_prefix": "rm(",
     "library": "var_list.r",
     "varRefreshCmd": "cat(var_dic_list()) "
    }
   },
   "types_to_exclude": [
    "module",
    "function",
    "builtin_function_or_method",
    "instance",
    "_Feature"
   ],
   "window_display": false
  }
 },
 "nbformat": 4,
 "nbformat_minor": 4
}
