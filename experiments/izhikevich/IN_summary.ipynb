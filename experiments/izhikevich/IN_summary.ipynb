{
 "cells": [
  {
   "cell_type": "markdown",
   "metadata": {},
   "source": [
    "# IN | summary of DAP and rebound burst\n",
    "\n",
    "Make summary plots for DAP and rebound burst Izhikevich neuron"
   ]
  },
  {
   "cell_type": "code",
   "execution_count": null,
   "metadata": {},
   "outputs": [],
   "source": [
    "import numpy as np\n",
    "from itertools import product as itproduct\n",
    "\n",
    "from matplotlib import pyplot as plt\n",
    "import seaborn as sns"
   ]
  },
  {
   "cell_type": "code",
   "execution_count": null,
   "metadata": {},
   "outputs": [],
   "source": [
    "from sys import path as sys_path\n",
    "from os.path import abspath as os_path_abspath\n",
    "sys_path.append(os_path_abspath('..'))\n",
    "import addpaths"
   ]
  },
  {
   "cell_type": "code",
   "execution_count": null,
   "metadata": {},
   "outputs": [],
   "source": [
    "%load_ext autoreload\n",
    "%autoreload 2"
   ]
  },
  {
   "cell_type": "code",
   "execution_count": null,
   "metadata": {},
   "outputs": [],
   "source": [
    "import data_utils\n",
    "import metric_utils\n",
    "import plot_utils as pltu"
   ]
  },
  {
   "cell_type": "markdown",
   "metadata": {},
   "source": [
    "# Select modes"
   ]
  },
  {
   "cell_type": "code",
   "execution_count": null,
   "metadata": {},
   "outputs": [],
   "source": [
    "# Select modes to generate data for.\n",
    "neuron_modes = [\n",
    "    'Rebound burst',\n",
    "    'DAP',\n",
    "]"
   ]
  },
  {
   "cell_type": "code",
   "execution_count": null,
   "metadata": {},
   "outputs": [],
   "source": [
    "import izhikevich_parameters\n",
    "parameters = izhikevich_parameters.parameters()"
   ]
  },
  {
   "cell_type": "markdown",
   "metadata": {},
   "source": [
    "# Generator"
   ]
  },
  {
   "cell_type": "code",
   "execution_count": null,
   "metadata": {},
   "outputs": [],
   "source": [
    "import izhikevich\n",
    "from data_generator_IN import data_generator_IN\n",
    "\n",
    "gens = {}\n",
    "\n",
    "for neuron_mode in neuron_modes:\n",
    "    neuron_parameters, stimulus_parameters, t_parameters = parameters.select_mode(neuron_mode)\n",
    "    neuron = izhikevich.neuron(neuron_parameters, stimulus_parameters)\n",
    "    \n",
    "    print(neuron_mode, t_parameters['dt'])\n",
    "    \n",
    "    gen = data_generator_IN(\n",
    "        y0=neuron.y0, t0=0.0, tmax=t_parameters['tmax'], gen_acc_sols=True,\n",
    "        model=neuron, n_samples=40, n_parallel=20,\n",
    "        base_folder='_data/summary'\n",
    "    )\n",
    "    gen.subfoldername = neuron_mode\n",
    "    gen.load_acc_sols_from_file()    \n",
    "    \n",
    "    gens[neuron_mode] = gen"
   ]
  },
  {
   "cell_type": "markdown",
   "metadata": {},
   "source": [
    "## Generate data"
   ]
  },
  {
   "cell_type": "code",
   "execution_count": null,
   "metadata": {},
   "outputs": [],
   "source": [
    "# pert_method, adaptive, methods, step_params\n",
    "solver_params = [\n",
    "    ('conrad', 0, ['FE', 'RKBS', 'RKDP'], [0.5, 0.2, 0.02, 0.002]),\n",
    "    ('conrad', 2, ['FE', 'RKBS', 'RKDP'], [0.5, 0.2, 0.02, 0.002]),\n",
    "    ('conrad', 1, ['FE', 'RKBS', 'RKDP'], [1e-2, 1e-3, 1e-4]),\n",
    "]"
   ]
  },
  {
   "cell_type": "code",
   "execution_count": null,
   "metadata": {},
   "outputs": [],
   "source": [
    "for neuron_mode, gen in gens.items():\n",
    "    \n",
    "    print('----------------------------------------------------------')\n",
    "    print(neuron_mode, ':', gen.subfoldername)\n",
    "    print('----------------------------------------------------------') \n",
    "    \n",
    "    for pert_method, adaptive, methods, step_params in solver_params:\n",
    "        for step_param, method in itproduct(step_params, methods):\n",
    "            gen.gen_and_save_data(\n",
    "                method=method, adaptive=adaptive, step_param=step_param,\n",
    "                pert_method=pert_method, overwrite=False\n",
    "            )"
   ]
  },
  {
   "cell_type": "markdown",
   "metadata": {},
   "source": [
    "# Plots"
   ]
  },
  {
   "cell_type": "markdown",
   "metadata": {},
   "source": [
    "## Number of spikes plots"
   ]
  },
  {
   "cell_type": "code",
   "execution_count": null,
   "metadata": {},
   "outputs": [],
   "source": [
    "def load_n_spikes(neuron_mode, method, adaptive, step_param, pert_method):\n",
    "    \"\"\"Load the number of spikes for given solver settings\"\"\"\n",
    "    n_spikes = [len(e_list[0]) for e_list in gens[neuron_mode].load_data_and_check(\n",
    "        method, adaptive, step_param, pert_method).events]\n",
    "        \n",
    "    return n_spikes\n",
    "\n",
    "\n",
    "def load_all_n_spikes(neuron_mode, method, adaptive, step_params, pert_method):\n",
    "    \"\"\"Load the number of spikes for given solver settings\"\"\"\n",
    "    n_spikes = [load_n_spikes(neuron_mode, method, adaptive, step_param, pert_method) for step_param in step_params]\n",
    "\n",
    "    return n_spikes\n",
    "\n",
    "\n",
    "def load_acc_n_spikes(neuron_mode, method, adaptive, step_param, pert_method):\n",
    "    \"\"\"Load the number of spikes for given solver settings\"\"\"\n",
    "    n_spikes = len(gens[neuron_mode].load_data_and_check(\n",
    "        method, adaptive, step_param, pert_method).acc_events[0])\n",
    "        \n",
    "    return n_spikes"
   ]
  },
  {
   "cell_type": "code",
   "execution_count": null,
   "metadata": {},
   "outputs": [],
   "source": [
    "def plot_n_spikes(ax, neuron_mode, pert_method, adaptive, methods, step_params, maketitle=True):\n",
    "    \"\"\"Plot number of spikes for different solver settings\"\"\"\n",
    "    \n",
    "    for idx_method, method in enumerate(methods):\n",
    "        n_spikes = load_all_n_spikes(neuron_mode, method, adaptive, step_params, pert_method)\n",
    "        \n",
    "        pltu.plot_percentiles(\n",
    "            ax, data=n_spikes,\n",
    "            positions=pltu.get_x_positions(n_positions=len(step_params), idx=idx_method, n_idxs=len(methods), offset=0.22),\n",
    "            color=pltu.method2color(method),\n",
    "            marker=pltu.method2marker(method),\n",
    "            outl_kw=dict(clip_on=False),\n",
    "            mean_kw=dict(clip_on=False),\n",
    "            line_kw=dict(clip_on=False),\n",
    "            connect=False,\n",
    "        )\n",
    "        \n",
    "    ax.axhline(\n",
    "        load_acc_n_spikes(neuron_mode, method, adaptive, step_params[0], pert_method),\n",
    "        c='grey', ls='--', zorder=-20\n",
    "    )\n",
    "        \n",
    "        \n",
    "    if maketitle: ax.set_title(pltu.mode2label(adaptive))\n",
    "    ax.set_xticks(np.arange(len(step_params)))\n",
    "    ax.set_xticklabels([pltu.step_param2tick(step_param, adaptive) for step_param in step_params])\n",
    "    ax.set_ylabel('No. spikes')\n",
    "    ax.set_xlabel(pltu.mode2xlabel(adaptive, time_unit='ms'))\n",
    "    \n",
    "    ax.set_ylim(0, None)"
   ]
  },
  {
   "cell_type": "code",
   "execution_count": null,
   "metadata": {},
   "outputs": [],
   "source": [
    "\"\"\"Plot example\"\"\"\n",
    "sbnx = len(solver_params)\n",
    "sbny = len(plot_modes)\n",
    "\n",
    "fig, axs = pltu.subplots(sbnx, sbny)\n",
    "\n",
    "for (neuron_mode, tmin, tmax), axs_row in zip(plot_modes, axs):\n",
    "    for ax, (pert_method, adaptive, methods, step_params) in zip(axs_row, solver_params):\n",
    "        plot_n_spikes(\n",
    "            ax=ax, neuron_mode=neuron_mode, pert_method=pert_method,\n",
    "            adaptive=adaptive, methods=methods, step_params=step_params\n",
    "        )\n",
    "plt.tight_layout()"
   ]
  },
  {
   "cell_type": "markdown",
   "metadata": {},
   "source": [
    "## Traces plot"
   ]
  },
  {
   "cell_type": "code",
   "execution_count": null,
   "metadata": {},
   "outputs": [],
   "source": [
    "# method to show traces for\n",
    "plot_method = 'FE'\n",
    "plot_pert_method = 'conrad'\n",
    "\n",
    "# List of (neuron_mode, tmin, tmax)\n",
    "plot_modes = [('Rebound burst', 40, 120), ('DAP', 0, 1000)]\n",
    "\n",
    "# list of (adaptive, step_param)\n",
    "trace_params = [(0, 0.2), (0, 0.02)]\n",
    "ref_params = trace_params[0]"
   ]
  },
  {
   "cell_type": "code",
   "execution_count": null,
   "metadata": {},
   "outputs": [],
   "source": [
    "def plot_trace(ax, method, adaptive, step_param, pert_method, maketitle=True, n_samples=3):\n",
    "    \"\"\"Load data for given parameters and plot trace on given axis\"\"\"\n",
    "    output_data = gens[neuron_mode].load_data_and_check(method, adaptive, step_param, pert_method)\n",
    "\n",
    "    idxs = np.random.randint(0,output_data.vs.shape[0],n_samples)\n",
    "        \n",
    "    for ii, i in enumerate(idxs):\n",
    "\n",
    "        ts_i = output_data.ts[i] if isinstance(output_data.ts, list) else output_data.ts\n",
    "        vs_i = output_data.vs[i]\n",
    "\n",
    "        tminidx = np.argmin(np.abs(ts_i-tmin))\n",
    "        tmaxidx = np.argmin(np.abs(ts_i-tmax))\n",
    "\n",
    "        ax.plot(ts_i[tminidx:tmaxidx], vs_i[tminidx:tmaxidx], lw=0.7, c=pltu.neuron2color(ii))\n",
    "        \n",
    "    decorate_trace_plot(ax, title=pltu.step_param2label(step_param=step_param, adaptive=adaptive) if maketitle else None)\n",
    "    \n",
    "    \n",
    "def plot_reference(ax, maketitle=True):\n",
    "    \"\"\"Load data for reference solution and plot trace on given axis\"\"\"\n",
    "    output_data = gens[neuron_mode].load_data_and_check(\n",
    "        plot_method, ref_params[0], ref_params[1], plot_pert_method\n",
    "    )\n",
    "    ts_i = output_data.acc_ts\n",
    "    vs_i = output_data.acc_vs\n",
    "    tminidx, tmaxidx = np.argmin(np.abs(ts_i-tmin)), np.argmin(np.abs(ts_i-tmax))\n",
    "    ax.plot(ts_i[tminidx:tmaxidx], output_data.acc_vs[tminidx:tmaxidx], c='grey', lw=0.7)\n",
    "    decorate_trace_plot(ax, title='Reference' if maketitle else None)\n",
    "\n",
    "    \n",
    "def decorate_trace_plot(ax, title):\n",
    "    if title is not None: ax.set_title(title)\n",
    "    ax.set_xlabel('Time (ms)')\n",
    "    ax.set_ylabel('v(t)')\n",
    "    ax.set_ylim((-75, 40))\n",
    "    ax.set_yticks([-60, -30, 0, 30])"
   ]
  },
  {
   "cell_type": "code",
   "execution_count": null,
   "metadata": {},
   "outputs": [],
   "source": [
    "\"\"\"Plot example\"\"\"\n",
    "sbnx = len(trace_params)+1\n",
    "sbny = len(plot_modes)\n",
    "\n",
    "fig, axs = pltu.subplots(sbnx, sbny)\n",
    "\n",
    "for (neuron_mode, tmin, tmax), axs_row in zip(plot_modes, axs):\n",
    "    for ax, (adaptive, step_param) in zip(axs_row[:-1], trace_params):\n",
    "        plot_trace(ax, plot_method, adaptive, step_param, plot_pert_method, maketitle=(axs_row[0] == axs[0,0]))\n",
    "    plot_reference(axs_row[-1], maketitle=(axs_row[0] == axs[0,0]))\n",
    "\n",
    "plt.tight_layout()"
   ]
  },
  {
   "cell_type": "markdown",
   "metadata": {},
   "source": [
    "## Figure"
   ]
  },
  {
   "cell_type": "code",
   "execution_count": null,
   "metadata": {},
   "outputs": [],
   "source": [
    "np.random.seed(777)\n",
    "\n",
    "### Prepare axes ###\n",
    "sbnx = len(trace_params)+1+len(solver_params)\n",
    "sbny = len(plot_modes)\n",
    "\n",
    "fig, axs = pltu.auto_subplots(\n",
    "    sbnx*sbny, max_nx_sb=sbnx, xsize='fullwidth', ysizerow=1.35,\n",
    "    gridspec_kw=dict(width_ratios=[1]*(len(trace_params)+1) + [1.3]*len(solver_params))\n",
    ")\n",
    "\n",
    "### Plot data ###\n",
    "for (neuron_mode, tmin, tmax), axs_row in zip(plot_modes, axs):\n",
    "\n",
    "    # Plot traces.\n",
    "    for ax, (adaptive, step_param) in zip(axs_row[:len(trace_params)], trace_params):\n",
    "        plot_trace(ax, plot_method, adaptive, step_param, plot_pert_method, maketitle=(axs_row[0] == axs[0,0]))\n",
    "\n",
    "    # Plot reference traces.\n",
    "    plot_reference(axs_row[len(trace_params)], maketitle=(axs_row[0] == axs[0,0]))\n",
    "\n",
    "    # Plot summary.\n",
    "    for ax, (pert_method, adaptive, methods, step_params) in zip(axs_row[-len(solver_params):], solver_params):\n",
    "        plot_n_spikes(\n",
    "            ax=ax, neuron_mode=neuron_mode, pert_method=pert_method,\n",
    "            adaptive=adaptive, methods=methods, step_params=step_params,\n",
    "            maketitle=axs_row[0]==axs[0,0]\n",
    "        )\n",
    "\n",
    "    \n",
    "### Decorate ### \n",
    "pltu.set_labs(axs, panel_nums='auto', panel_num_space=0, panel_num_va='top')\n",
    "\n",
    "# Labels and ticks\n",
    "for axs_row in axs: pltu.make_share_ylims(axs_row[-len(solver_params):])\n",
    "for ax in axs[:,1:len(trace_params)+1].flat:\n",
    "    ax.set_yticklabels([])    \n",
    "    ax.set_ylabel(None)    \n",
    "for ax in axs[:,-len(solver_params)+1:].flat:\n",
    "    ax.set_yticklabels([])\n",
    "    ax.set_ylabel(None)\n",
    "for ax in axs[:-1,:].flat:\n",
    "    ax.set_xlabel(None)\n",
    "\n",
    "# Adjust axis spacing\n",
    "pltu.move_xaxis_outward(axs)\n",
    "pltu.tight_layout(w_pad=-1, h_pad=0.3, rect=(0,0.01,0.98,1))\n",
    "for i in range(len(solver_params)): pltu.move_box(axs[:,-(i+1)], dx=+0.014*(i+1))\n",
    "\n",
    "# Legend.\n",
    "pltu.make_method_legend(\n",
    "    axs[0, -3], methods=solver_params[0][2], pert_method=pert_method,\n",
    "    legend_kw=dict(loc='lower right', handlelength=0.5, bbox_to_anchor=(1,-0.1))\n",
    ")\n",
    "\n",
    "sns.despine()\n",
    "fig.align_labels(axs)\n",
    "\n",
    "pltu.savefig(f\"IN_mode_details\")\n",
    "pltu.show_saved_figure(fig)"
   ]
  }
 ],
 "metadata": {
  "kernelspec": {
   "display_name": "Python 3",
   "language": "python",
   "name": "python3"
  },
  "language_info": {
   "codemirror_mode": {
    "name": "ipython",
    "version": 3
   },
   "file_extension": ".py",
   "mimetype": "text/x-python",
   "name": "python",
   "nbconvert_exporter": "python",
   "pygments_lexer": "ipython3",
   "version": "3.7.5"
  },
  "toc": {
   "base_numbering": 1,
   "nav_menu": {},
   "number_sections": true,
   "sideBar": true,
   "skip_h1_title": false,
   "title_cell": "Table of Contents",
   "title_sidebar": "Contents",
   "toc_cell": false,
   "toc_position": {
    "height": "calc(100% - 180px)",
    "left": "10px",
    "top": "150px",
    "width": "384px"
   },
   "toc_section_display": true,
   "toc_window_display": true
  },
  "varInspector": {
   "cols": {
    "lenName": 16,
    "lenType": 16,
    "lenVar": 40
   },
   "kernels_config": {
    "python": {
     "delete_cmd_postfix": "",
     "delete_cmd_prefix": "del ",
     "library": "var_list.py",
     "varRefreshCmd": "print(var_dic_list())"
    },
    "r": {
     "delete_cmd_postfix": ") ",
     "delete_cmd_prefix": "rm(",
     "library": "var_list.r",
     "varRefreshCmd": "cat(var_dic_list()) "
    }
   },
   "types_to_exclude": [
    "module",
    "function",
    "builtin_function_or_method",
    "instance",
    "_Feature"
   ],
   "window_display": false
  }
 },
 "nbformat": 4,
 "nbformat_minor": 4
}
