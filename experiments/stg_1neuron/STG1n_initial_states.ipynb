{
 "cells": [
  {
   "cell_type": "markdown",
   "metadata": {},
   "source": [
    "# Readme\n",
    "\n",
    "Computes the intial states $y_0$ of all single STG neurons.\n",
    "\n",
    "If the neurons have a steady state in the absence of input current, it will find this steady state using a grid search and gradient minimization.\n",
    "\n",
    "If there is no such steady state, it will simulate a longer trace and find the lowest membrane potential between the two spikes with the largest distance in time.\n",
    "The state at this point will be used as the initial state."
   ]
  },
  {
   "cell_type": "code",
   "execution_count": null,
   "metadata": {},
   "outputs": [],
   "source": [
    "import numpy as np\n",
    "from matplotlib import pyplot as plt"
   ]
  },
  {
   "cell_type": "code",
   "execution_count": null,
   "metadata": {},
   "outputs": [],
   "source": [
    "from sys import path as sys_path\n",
    "from os.path import abspath as os_path_abspath\n",
    "sys_path.append(os_path_abspath('..'))\n",
    "import addpaths"
   ]
  },
  {
   "cell_type": "code",
   "execution_count": null,
   "metadata": {},
   "outputs": [],
   "source": [
    "%load_ext autoreload\n",
    "%autoreload 2"
   ]
  },
  {
   "cell_type": "code",
   "execution_count": null,
   "metadata": {},
   "outputs": [],
   "source": [
    "import stg_model\n",
    "import stg_parameters\n",
    "import ode_solver\n",
    "import data_utils\n",
    "import stim_utils\n",
    "import math_utils"
   ]
  },
  {
   "cell_type": "markdown",
   "metadata": {},
   "source": [
    "# Create neuron"
   ]
  },
  {
   "cell_type": "code",
   "execution_count": null,
   "metadata": {},
   "outputs": [],
   "source": [
    "def get_ydot_eq(v_clamp, plot=False, return_y_eq=False, tmax=10):\n",
    "    \"\"\"Get vdot at clamped voltage\"\"\"\n",
    "    neuron.set_v_clamped(1)\n",
    "    \n",
    "    y0, _ = neuron.cmodel.eval_yinf_and_yf(\n",
    "        t=0.0, y=np.array([v_clamp, 0.01, 0.0, 0.1, 0.1, 0.1, 0.1, 0.1, 0.1, 0.1, 0.8, 0.0, 0.0])\n",
    "    )\n",
    "    \n",
    "    y0[1] = 0.01\n",
    "    \n",
    "    solver = ode_solver.get_solver(\n",
    "        odefun=neuron.eval_yinf_and_yf, t0=0.0, y0=y0, h0=1e-6, method='EE', adaptive=True\n",
    "    )\n",
    "    \n",
    "    sol = solver.solve(tmax=tmax*1e3, show_progress=plot)\n",
    "    if plot: sol.plot(max_nx_sb=5)\n",
    "        \n",
    "    y_eq = sol.ys[-1,:]\n",
    "        \n",
    "    neuron.set_v_clamped(0)\n",
    "    vdot_eq = neuron.eval_ydot(t=0, y=y_eq)[0]\n",
    "    \n",
    "    if plot: print(vdot_eq)\n",
    "    \n",
    "    if return_y_eq:\n",
    "        return np.abs(vdot_eq), y_eq\n",
    "    else:\n",
    "        return np.abs(vdot_eq)"
   ]
  },
  {
   "cell_type": "code",
   "execution_count": null,
   "metadata": {},
   "outputs": [],
   "source": [
    "def get_v0_and_bounds(plot=True):\n",
    "    \"\"\"Test different voltage clamps\"\"\"\n",
    "    \n",
    "    vclamps = np.linspace(-80, -30, 101)\n",
    "    ydot_eqs = [get_ydot_eq(vclamp) for vclamp in vclamps]\n",
    "    best_idx = np.argmin(ydot_eqs)\n",
    "    \n",
    "    x0 = vclamps[best_idx]\n",
    "    \n",
    "    if x0 == vclamps[0]:\n",
    "        lb = vclamps[0]\n",
    "        ub = vclamps[1]\n",
    "    elif x0 == vclamps[-1]:\n",
    "        lb = vclamps[-2]\n",
    "        ub = vclamps[-1]\n",
    "    else:\n",
    "        lb = vclamps[np.argmin(ydot_eqs[:best_idx])]\n",
    "        ub = vclamps[best_idx+1+np.argmin(ydot_eqs[best_idx+1:])]\n",
    "    \n",
    "    if plot:\n",
    "        fig, ax = plt.subplots(figsize=(7,1.5), subplot_kw=dict(xlabel='Voltage', ylabel='|dvdt|'))\n",
    "        ax.semilogy(vclamps, ydot_eqs, 'x-')\n",
    "        ax.axvline(x0, c='k', alpha=0.6)\n",
    "        ax.axvline(lb, c='r', alpha=0.6, ls='--', zorder=-10)\n",
    "        ax.axvline(ub, c='c', alpha=0.6, ls='--', zorder=-10)\n",
    "        ax.set_title('Search between red and cyan line. Black is lowest so far.')\n",
    "        plt.show()\n",
    "    \n",
    "    assert x0 >= lb\n",
    "    assert x0 <= ub\n",
    "    \n",
    "    return x0, (lb, ub)"
   ]
  },
  {
   "cell_type": "code",
   "execution_count": null,
   "metadata": {},
   "outputs": [],
   "source": [
    "from scipy.optimize import minimize\n",
    "from scipy.ndimage.filters import gaussian_filter\n",
    "import metric_utils\n",
    "\n",
    "def find_y_eq(x0, bounds, plot=False, tmax=2):\n",
    "    \"\"\"Simulate model and look if there will be spikes.\"\"\"\n",
    "    eq_sol = minimize(get_ydot_eq, x0=x0, bounds=[bounds], tol=0.01)\n",
    "\n",
    "    best_v_clamp = eq_sol.x\n",
    "    vdot_eq, y_eq = get_ydot_eq(v_clamp=best_v_clamp, plot=False, return_y_eq=True)\n",
    "    \n",
    "    neuron.set_v_clamped(0)\n",
    "    \n",
    "    solver = ode_solver.get_solver(\n",
    "        odefun=neuron.eval_ydot, t0=0.0, y0=y_eq, h0=0.01, method='RKDP',\n",
    "        adaptive=1, adaptive_params={'max_step': 0.1, 'rtol': 1e-5, 'rtol': 1e-5},\n",
    "    )\n",
    "    sol = solver.solve(\n",
    "        tmax=tmax*1e3, return_vars=['ys', 'ydots', 'failed_steps'],\n",
    "        t_eval=math_utils.t_arange(0.0, tmax*1e3, 0.1)\n",
    "    )\n",
    "    \n",
    "    has_eq = np.all(sol.ys[:,0] < -20)\n",
    "    \n",
    "    if not has_eq:\n",
    "        spike_times = metric_utils.find_spike_times_in_trace(\n",
    "            ts=sol.ts, vs=sol.get_ys(yidx=0), thresh=20\n",
    "        )\n",
    "        spike_times = np.append(0, spike_times)\n",
    "        \n",
    "        idxspike = np.argmax(np.diff(spike_times))\n",
    "        idx0 = np.argmin(np.abs(sol.ts - spike_times[idxspike]))\n",
    "        idx1 = np.argmin(np.abs(sol.ts - spike_times[idxspike+1]))\n",
    "    \n",
    "        t_eq_idx = idx0 + np.argmin(gaussian_filter(sol.ys[idx0:idx1,0], 20))\n",
    "        \n",
    "    else:\n",
    "        t_eq_idx = 0\n",
    "        \n",
    "    y_eq = sol.ys[t_eq_idx,:]\n",
    "    \n",
    "    ### Plot ###\n",
    "    fig, ax = plt.subplots(figsize=(7,1.5))\n",
    "    ax.set_title(f\"{'EQ. found' if has_eq else 'no EQ. found'}, v0={sol.ys[t_eq_idx,0]:.1f}\")\n",
    "    ax.plot(sol.ts, sol.ys[:,0], label='voltage')\n",
    "    ax.set_ylabel('v(t)')\n",
    "    ax.set_xlabel('Time (s)')\n",
    "    \n",
    "    ax.axhline(y_eq[0], c='r', alpha=0.6, label='v_EQ')\n",
    "    ax.axvline(sol.ts[t_eq_idx], c='darkred', alpha=0.6, label='t_EQ')\n",
    "    \n",
    "    if not has_eq:\n",
    "        ax.axvline(sol.ts[idx0], c='c', alpha=0.6, zorder=-10, ls=':')\n",
    "        ax.axvline(sol.ts[idx1], c='c', alpha=0.6, zorder=-10, ls=':')\n",
    "\n",
    "    ax.legend(loc='best')\n",
    "    plt.show()\n",
    "        \n",
    "    return y_eq"
   ]
  },
  {
   "cell_type": "markdown",
   "metadata": {},
   "source": [
    "# Get y_eq for all cells"
   ]
  },
  {
   "cell_type": "code",
   "execution_count": null,
   "metadata": {},
   "outputs": [],
   "source": [
    "neuron2y0 = {}"
   ]
  },
  {
   "cell_type": "code",
   "execution_count": null,
   "metadata": {},
   "outputs": [],
   "source": [
    "zero_stim = stim_utils.Istim(Iamp=0, onset=0, offset=0)"
   ]
  },
  {
   "cell_type": "code",
   "execution_count": null,
   "metadata": {},
   "outputs": [],
   "source": [
    "np.random.seed(42)\n",
    "\n",
    "for name in np.flip(list(stg_parameters.neuron2gs.keys())):\n",
    "    neuron = stg_model.stg_model(n_neurons=1, g_params=name, stim=zero_stim)\n",
    "    print(name)\n",
    "    x0, bounds = get_v0_and_bounds(plot=True)\n",
    "    y_eq = find_y_eq(x0, bounds, plot=True)\n",
    "    \n",
    "    neuron2y0[name] = y_eq\n",
    "    print('------------------------')"
   ]
  },
  {
   "cell_type": "code",
   "execution_count": null,
   "metadata": {},
   "outputs": [],
   "source": [
    "data_utils.save_var(neuron2y0, '../../models/stg_neuron2y0.pkl')"
   ]
  }
 ],
 "metadata": {
  "kernelspec": {
   "display_name": "Python 3",
   "language": "python",
   "name": "python3"
  },
  "language_info": {
   "codemirror_mode": {
    "name": "ipython",
    "version": 3
   },
   "file_extension": ".py",
   "mimetype": "text/x-python",
   "name": "python",
   "nbconvert_exporter": "python",
   "pygments_lexer": "ipython3",
   "version": "3.7.5"
  },
  "toc": {
   "base_numbering": 1,
   "nav_menu": {},
   "number_sections": true,
   "sideBar": true,
   "skip_h1_title": false,
   "title_cell": "Table of Contents",
   "title_sidebar": "Contents",
   "toc_cell": false,
   "toc_position": {},
   "toc_section_display": true,
   "toc_window_display": true
  },
  "varInspector": {
   "cols": {
    "lenName": 16,
    "lenType": 16,
    "lenVar": 40
   },
   "kernels_config": {
    "python": {
     "delete_cmd_postfix": "",
     "delete_cmd_prefix": "del ",
     "library": "var_list.py",
     "varRefreshCmd": "print(var_dic_list())"
    },
    "r": {
     "delete_cmd_postfix": ") ",
     "delete_cmd_prefix": "rm(",
     "library": "var_list.r",
     "varRefreshCmd": "cat(var_dic_list()) "
    }
   },
   "types_to_exclude": [
    "module",
    "function",
    "builtin_function_or_method",
    "instance",
    "_Feature"
   ],
   "window_display": false
  }
 },
 "nbformat": 4,
 "nbformat_minor": 4
}
