{
 "cells": [
  {
   "cell_type": "markdown",
   "metadata": {},
   "source": [
    "# STG single neuron"
   ]
  },
  {
   "cell_type": "code",
   "execution_count": null,
   "metadata": {},
   "outputs": [],
   "source": [
    "import numpy as np\n",
    "import pandas as pd\n",
    "\n",
    "from matplotlib import pyplot as plt\n",
    "import seaborn as sns\n",
    "\n",
    "from itertools import product as itproduct"
   ]
  },
  {
   "cell_type": "code",
   "execution_count": null,
   "metadata": {},
   "outputs": [],
   "source": [
    "from sys import path as sys_path\n",
    "from os.path import abspath as os_path_abspath\n",
    "sys_path.append(os_path_abspath('..'))\n",
    "import addpaths"
   ]
  },
  {
   "cell_type": "code",
   "execution_count": null,
   "metadata": {},
   "outputs": [],
   "source": [
    "%load_ext autoreload\n",
    "%autoreload 2"
   ]
  },
  {
   "cell_type": "code",
   "execution_count": null,
   "metadata": {},
   "outputs": [],
   "source": [
    "import plot_utils as pltu"
   ]
  },
  {
   "cell_type": "markdown",
   "metadata": {},
   "source": [
    "# Model"
   ]
  },
  {
   "cell_type": "code",
   "execution_count": null,
   "metadata": {},
   "outputs": [],
   "source": [
    "import stim_utils\n",
    "\n",
    "t0, tmax = 0, 3000\n",
    "Iamp = 3\n",
    "stim = stim_utils.Istim(Iamp=Iamp, onset=900, offset=tmax*2, name=f'step{Iamp}')\n",
    "stim.plot(t0=t0, tmax=tmax)"
   ]
  },
  {
   "cell_type": "code",
   "execution_count": null,
   "metadata": {},
   "outputs": [],
   "source": [
    "import stg_model\n",
    "\n",
    "panel = 'b'\n",
    "neuron = stg_model.stg_model_1n(g_params=panel, stim=stim)\n",
    "neuron"
   ]
  },
  {
   "cell_type": "markdown",
   "metadata": {},
   "source": [
    "# Generator"
   ]
  },
  {
   "cell_type": "code",
   "execution_count": null,
   "metadata": {},
   "outputs": [],
   "source": [
    "from data_generator_STG import data_generator_STG\n",
    "import math_utils\n",
    "\n",
    "gen = data_generator_STG(\n",
    "    y0=neuron.y0, t0=t0, tmax=tmax, t_eval_adaptive=math_utils.t_arange(t0, tmax, 1),\n",
    "    n_samples=40, n_parallel=20, model=neuron, yidxs=np.arange(13),\n",
    "    gen_det_sols=True, gen_acc_sols=True, acc_same_ts=True,\n",
    "    base_folder='_data/subunits'\n",
    ")\n",
    "gen.update_subfoldername(stim=stim.name, panel=panel)"
   ]
  },
  {
   "cell_type": "markdown",
   "metadata": {},
   "source": [
    "## Test"
   ]
  },
  {
   "cell_type": "code",
   "execution_count": null,
   "metadata": {},
   "outputs": [],
   "source": [
    "%%time\n",
    "solver = gen.get_solver(method='EE', step_param=0.1, pert_method='conrad', adaptive=0)\n",
    "sol = solver.solve(tmax=tmax, n_samples=20)\n",
    "sol.plot(y_idxs=[0])"
   ]
  },
  {
   "cell_type": "markdown",
   "metadata": {},
   "source": [
    "# Data"
   ]
  },
  {
   "cell_type": "code",
   "execution_count": null,
   "metadata": {},
   "outputs": [],
   "source": [
    "pert_method = 'conrad'\n",
    "adaptive = 0\n",
    "method = 'EE'\n",
    "step_params = [0.1, 0.025, 0.01]"
   ]
  },
  {
   "cell_type": "code",
   "execution_count": null,
   "metadata": {},
   "outputs": [],
   "source": [
    "for step_param in step_params:\n",
    "    gen.gen_and_save_data(\n",
    "        stim=stim, method=method, adaptive=adaptive, step_param=step_param,\n",
    "        pert_method=pert_method, overwrite=False, plot=False\n",
    "    )"
   ]
  },
  {
   "cell_type": "markdown",
   "metadata": {},
   "source": [
    "# Plot"
   ]
  },
  {
   "cell_type": "code",
   "execution_count": null,
   "metadata": {},
   "outputs": [],
   "source": [
    "yidxs = [0,1,11]"
   ]
  },
  {
   "cell_type": "markdown",
   "metadata": {},
   "source": [
    "## Load data"
   ]
  },
  {
   "cell_type": "code",
   "execution_count": null,
   "metadata": {},
   "outputs": [],
   "source": [
    "from data_loader import data_loader\n",
    "\n",
    "df = data_loader(gen).load_data2dataframe(\n",
    "    [(pert_method, adaptive, [method], step_params)], allowgenerror=False, MAEs=False,\n",
    ")\n",
    "df.columns"
   ]
  },
  {
   "cell_type": "markdown",
   "metadata": {},
   "source": [
    "## Plot example"
   ]
  },
  {
   "cell_type": "code",
   "execution_count": null,
   "metadata": {},
   "outputs": [],
   "source": [
    "example_data_row = df.iloc[0]\n",
    "example_data_row"
   ]
  },
  {
   "cell_type": "code",
   "execution_count": null,
   "metadata": {},
   "outputs": [],
   "source": [
    "def plot_traces(yidxs, axs):\n",
    "    \"\"\"Plot traces, assume axis column.\"\"\"\n",
    "    stim_ts = np.sort(np.concatenate([np.linspace(t0, tmax, 1001), [stim.onset-1e-6, stim.onset, stim.onset+1e-6]]))\n",
    "    stim_Is = np.array([neuron.get_Istim_at_t(t) for t in stim_ts])\n",
    "    pltu.plot_stim_on_trace_plot(ax=axs[0], ts=stim_ts, stim=stim_Is, stim_y0=60, stim_y1=77)\n",
    "    axs[0].set_ylim(-85, 55)\n",
    "\n",
    "    for ax, yidx in zip(axs, yidxs):\n",
    "        pltu.plot_sample_trace(\n",
    "            ax=ax, ts=example_data_row.acc_ts, ys=example_data_row.acc_ys[:,yidx], label='ref.', intpol_dt=0.5)\n",
    "        pltu.plot_mean_and_uncertainty(\n",
    "            ax=ax, ts=example_data_row.ts, ys=example_data_row.ys[:,:,yidx],\n",
    "            intpol_dt=0.5, smpidxs=[0]\n",
    "        )\n",
    "        ax.set_ylabel(r\"$\\mathrm{\" + f\"{neuron.get_y_names()[yidx]}(t)\" + \"}$\")\n",
    "        if yidx != yidxs[-1]: ax.set_xticklabels([])\n",
    "    axs[-1].set_xlabel('Time (s)')\n",
    "    for ax in axs: pltu.scale_ticks(ax, scale=1e-3)"
   ]
  },
  {
   "cell_type": "code",
   "execution_count": null,
   "metadata": {},
   "outputs": [],
   "source": [
    "fig, axs = pltu.subplots(1, len(yidxs), squeeze=False, ysizerow=0.8, xsize='text')\n",
    "plot_traces(yidxs=yidxs, axs=axs.flat)\n",
    "plt.tight_layout()"
   ]
  },
  {
   "cell_type": "markdown",
   "metadata": {},
   "source": [
    "## Runtime vs MEA"
   ]
  },
  {
   "cell_type": "code",
   "execution_count": null,
   "metadata": {},
   "outputs": [],
   "source": [
    "import metric_utils\n",
    "\n",
    "def plot_runtime_vs_MAE_SR(ax, df, yidxs, lss=['-','--',':'], markers=['o', 'd', 'v'], legend=True):\n",
    "    \"\"\"Plot summary. Assumes 2d-axs\"\"\"\n",
    "    \n",
    "    assert np.unique(df.method).size == 1\n",
    "    assert np.unique(df.adaptive).size == 1\n",
    "    assert np.unique(df.pert_method).size == 1\n",
    "    assert np.unique(df.pert_param).size == 1\n",
    "    \n",
    "    df = df.sort_values(by=['step_param'], ascending=False)\n",
    "    step_params = np.flip(np.unique(df.step_param))\n",
    "    \n",
    "    ### Plot data ###\n",
    "    for ii, yidx in enumerate(yidxs):\n",
    "        label = r\"norm. $\\mathrm{\" + f\"{neuron.get_y_names()[yidx]}(t)\" + \"}$\"\n",
    "\n",
    "        # Compute normalized data\n",
    "        MAEs = []\n",
    "        for _, data_row in df.iterrows():\n",
    "            samples = data_row['ys'][:,:,yidx]\n",
    "            target = data_row['acc_ys'][:,yidx]\n",
    "\n",
    "            targetmin, targetmax = target.min(), target.max()\n",
    "\n",
    "            samples = (samples - targetmin) / (targetmax - targetmin)\n",
    "            target = (target - targetmin) / (targetmax - targetmin)\n",
    "\n",
    "            MAE_SR = metric_utils.compute_sample_target_distances(samples=samples, target=target)\n",
    "            MAEs.append(MAE_SR)\n",
    "\n",
    "        # Plot data\n",
    "        pltu.plot_percentiles(\n",
    "            ax,\n",
    "            positions=step_params, data=MAEs,\n",
    "            marker=markers[ii],\n",
    "            color=pltu.neuron2color((ii+2)%3),\n",
    "            mean_kw=dict(ls=lss[ii], label=label),\n",
    "            line_kw=dict(capsize=4, alpha=0.7, capthick=2),\n",
    "            connect_alpha=0.7,\n",
    "            showflier=False,\n",
    "        )\n",
    "\n",
    "    ### Decorate ###\n",
    "    ax.set(xscale='log', yscale='log')\n",
    "    ax.invert_xaxis()\n",
    "    ax.grid(True, axis='y', alpha=.3, c='k', lw=plt.rcParams['ytick.major.width'])\n",
    "    \n",
    "    if legend: ax.legend(loc='lower left', handlelength=2.3, bbox_to_anchor=(0.01,-0.02))\n",
    "\n",
    "    pltu.set_labs(ax, xlabs='Step-size (ms)')\n",
    "    pltu.set_labs(ax, ylabs=r'MAE$_\\mathrm{SR}$')"
   ]
  },
  {
   "cell_type": "code",
   "execution_count": null,
   "metadata": {},
   "outputs": [],
   "source": [
    "fig, ax = pltu.subplots(1, 1, ysizerow=2, yoffsize=0.3, squeeze=True)\n",
    "plot_runtime_vs_MAE_SR(ax, df, yidxs=yidxs)"
   ]
  },
  {
   "cell_type": "markdown",
   "metadata": {},
   "source": [
    "## Plot both on the same figure"
   ]
  },
  {
   "cell_type": "code",
   "execution_count": null,
   "metadata": {},
   "outputs": [],
   "source": [
    "figshape = (3, 5)\n",
    "\n",
    "fig = plt.figure(figsize=(pltu.TEXT_WIDTH, 2))\n",
    "\n",
    "ax1 = plt.subplot2grid(figshape, (0, 0), colspan=3, rowspan=1)\n",
    "ax2 = plt.subplot2grid(figshape, (1, 0), colspan=3, rowspan=1)\n",
    "ax3 = plt.subplot2grid(figshape, (2, 0), colspan=3, rowspan=1)\n",
    "\n",
    "### Plot ###\n",
    "plot_traces(yidxs=yidxs, axs=[ax1, ax2, ax3])\n",
    "ax4 = plt.subplot2grid(figshape, (0, 3), colspan=2, rowspan=3)\n",
    "\n",
    "plot_runtime_vs_MAE_SR(ax=ax4, df=df, yidxs=yidxs)\n",
    "\n",
    "### Decorate ###\n",
    "pltu.move_xaxis_outward([ax1, ax2, ax3, ax4], scale=2)\n",
    "pltu.set_labs([ax1, ax2, ax3, ax4], panel_nums='auto', panel_num_space=10, panel_num_va='top')\n",
    "for ax in [ax1, ax2]: ax.set_xticklabels([])\n",
    "\n",
    "sns.despine()\n",
    "fig.align_labels()\n",
    "pltu.tight_layout(h_pad=-0.3, w_pad=1)\n",
    "\n",
    "ax3.legend(loc='upper right', borderpad=0.1, borderaxespad=0.3, frameon=True, bbox_to_anchor=(0,0,1,1.55))\n",
    "\n",
    "pltu.savefig(\"STG1_subunits\")\n",
    "plt.show()\n",
    "\n",
    "pltu.show_saved_figure(fig)"
   ]
  }
 ],
 "metadata": {
  "kernelspec": {
   "display_name": "Python 3",
   "language": "python",
   "name": "python3"
  },
  "language_info": {
   "codemirror_mode": {
    "name": "ipython",
    "version": 3
   },
   "file_extension": ".py",
   "mimetype": "text/x-python",
   "name": "python",
   "nbconvert_exporter": "python",
   "pygments_lexer": "ipython3",
   "version": "3.7.5"
  },
  "toc": {
   "base_numbering": 1,
   "nav_menu": {},
   "number_sections": true,
   "sideBar": true,
   "skip_h1_title": false,
   "title_cell": "Table of Contents",
   "title_sidebar": "Contents",
   "toc_cell": false,
   "toc_position": {
    "height": "calc(100% - 180px)",
    "left": "10px",
    "top": "150px",
    "width": "383.949px"
   },
   "toc_section_display": true,
   "toc_window_display": true
  },
  "toc-autonumbering": false,
  "toc-showmarkdowntxt": false,
  "varInspector": {
   "cols": {
    "lenName": 16,
    "lenType": 16,
    "lenVar": 40
   },
   "kernels_config": {
    "python": {
     "delete_cmd_postfix": "",
     "delete_cmd_prefix": "del ",
     "library": "var_list.py",
     "varRefreshCmd": "print(var_dic_list())"
    },
    "r": {
     "delete_cmd_postfix": ") ",
     "delete_cmd_prefix": "rm(",
     "library": "var_list.r",
     "varRefreshCmd": "cat(var_dic_list()) "
    }
   },
   "types_to_exclude": [
    "module",
    "function",
    "builtin_function_or_method",
    "instance",
    "_Feature"
   ],
   "window_display": false
  }
 },
 "nbformat": 4,
 "nbformat_minor": 4
}
