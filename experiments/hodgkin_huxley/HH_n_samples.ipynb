{
 "cells": [
  {
   "cell_type": "markdown",
   "metadata": {},
   "source": [
    "# Hodgkin-Huxley | Number of samples\n",
    "\n",
    "Compute the solutions for the HH neuron for:\n",
    "- different stimuli\n",
    "- different solvers\n",
    "\n",
    "Bootstrap the MAE ratio as a function of the number of samples"
   ]
  },
  {
   "cell_type": "code",
   "execution_count": null,
   "metadata": {},
   "outputs": [],
   "source": [
    "import numpy as np\n",
    "import pandas as pd\n",
    "\n",
    "from matplotlib import pyplot as plt\n",
    "import seaborn as sns\n",
    "\n",
    "from itertools import product as itproduct"
   ]
  },
  {
   "cell_type": "code",
   "execution_count": null,
   "metadata": {},
   "outputs": [],
   "source": [
    "from sys import path as sys_path\n",
    "from os.path import abspath as os_path_abspath\n",
    "sys_path.append(os_path_abspath('..'))\n",
    "import addpaths"
   ]
  },
  {
   "cell_type": "code",
   "execution_count": null,
   "metadata": {},
   "outputs": [],
   "source": [
    "%load_ext autoreload\n",
    "%autoreload 2"
   ]
  },
  {
   "cell_type": "code",
   "execution_count": null,
   "metadata": {},
   "outputs": [],
   "source": [
    "import math_utils\n",
    "import metric_utils\n",
    "import plot_utils as pltu"
   ]
  },
  {
   "cell_type": "markdown",
   "metadata": {},
   "source": [
    "# Model"
   ]
  },
  {
   "cell_type": "code",
   "execution_count": null,
   "metadata": {},
   "outputs": [],
   "source": [
    "import hodgkin_huxley\n",
    "\n",
    "t0, tmax = 0, 100\n",
    "neuron = hodgkin_huxley.neuron()"
   ]
  },
  {
   "cell_type": "code",
   "execution_count": null,
   "metadata": {},
   "outputs": [],
   "source": [
    "import stim_utils\n",
    "\n",
    "stim_onset, stim_offset = 10, tmax-10\n",
    "stims = [\n",
    "    stim_utils.Istim(Iamp=0.15, onset=stim_onset, offset=stim_offset, name='Step'),\n",
    "    stim_utils.Istim_noisy(Iamp=0.2, onset=stim_onset, offset=stim_offset, name='Noisy', nknots=51, seed=1146),\n",
    "]"
   ]
  },
  {
   "cell_type": "code",
   "execution_count": null,
   "metadata": {},
   "outputs": [],
   "source": [
    "for stim in stims: stim.plot(t0=t0, tmax=tmax)"
   ]
  },
  {
   "cell_type": "markdown",
   "metadata": {},
   "source": [
    "# Generator"
   ]
  },
  {
   "cell_type": "code",
   "execution_count": null,
   "metadata": {},
   "outputs": [],
   "source": [
    "from data_generator_HH import data_generator_HH\n",
    "from copy import deepcopy\n",
    "\n",
    "gens = {}\n",
    "\n",
    "for stim in stims:    \n",
    "    neuron = deepcopy(neuron)\n",
    "    neuron.get_Istim_at_t = stim.get_I_at_t\n",
    "    \n",
    "    gens[stim] = data_generator_HH(\n",
    "        t0=t0, tmax=tmax, t_eval_adaptive=math_utils.t_arange(t0, tmax, 1),\n",
    "        model=neuron, y0=neuron.compute_yinf(-65),\n",
    "        n_samples=300, n_parallel=20,\n",
    "        gen_det_sols=True, gen_acc_sols=True, acc_same_ts=True,\n",
    "        base_folder='_data/n_samples_summary'\n",
    "    )\n",
    "    \n",
    "    gens[stim].update_subfoldername(stim=stim.name)\n",
    "    gens[stim].load_acc_sols_from_file()"
   ]
  },
  {
   "cell_type": "code",
   "execution_count": null,
   "metadata": {},
   "outputs": [],
   "source": [
    "# pert_method, adaptive, methods, step_params, pert_params\n",
    "solver_params = [\n",
    "    ('conrad', 0, ['EEMP'], [0.1], [1]),\n",
    "    ('conrad', 1, ['RKBS'], [1e-3], [1]),\n",
    "    \n",
    "    ('abdulle', 0, ['EEMP'], [0.1], [0.1]),\n",
    "    ('abdulle', 1, ['RKBS'], [1e-3], [0.1]),\n",
    "]"
   ]
  },
  {
   "cell_type": "markdown",
   "metadata": {},
   "source": [
    "## Data"
   ]
  },
  {
   "cell_type": "code",
   "execution_count": null,
   "metadata": {},
   "outputs": [],
   "source": [
    "for stim, gen in gens.items():\n",
    "    \n",
    "    print('----------------------------------------------------------')\n",
    "    print(stim, ':', gen.subfoldername)\n",
    "    print('----------------------------------------------------------')   \n",
    "    \n",
    "    for pert_method, adaptive, methods, step_params, pert_params in solver_params:\n",
    "        for method, step_param, pert_param in itproduct(methods, step_params, pert_params):\n",
    "            gen.gen_and_save_data(\n",
    "                method=method, adaptive=adaptive, step_param=step_param,\n",
    "                pert_method=pert_method, pert_param=pert_param,\n",
    "                overwrite=False, plot=True,\n",
    "            )"
   ]
  },
  {
   "cell_type": "markdown",
   "metadata": {},
   "source": [
    "# Load data"
   ]
  },
  {
   "cell_type": "code",
   "execution_count": null,
   "metadata": {},
   "outputs": [],
   "source": [
    "from data_loader import data_loader\n",
    "\n",
    "df = pd.DataFrame()\n",
    "for stim, gen in gens.items():\n",
    "    stim_df = data_loader(gen).load_data2dataframe(solver_params, drop_traces=True, MAE_SS_flat=False)\n",
    "    stim_df['stimfun'] = stim\n",
    "    stim_df['stim'] = stim.name\n",
    "    df = df.append(stim_df, ignore_index=True)"
   ]
  },
  {
   "cell_type": "code",
   "execution_count": null,
   "metadata": {},
   "outputs": [],
   "source": [
    "n_samples_list = [2,3,5,10,20]\n",
    "n_boot = 1000\n",
    "average_fun = np.mean\n",
    "\n",
    "df['avg_MAE_SS'] = None\n",
    "for n in n_samples_list:\n",
    "    df[f'avg_MAE_SS_n{n}'] = None\n",
    "    df[f'avg_MAE_ratio_SS_n{n}'] = None\n",
    "\n",
    "for i, data_row in df.iterrows():\n",
    "    df.at[i, f'avg_MAE_SS'] = average_fun(data_row.MAE_SS[np.triu_indices(data_row.MAE_SS.shape[0], 1)])\n",
    "    for n in n_samples_list:\n",
    "        MAE_SS_n, _ = metric_utils.bootstrap_average_distance(\n",
    "            dist_SS=data_row.MAE_SS, dist_SR=data_row.MAE_SR,\n",
    "            n_samples=n, n_boot=n_boot, average_fun=average_fun\n",
    "        )\n",
    "            \n",
    "        df.at[i, f'avg_MAE_SS_n{n}'] = np.asarray(MAE_SS_n)\n",
    "        df.at[i, f'avg_MAE_ratio_SS_n{n}'] = df.at[i, f'avg_MAE_SS_n{n}'] / df.at[i, f'avg_MAE_SS']"
   ]
  },
  {
   "cell_type": "markdown",
   "metadata": {},
   "source": [
    "# Figure"
   ]
  },
  {
   "cell_type": "markdown",
   "metadata": {},
   "source": [
    "## Plot functions\n",
    "\n",
    "How many samples are needed to get a good estimate of the SS distance and therefore a estimate for the SR distance."
   ]
  },
  {
   "cell_type": "code",
   "execution_count": null,
   "metadata": {},
   "outputs": [],
   "source": [
    "def plot_R_distribution(ax, df, transform=None, lb=None, ub=None):\n",
    "    \"\"\"Plot R distributions as violins as a function of the stimulus and sample number\"\"\"\n",
    "    assert df.method.nunique() == 1\n",
    "    assert df.adaptive.nunique() == 1\n",
    "    assert df.pert_method.nunique() == 1\n",
    "    assert df.step_param.nunique() == 1\n",
    "    \n",
    "    if transform is None: transform = lambda x: x\n",
    "    \n",
    "    # Plot ratio distribution\n",
    "    plot_df = pd.DataFrame()\n",
    "    for _, data_row in df.iterrows():\n",
    "        plot_df = plot_df.append(pd.DataFrame({\n",
    "            'n': np.repeat(n_samples_list, n_boot),\n",
    "            'stim': np.repeat(data_row.stim, n_boot*len(n_samples_list)),\n",
    "            'R': transform(np.concatenate([data_row[f'avg_MAE_ratio_SS_n{n}'] for n in n_samples_list])),\n",
    "        }))\n",
    "\n",
    "    sns.violinplot(\n",
    "        ax=ax, data=plot_df, x='n', y='R', hue='stim', scale=\"width\",\n",
    "        hue_order=[stim.name for stim in stims],\n",
    "        palette=[stim2color[stim.name] for stim in stims],\n",
    "        split=False, cut=0, linewidth=0.1, inner=None,\n",
    "    )\n",
    "    \n",
    "    if lb is not None and ub is not None:\n",
    "        ax.axhline(transform(lb), color='gray', ls=':', alpha=1.0, zorder=-1000)\n",
    "        ax.axhline(transform(1), color='gray', ls='-', alpha=1.0, zorder=-1000)\n",
    "        ax.axhline(transform(ub), color='gray', ls=':', alpha=1.0, zorder=-1000)"
   ]
  },
  {
   "cell_type": "code",
   "execution_count": null,
   "metadata": {},
   "outputs": [],
   "source": [
    "from matplotlib.ticker import FuncFormatter\n",
    "\n",
    "def plot_R_summary(ax, df, lb, ub, marker, ls):\n",
    "    for _, data_row in subgroup.iterrows():\n",
    "        percentages = []\n",
    "        for n in n_samples_list:\n",
    "            percentages.append(\n",
    "                np.mean((data_row[f'avg_MAE_ratio_SS_n{n}'] >= lb) & (data_row[f'avg_MAE_ratio_SS_n{n}'] <= ub))\n",
    "            )\n",
    "    \n",
    "        ax.plot(percentages, color=stim2color[data_row.stim], marker=marker, ls=ls, label='_', clip_on=True, **line_kws)\n",
    "        ax.yaxis.set_major_formatter(FuncFormatter(lambda y, _: '{:.0%}'.format(y)))\n",
    "        print(data_row.stim, percentages)"
   ]
  },
  {
   "cell_type": "markdown",
   "metadata": {},
   "source": [
    "## Plot"
   ]
  },
  {
   "cell_type": "code",
   "execution_count": null,
   "metadata": {},
   "outputs": [],
   "source": [
    "### Metric parameters ###\n",
    "lb, ub = 0.5, 2.0\n",
    "\n",
    "### Plot parameters ###\n",
    "stim2color = {stim.name: pltu.neuron2color(i) for i, stim in enumerate(stims)}\n",
    "markers = ['^', 'o', 'v']\n",
    "lss = ['-', '--', ':']\n",
    "\n",
    "line_kws = dict(lw=1, markeredgewidth=0.0, alpha=0.8)\n",
    "\n",
    "### Create axes ###\n",
    "fig, axs = pltu.subplots(3, 2, yoffsize=0.6, ysizerow=1, sharey=False, squeeze=False, xsize='text')\n",
    "\n",
    "all_legend_handles, all_legend_labels = [], [] # Collect plotted methods\n",
    "\n",
    "### Plot data ###\n",
    "for ax_row, (method, group) in zip(axs, df.groupby(['method'], sort=False)):\n",
    "        \n",
    "    legend_handles, legend_labels = [], []\n",
    "\n",
    "    for i, (ax, ((pert_method, adaptive), subgroup)) in enumerate(zip(ax_row, group.groupby(['pert_method', 'adaptive'], sort=False))):\n",
    "        \n",
    "        # Plot R distributions\n",
    "        ax.set_title(pltu.method2label(method=method, adaptive=adaptive, pert_method=pert_method)) \n",
    "        plot_R_distribution(ax=ax, df=subgroup, transform=np.log10, lb=lb, ub=ub)\n",
    "\n",
    "        # Plot R in bounds\n",
    "        plot_R_summary(ax_row[-1], df=subgroup, lb=lb, ub=ub, marker=markers[i], ls=lss[i])\n",
    "        \n",
    "        # Collect legend handles\n",
    "        legend_handles.append(pltu.get_legend_handle(\n",
    "            marker=markers[i], ls=lss[i], color=stim2color[stims[0].name], altcolor=stim2color[stims[1].name], **line_kws\n",
    "        ))\n",
    "        legend_labels.append(pltu.method2label(\n",
    "            method=method, adaptive=adaptive, pert_method=pert_method\n",
    "        ))\n",
    "          \n",
    "    all_legend_handles.append(legend_handles)\n",
    "    all_legend_labels.append(legend_labels)\n",
    "                       \n",
    "### Decorate ###\n",
    "for ax in axs[:,0].flat: ax.set_ylabel(pltu.text2mathtext('log_10 (R_SS )'))\n",
    "for ax in axs[:,-1]: ax.set_ylabel(pltu.text2mathtext('R_SS \\in ' + f'[{lb}, {ub}]'))\n",
    "\n",
    "for ax in axs[:,1:-1].flat:\n",
    "    ax.set_ylabel(None)\n",
    "    ax.legend().set_visible(False)\n",
    "\n",
    "for ax in axs[1:,:-1].flat:\n",
    "    ax.legend().set_visible(False)\n",
    "\n",
    "# customize legends\n",
    "ax = axs[0,0]\n",
    "handles, labels = ax.get_legend_handles_labels()\n",
    "labels = [pltu.stim2label(stim_name) for stim_name in labels]\n",
    "ax.legend(handles=handles, labels=labels, loc='lower right')\n",
    "\n",
    "# Labels and ticks\n",
    "for ax in axs[-1,:]: ax.set_xlabel(r'No. samples')\n",
    "for ax in axs[:-1,:].flat: ax.set_xlabel(None)\n",
    "pltu.move_xaxis_outward(axs)\n",
    "\n",
    "for ax in axs.flat:\n",
    "    ax.set_xticks(range(len(n_samples_list)))\n",
    "    ax.set_xticklabels(n_samples_list)\n",
    "\n",
    "for ax_row in axs: pltu.make_share_ylims(axs[:,-1])\n",
    "for ax in axs[:1,:].flat: ax.set_xticklabels([])\n",
    "pltu.set_labs(axs, panel_nums='auto')\n",
    "fig.align_ylabels()\n",
    "fig.align_xlabels()\n",
    "sns.despine()\n",
    "\n",
    "pltu.tight_layout(w_pad=-2., h_pad=1.5, rect=[0, 0, 0.91, 0.995])\n",
    "pltu.move_box(axs[:,-1], dx=0.08)\n",
    "\n",
    "for ax, legend_handles, legend_labels in zip(axs[:,-1], all_legend_handles, all_legend_labels):\n",
    "    ax.legend(\n",
    "        handles=legend_handles, labels=legend_labels, loc='lower right',\n",
    "        handlelength=2.3, bbox_to_anchor=(1,-0.1)\n",
    "    )\n",
    "\n",
    "pltu.savefig('HH_n_samples_summary')\n",
    "pltu.show_saved_figure(fig)\n",
    "plt.show()"
   ]
  }
 ],
 "metadata": {
  "kernelspec": {
   "display_name": "Python 3",
   "language": "python",
   "name": "python3"
  },
  "language_info": {
   "codemirror_mode": {
    "name": "ipython",
    "version": 3
   },
   "file_extension": ".py",
   "mimetype": "text/x-python",
   "name": "python",
   "nbconvert_exporter": "python",
   "pygments_lexer": "ipython3",
   "version": "3.7.5"
  },
  "toc": {
   "base_numbering": 1,
   "nav_menu": {},
   "number_sections": true,
   "sideBar": true,
   "skip_h1_title": false,
   "title_cell": "Table of Contents",
   "title_sidebar": "Contents",
   "toc_cell": false,
   "toc_position": {
    "height": "calc(100% - 180px)",
    "left": "10px",
    "top": "150px",
    "width": "383.938px"
   },
   "toc_section_display": true,
   "toc_window_display": true
  },
  "toc-autonumbering": false,
  "toc-showtags": false,
  "varInspector": {
   "cols": {
    "lenName": 16,
    "lenType": 16,
    "lenVar": 40
   },
   "kernels_config": {
    "python": {
     "delete_cmd_postfix": "",
     "delete_cmd_prefix": "del ",
     "library": "var_list.py",
     "varRefreshCmd": "print(var_dic_list())"
    },
    "r": {
     "delete_cmd_postfix": ") ",
     "delete_cmd_prefix": "rm(",
     "library": "var_list.r",
     "varRefreshCmd": "cat(var_dic_list()) "
    }
   },
   "types_to_exclude": [
    "module",
    "function",
    "builtin_function_or_method",
    "instance",
    "_Feature"
   ],
   "window_display": false
  }
 },
 "nbformat": 4,
 "nbformat_minor": 4
}
