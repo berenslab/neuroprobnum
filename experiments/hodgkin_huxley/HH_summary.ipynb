{
 "cells": [
  {
   "cell_type": "markdown",
   "metadata": {},
   "source": [
    "# Hodgkin-Huxley | Run time"
   ]
  },
  {
   "cell_type": "code",
   "execution_count": null,
   "metadata": {},
   "outputs": [],
   "source": [
    "import numpy as np\n",
    "import pandas as pd\n",
    "\n",
    "from matplotlib import pyplot as plt\n",
    "import seaborn as sns\n",
    "\n",
    "from itertools import product as itproduct"
   ]
  },
  {
   "cell_type": "code",
   "execution_count": null,
   "metadata": {},
   "outputs": [],
   "source": [
    "from sys import path as sys_path\n",
    "from os.path import abspath as os_path_abspath\n",
    "sys_path.append(os_path_abspath('..'))\n",
    "import addpaths"
   ]
  },
  {
   "cell_type": "code",
   "execution_count": null,
   "metadata": {},
   "outputs": [],
   "source": [
    "%load_ext autoreload\n",
    "%autoreload 2"
   ]
  },
  {
   "cell_type": "code",
   "execution_count": null,
   "metadata": {},
   "outputs": [],
   "source": [
    "import stim_utils\n",
    "import math_utils\n",
    "import frame_utils\n",
    "import metric_utils\n",
    "import plot_utils as pltu"
   ]
  },
  {
   "cell_type": "markdown",
   "metadata": {},
   "source": [
    "# Model"
   ]
  },
  {
   "cell_type": "code",
   "execution_count": null,
   "metadata": {},
   "outputs": [],
   "source": [
    "import hodgkin_huxley\n",
    "\n",
    "t0, tmax = 0, 100\n",
    "neuron = hodgkin_huxley.neuron()"
   ]
  },
  {
   "cell_type": "code",
   "execution_count": null,
   "metadata": {},
   "outputs": [],
   "source": [
    "stim_onset, stim_offset = 10, tmax-10\n",
    "stims = [\n",
    "    stim_utils.Istim(Iamp=0.15, onset=stim_onset, offset=stim_offset, name='Step'),\n",
    "    stim_utils.Istim_noisy(Iamp=0.2, onset=stim_onset, offset=stim_offset, name='Noisy', nknots=51, seed=1146),\n",
    "]\n",
    "for stim in stims: stim.plot(t0=t0, tmax=tmax)"
   ]
  },
  {
   "cell_type": "markdown",
   "metadata": {},
   "source": [
    "# Generator"
   ]
  },
  {
   "cell_type": "code",
   "execution_count": null,
   "metadata": {},
   "outputs": [],
   "source": [
    "from data_generator_HH import data_generator_HH\n",
    "from copy import deepcopy\n",
    "\n",
    "gens = {}\n",
    "\n",
    "for stim in stims:\n",
    "    \n",
    "    neuron = deepcopy(neuron)\n",
    "    neuron.get_Istim_at_t = stim.get_I_at_t\n",
    "    \n",
    "    gens[stim] = data_generator_HH(\n",
    "        t0=t0, tmax=tmax, t_eval_adaptive=math_utils.t_arange(t0, tmax, 1),\n",
    "        return_vars=['events', 'ys'],\n",
    "        model=neuron, y0=neuron.compute_yinf(-65), thresh=0.0,\n",
    "        n_samples=20, n_parallel=20,\n",
    "        gen_det_sols=True, gen_acc_sols=True, acc_same_ts=True,\n",
    "        base_folder='_data/run_time'\n",
    "    )\n",
    "    gens[stim].update_subfoldername(stim=stim.name)\n",
    "    gens[stim].load_acc_sols_from_file()    "
   ]
  },
  {
   "cell_type": "markdown",
   "metadata": {},
   "source": [
    "## Test"
   ]
  },
  {
   "cell_type": "code",
   "execution_count": null,
   "metadata": {},
   "outputs": [],
   "source": [
    "method, adaptive, step_param, pert_method = 'RKCK', 1, 1e-4, 'conrad'\n",
    "\n",
    "gen = gens[stims[0]]\n",
    "data = gen.gen_data(method=method, adaptive=adaptive, step_param=step_param, pert_method=pert_method)\n",
    "solver = gen.get_solver(method=method, adaptive=adaptive, step_param=step_param, pert_method=pert_method)\n",
    "sol = solver.solve(tmax=tmax, n_samples=gen.n_samples, return_vars=['ys', 'events'])"
   ]
  },
  {
   "cell_type": "code",
   "execution_count": null,
   "metadata": {},
   "outputs": [],
   "source": [
    "# Solutions do not have to be the same, but should be similar\n",
    "plt.plot(data.ts, data.vs.T, 'k.--');\n",
    "plt.vlines(np.concatenate([elist[0] for elist in data.events]), ymin=gens[stims[0]].thresh-5, ymax=gens[stims[0]].thresh+5);\n",
    "for i in range(max(3, gen.n_samples)):\n",
    "    plt.plot(sol.get_ts(sampleidx=i), sol.get_ys(sampleidx=i, yidx=0), ':');\n",
    "    plt.vlines(np.concatenate(sol.events[i]), ymin=gens[stims[0]].thresh-10, ymax=gens[stims[0]].thresh+10, color=f'C{i}');\n",
    "\n",
    "plt.plot(data.acc_ts, data.acc_vs, 'r.--', zorder=100);\n",
    "plt.vlines(data.acc_events, ymin=-20, ymax=20, color='c', ls=':');\n",
    "plt.axhline(gens[stims[0]].thresh)\n",
    "plt.show()"
   ]
  },
  {
   "cell_type": "markdown",
   "metadata": {},
   "source": [
    "## Data"
   ]
  },
  {
   "cell_type": "code",
   "execution_count": null,
   "metadata": {},
   "outputs": [],
   "source": [
    "# pert_method, adaptive, methods, step_params\n",
    "solver_params = [\n",
    "    ('conrad', 0, ['EE'], [0.5, 0.25, 0.1, 0.05, 0.025, 0.01, 0.005]),\n",
    "    ('conrad', 0, ['EEMP'], [0.5, 0.4, 0.25, 0.1, 0.025, 0.01]),\n",
    "    ('conrad', 0, ['FE'], [0.05, 0.04, 0.025, 0.01, 0.005]),\n",
    "    ('conrad', 0, ['RKBS'], [0.1, 0.08, 0.05, 0.025, 0.01]),\n",
    "    ('conrad', 0, ['RKDP'], [0.1, 0.08, 0.05, 0.025]),\n",
    "    ('conrad', 1, ['RKBS'], [1e-2, 1e-4, 1e-6, 1e-8]),\n",
    "    ('conrad', 1, ['RKDP'], [1e-2, 1e-4, 1e-6, 1e-8, 1e-10]),\n",
    "    ('conrad', 1, ['RKCK'], [1e-2, 1e-4, 1e-6, 1e-8, 1e-10]),\n",
    "]"
   ]
  },
  {
   "cell_type": "code",
   "execution_count": null,
   "metadata": {},
   "outputs": [],
   "source": [
    "np.seterr(over='raise', invalid='raise') # Don't raise warnings, but errors\n",
    "\n",
    "for stim, gen in gens.items():\n",
    "    \n",
    "    print('----------------------------------------------------------')\n",
    "    print(stim, ':', gen.subfoldername)\n",
    "    print('----------------------------------------------------------')\n",
    "    \n",
    "    for pert_method, adaptive, methods, step_params in solver_params:\n",
    "        for step_param, method in itproduct(step_params, methods):\n",
    "            gen.gen_and_save_data(\n",
    "                method=method, adaptive=adaptive, step_param=step_param,\n",
    "                pert_method=pert_method, overwrite=False, allowgenerror=True,\n",
    "            )\n",
    "            \n",
    "np.seterr(over='warn', invalid='warn') # Reset"
   ]
  },
  {
   "cell_type": "markdown",
   "metadata": {},
   "source": [
    "# Load data"
   ]
  },
  {
   "cell_type": "code",
   "execution_count": null,
   "metadata": {},
   "outputs": [],
   "source": [
    "from data_loader import data_loader\n",
    "\n",
    "df = pd.DataFrame()\n",
    "for stim, gen in gens.items():\n",
    "    stim_df = data_loader(gen).load_data2dataframe(solver_params, drop_traces=False, MAE_SS_flat=True, allowgenerror=True)\n",
    "    metric_utils.add_det_nODEcalls(stim_df, T=gen.tmax-gen.t0) # Add num. det ODE calls\n",
    "    metric_utils.add_spike_time_errors(stim_df, min_distance=5, spike_idx=-1, use_abs=True) # Add STE, avoid jitter spikes in highly perturbed solutions\n",
    "    stim_df['stimfun'] = stim\n",
    "    stim_df['stim'] = stim.name\n",
    "    df = df.append(stim_df, ignore_index=True)"
   ]
  },
  {
   "cell_type": "markdown",
   "metadata": {},
   "source": [
    "# Plot"
   ]
  },
  {
   "cell_type": "markdown",
   "metadata": {},
   "source": [
    "## Plot functions"
   ]
  },
  {
   "cell_type": "code",
   "execution_count": null,
   "metadata": {},
   "outputs": [],
   "source": [
    "def plot_voltage_trace_and_stim(ax, data_row, ylabel=None):\n",
    "    \"\"\"Plot voltage traces and stimulus\"\"\"\n",
    "    \n",
    "    pltu.plot_sample_trace(ax, data_row.acc_ts, data_row.acc_vs, label='ref.', intpol_dt=0.1)\n",
    "    pltu.plot_mean_and_uncertainty(ax, data_row.ts, data_row.vs, intpol_dt=0.1, smpidxs=[0, 2])\n",
    "\n",
    "    stim_ts = np.linspace(data_row.acc_ts[0], data_row.acc_ts[-1], 1001)\n",
    "    pltu.plot_stim_on_trace_plot(\n",
    "        ax, ts=stim_ts, stim=[data_row.stimfun.get_I_at_t(t) for t in stim_ts],\n",
    "        stim_y0=-100, stim_y1=-87, fill=False,\n",
    "    )\n",
    "\n",
    "    ax.set_ylim((-85, 48))\n",
    "    ax.set_yticks([-50, 0])\n",
    "    pltu.move_xaxis_outward(ax, scale=7)\n",
    "    if ylabel is not None: ax.set_ylabel(ylabel)\n",
    "    ax.set_xlabel('Time (ms)', labelpad=-4)\n",
    "    ax.set_xticks([data_row.t0, data_row.tmax])"
   ]
  },
  {
   "cell_type": "markdown",
   "metadata": {},
   "source": [
    "## Figure"
   ]
  },
  {
   "cell_type": "code",
   "execution_count": null,
   "metadata": {},
   "outputs": [],
   "source": [
    "x = 'det_nODEcalls_per_time' \n",
    "ys = ['MAE_SR', 'spike_time_errors']\n",
    "yscales = ['symlog', 'symlog']\n",
    "\n",
    "assert len(ys) == len(yscales)\n",
    "\n",
    "### Prepare axes ###\n",
    "sbnx = len(stims)*df.pert_method.nunique()\n",
    "sbny = 1+len(ys)\n",
    "\n",
    "fig, axs = pltu.subplots(\n",
    "    sbnx, sbny, sharex='row', sharey='row', xsize='text',\n",
    "    ysizerow=1.0, yoffsize=0.3, squeeze=False,\n",
    "    gridspec_kw=dict(height_ratios=[0.5]+[1]*len(ys))\n",
    ")\n",
    "\n",
    "plot_methods = set()\n",
    "df_groups = df.groupby(['pert_method', 'stim'], sort=False)\n",
    "\n",
    "### Plot stimuli ###\n",
    "for ax, (_, group) in zip(axs[0,:], df_groups):\n",
    "    data_row = frame_utils.get_data_rows(df=group, method='EE', adaptive=0, step_param=0.25, n_ex=1)\n",
    "    assert data_row.n_samples > 0, 'Pick an example that terminated'\n",
    "    plot_voltage_trace_and_stim(\n",
    "        ax=ax, data_row=data_row, ylabel=\"v(t) (mV)\" if ax == axs[0,0] else None,\n",
    "    )\n",
    "\n",
    "### Plot data ###\n",
    "for i, y in enumerate(ys):\n",
    "    for ax, (_, group) in zip(axs[1+i,:], df_groups):           \n",
    "        for (method, adaptive, pert_param), subgroup in group.groupby(['method', 'adaptive', 'pert_param'], sort=False):\n",
    "\n",
    "            pltu.plot_xy_percentiles(ax,\n",
    "                datax=[data_row[x] for _, data_row in subgroup.iterrows() if data_row['n_samples'] > 0.0],\n",
    "                datay=[data_row[y] for _, data_row in subgroup.iterrows() if data_row['n_samples'] > 0.0],\n",
    "                marker=pltu.method2marker(method), color=pltu.method2color(method),\n",
    "                mean_kw=dict(alpha=0.8, ls=pltu.mode2ls(adaptive), mfc=pltu.mode2mfc(adaptive), ms=6, clip_on=False),\n",
    "                line_kw=dict(color='k', lw=0.5, alpha=1.0),\n",
    "            )\n",
    "            plot_methods.add(method)\n",
    "        \n",
    "        ax.set_xscale('log')\n",
    "        if yscales[i]=='symlog':\n",
    "            ax.set_yscale(yscales[i], linthreshy=1e-3)\n",
    "        else:\n",
    "            ax.set_yscale(yscales[i])\n",
    "        \n",
    "### Decorate ###\n",
    "plot_methods = pltu.sort_methods(list(plot_methods))\n",
    "\n",
    "# Labels.\n",
    "if x == 'run_times':\n",
    "    xlab = 'Run time (s)'\n",
    "elif x == 'det_nODEcalls':\n",
    "    xlab = 'N$_\\mathrm{det.}$(ODE)'\n",
    "elif x == 'det_nODEcalls_per_time':\n",
    "    xlab = 'N$_\\mathrm{det.}$(ODE) (1/ms)'\n",
    "pltu.set_labs(axs[-1,:], xlabs=xlab)\n",
    "\n",
    "for i, y in enumerate(ys):\n",
    "    if y == 'MAE_SR':\n",
    "        ylab = r'$\\mathrm{MAE}_\\mathrm{SR}$' + f' ({neuron.get_y_units()[0]})'\n",
    "    elif y == 'MAE_SS':\n",
    "        ylab = r'$\\mathrm{MAE}_\\mathrm{SS}$' + f' ({neuron.get_y_units()[0]})'\n",
    "    elif y == 'spike_time_errors':\n",
    "        ylab = f'STE ({neuron.get_t_unit()})'\n",
    "    else:\n",
    "        ylab = y\n",
    "    axs[i+1,0].set_ylabel(ylab)\n",
    "\n",
    "pltu.make_share_xlims(axs[1:,:])\n",
    "for ax in axs[1:-1,:].flat: ax.set_xticklabels([])\n",
    "for ax in axs[1:,:].flat:\n",
    "    ax.set_ylim(0,None)\n",
    "    pltu.grid(ax)\n",
    "    \n",
    "for ax in axs[1:,:].flat:\n",
    "    ax.set_xlim(ax.get_xlim())\n",
    "    ax.fill_between(ax.get_xlim(), [1e-3, 1e-3], color='lightgray', zorder=-1000)\n",
    "\n",
    "fig.align_labels(axs)\n",
    "sns.despine()\n",
    "    \n",
    "pltu.move_xaxis_outward(axs)\n",
    "pltu.set_labs(axs, panel_nums='auto', panel_num_space=1, panel_num_va='center')\n",
    "pltu.tight_layout(h_pad=-1, w_pad=1, rect=[0,0,1,1])\n",
    "for ax in axs[1,:]: pltu.move_box(ax, dy=-0.015)\n",
    "\n",
    "pltu.make_method_and_mode_legend(\n",
    "    ax=axs[2,0], methods=plot_methods, example_method=plot_methods[-1], pert_method=df.pert_method.unique()[0],\n",
    "    legend1_kw=dict(labelspacing=0.1, handlelength=0.2, borderpad=0.0, loc='lower left', bbox_to_anchor=(0.01,-0.08)),\n",
    "    legend2_kw=dict(labelspacing=0.1, borderpad=0.0, loc='lower left', bbox_to_anchor=(0.22,-0.08)),\n",
    "    mode_lines=True, mode_handlelength=2.0,\n",
    ")\n",
    "\n",
    "pltu.savefig(\"HH_summary_runtime\")\n",
    "plt.show()\n",
    "pltu.show_saved_figure(fig)"
   ]
  },
  {
   "cell_type": "markdown",
   "metadata": {},
   "source": [
    "## Text"
   ]
  },
  {
   "cell_type": "code",
   "execution_count": null,
   "metadata": {},
   "outputs": [],
   "source": [
    "print(frame_utils.get_data_rows(df=df, method='RKBS', adaptive=True, step_param=1e-2).det_nODEcalls_per_time.iloc[0].mean())\n",
    "print(frame_utils.get_data_rows(df=df, method='RKBS', adaptive=True, step_param=1e-2).det_nODEcalls_per_time.iloc[1].mean())"
   ]
  },
  {
   "cell_type": "code",
   "execution_count": null,
   "metadata": {},
   "outputs": [],
   "source": [
    "print(frame_utils.get_data_rows(df=df, method='RKDP', adaptive=True, step_param=1e-2).det_nODEcalls_per_time.iloc[0].mean())\n",
    "print(frame_utils.get_data_rows(df=df, method='RKDP', adaptive=True, step_param=1e-2).det_nODEcalls_per_time.iloc[1].mean())"
   ]
  },
  {
   "cell_type": "code",
   "execution_count": null,
   "metadata": {},
   "outputs": [],
   "source": [
    "print(frame_utils.get_data_rows(df=df, method='RKCK', adaptive=True, step_param=1e-2).det_nODEcalls_per_time.iloc[0].mean())\n",
    "print(frame_utils.get_data_rows(df=df, method='RKCK', adaptive=True, step_param=1e-2).det_nODEcalls_per_time.iloc[1].mean())"
   ]
  },
  {
   "cell_type": "code",
   "execution_count": null,
   "metadata": {},
   "outputs": [],
   "source": [
    "print(frame_utils.get_data_rows(df=df, method='RKCK', adaptive=True, step_param=1e-6).det_nODEcalls_per_time.iloc[0].mean())\n",
    "print(frame_utils.get_data_rows(df=df, method='RKCK', adaptive=True, step_param=1e-6).det_nODEcalls_per_time.iloc[1].mean())"
   ]
  },
  {
   "cell_type": "code",
   "execution_count": null,
   "metadata": {},
   "outputs": [],
   "source": [
    "print(frame_utils.get_data_rows(df=df, method='EE', adaptive=0, step_param=0.01).det_nODEcalls_per_time.iloc[0].mean())\n",
    "print(frame_utils.get_data_rows(df=df, method='EE', adaptive=0, step_param=0.01).det_nODEcalls_per_time.iloc[1].mean())"
   ]
  },
  {
   "cell_type": "code",
   "execution_count": null,
   "metadata": {},
   "outputs": [],
   "source": [
    "print(frame_utils.get_data_rows(df=df, method='EE', adaptive=0, step_param=0.01).MAE_SS.iloc[0].mean())\n",
    "print(frame_utils.get_data_rows(df=df, method='EE', adaptive=0, step_param=0.01).MAE_SS.iloc[1].mean())"
   ]
  },
  {
   "cell_type": "code",
   "execution_count": null,
   "metadata": {},
   "outputs": [],
   "source": [
    "print(frame_utils.get_data_rows(df=df, method='RKBS', adaptive=1, step_param=1e-6).det_nODEcalls_per_time.iloc[0].mean())\n",
    "print(frame_utils.get_data_rows(df=df, method='RKBS', adaptive=1, step_param=1e-6).det_nODEcalls_per_time.iloc[1].mean())"
   ]
  },
  {
   "cell_type": "code",
   "execution_count": null,
   "metadata": {},
   "outputs": [],
   "source": [
    "print(frame_utils.get_data_rows(df=df, method='RKBS', adaptive=1, step_param=1e-6).MAE_SS.iloc[0].mean())\n",
    "print(frame_utils.get_data_rows(df=df, method='RKBS', adaptive=1, step_param=1e-6).MAE_SS.iloc[1].mean())"
   ]
  }
 ],
 "metadata": {
  "kernelspec": {
   "display_name": "Python 3",
   "language": "python",
   "name": "python3"
  },
  "language_info": {
   "codemirror_mode": {
    "name": "ipython",
    "version": 3
   },
   "file_extension": ".py",
   "mimetype": "text/x-python",
   "name": "python",
   "nbconvert_exporter": "python",
   "pygments_lexer": "ipython3",
   "version": "3.7.5"
  },
  "toc": {
   "base_numbering": 1,
   "nav_menu": {},
   "number_sections": true,
   "sideBar": true,
   "skip_h1_title": false,
   "title_cell": "Table of Contents",
   "title_sidebar": "Contents",
   "toc_cell": false,
   "toc_position": {
    "height": "calc(100% - 180px)",
    "left": "10px",
    "top": "150px",
    "width": "383.949px"
   },
   "toc_section_display": true,
   "toc_window_display": true
  },
  "varInspector": {
   "cols": {
    "lenName": 16,
    "lenType": 16,
    "lenVar": 40
   },
   "kernels_config": {
    "python": {
     "delete_cmd_postfix": "",
     "delete_cmd_prefix": "del ",
     "library": "var_list.py",
     "varRefreshCmd": "print(var_dic_list())"
    },
    "r": {
     "delete_cmd_postfix": ") ",
     "delete_cmd_prefix": "rm(",
     "library": "var_list.r",
     "varRefreshCmd": "cat(var_dic_list()) "
    }
   },
   "types_to_exclude": [
    "module",
    "function",
    "builtin_function_or_method",
    "instance",
    "_Feature"
   ],
   "window_display": false
  }
 },
 "nbformat": 4,
 "nbformat_minor": 4
}
