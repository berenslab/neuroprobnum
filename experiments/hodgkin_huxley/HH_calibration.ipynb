{
 "cells": [
  {
   "cell_type": "markdown",
   "metadata": {},
   "source": [
    "# Hodgkin-Huxley | Calibration\n",
    "\n",
    "Compute the solutions for the HH neuron for:\n",
    "- different stimuli\n",
    "- different solvers\n",
    "- different perturbation parameters"
   ]
  },
  {
   "cell_type": "code",
   "execution_count": null,
   "metadata": {},
   "outputs": [],
   "source": [
    "import numpy as np\n",
    "import pandas as pd\n",
    "\n",
    "from matplotlib import pyplot as plt\n",
    "import seaborn as sns\n",
    "\n",
    "from itertools import product as itproduct"
   ]
  },
  {
   "cell_type": "code",
   "execution_count": null,
   "metadata": {},
   "outputs": [],
   "source": [
    "from sys import path as sys_path\n",
    "from os.path import abspath as os_path_abspath\n",
    "sys_path.append(os_path_abspath('..'))\n",
    "import addpaths"
   ]
  },
  {
   "cell_type": "code",
   "execution_count": null,
   "metadata": {},
   "outputs": [],
   "source": [
    "%load_ext autoreload\n",
    "%autoreload 2"
   ]
  },
  {
   "cell_type": "code",
   "execution_count": null,
   "metadata": {},
   "outputs": [],
   "source": [
    "import hodgkin_huxley\n",
    "import ode_solver\n",
    "\n",
    "import stim_utils\n",
    "import math_utils\n",
    "import frame_utils\n",
    "import metric_utils\n",
    "import plot_utils as pltu"
   ]
  },
  {
   "cell_type": "markdown",
   "metadata": {},
   "source": [
    "# Model"
   ]
  },
  {
   "cell_type": "code",
   "execution_count": null,
   "metadata": {},
   "outputs": [],
   "source": [
    "t0, tmax = 0, 100\n",
    "neuron = hodgkin_huxley.neuron()"
   ]
  },
  {
   "cell_type": "code",
   "execution_count": null,
   "metadata": {},
   "outputs": [],
   "source": [
    "stim_onset, stim_offset = 10, tmax-10\n",
    "stims = [\n",
    "    stim_utils.Istim(Iamp=0.15, onset=0, offset=tmax*2, name='Constant'),\n",
    "    stim_utils.Istim(Iamp=0.15, onset=stim_onset, offset=stim_offset, name='Step'),\n",
    "    stim_utils.Istim_noisy(Iamp=0.2, onset=stim_onset, offset=stim_offset, name='Noisy', nknots=51, seed=1146),\n",
    "    stim_utils.Istim_noisy_no_offset(Iamp=0.01, onset=stim_onset, offset=stim_offset, nknots=51, seed=42, name='Subthreshold'),\n",
    "]\n",
    "for stim in stims: stim.plot(t0=t0, tmax=tmax)"
   ]
  },
  {
   "cell_type": "markdown",
   "metadata": {},
   "source": [
    "# Generator"
   ]
  },
  {
   "cell_type": "code",
   "execution_count": null,
   "metadata": {},
   "outputs": [],
   "source": [
    "from data_generator_HH import data_generator_HH\n",
    "from copy import deepcopy\n",
    "\n",
    "gens = {}\n",
    "\n",
    "max_step = 1.0\n",
    "base_folder='_data/heatmap_pert_param'\n",
    "if max_step != 1.0: base_folder += f'_max_step_{max_step!r}'\n",
    "print(base_folder)\n",
    "    \n",
    "for stim in stims:\n",
    "    \n",
    "    neuron = deepcopy(neuron)\n",
    "    neuron.get_Istim_at_t = stim.get_I_at_t\n",
    "    \n",
    "    gen = data_generator_HH(\n",
    "        y0=neuron.compute_yinf(-65), t0=t0, tmax=tmax,\n",
    "        t_eval_adaptive=math_utils.t_arange(t0, tmax, 1), max_step=max_step,\n",
    "        model=neuron, n_samples=100, n_parallel=20, dt_min_eval_fixed=0.1,\n",
    "        gen_det_sols=True, gen_acc_sols=True, acc_same_ts=True,\n",
    "        base_folder=base_folder,\n",
    "    )\n",
    "    gen.update_subfoldername(stim=stim.name)\n",
    "    gen.load_acc_sols_from_file()    \n",
    "    \n",
    "    gens[stim] = gen"
   ]
  },
  {
   "cell_type": "markdown",
   "metadata": {},
   "source": [
    "## Test"
   ]
  },
  {
   "cell_type": "code",
   "execution_count": null,
   "metadata": {},
   "outputs": [],
   "source": [
    "gen = gens[stims[-1]]\n",
    "\n",
    "method = 'RKBS'\n",
    "step_param = 1e-4\n",
    "\n",
    "data1 = gen.gen_data(method=method, adaptive=1, pert_method='abdulle_ln', step_param=step_param, pert_param=1e-9)\n",
    "data2 = gen.gen_data(method=method, adaptive=1, pert_method='abdulle_ln', step_param=step_param, pert_param=100)\n",
    "data3 = gen.gen_data(method=method, adaptive=1, pert_method=None, step_param=step_param, pert_param=0.0)\n",
    "\n",
    "ax = plt.subplot(111)\n",
    "plt.plot(data2.ts, data2.vs.T, c='b', alpha=0.2);\n",
    "plt.plot(data1.ts, data1.vs.T, c='r', alpha=0.2);\n",
    "plt.plot(data3.ts, data3.vs.T, 'kx');\n",
    "plt.plot(gen.acc_sols[0].ts, gen.acc_sols[0].get_ys(yidx=0), 'g:')\n",
    "plt.show()"
   ]
  },
  {
   "cell_type": "markdown",
   "metadata": {},
   "source": [
    "# Data"
   ]
  },
  {
   "cell_type": "code",
   "execution_count": null,
   "metadata": {},
   "outputs": [],
   "source": [
    "def get_pert_params(explb, expub, expstep):\n",
    "    \"\"\"Get pert params for given exponents\"\"\"\n",
    "    pert_params = 10**np.arange(explb,expub,float(expstep))\n",
    "    pert_params = np.append(pert_params, 10**expub)\n",
    "    return pert_params\n",
    "\n",
    "\n",
    "# pert_method, adaptive, methods, step_params, pert_params\n",
    "solver_params = [\n",
    "    # Conrad\n",
    "    ('conrad', 0, ['EE', 'EEMP'], [0.25, 0.025], get_pert_params(-2, 1, 0.5)),   \n",
    "    ('conrad', 0, ['FE', 'HN'], [0.05, 0.025], get_pert_params(-2, 1, 0.5)),\n",
    "    ('conrad', 1, ['RKBS', 'RKDP'], [1e-2, 1e-4], get_pert_params(-4, 1, 1)),\n",
    "    \n",
    "    # Abdulle, uniform\n",
    "    ('abdulle', 0, ['EE', 'EEMP'], [0.25], get_pert_params(-2, 0, 0.5)),\n",
    "    ('abdulle', 0, ['EE'], [0.025], get_pert_params(-2, 1, 0.5)),\n",
    "    ('abdulle', 0, ['EEMP'], [0.025], get_pert_params(-2, 2, 0.5)),\n",
    "    \n",
    "    ('abdulle', 0, ['FE', 'HN'], [0.05], get_pert_params(-2, 0, 0.5)),\n",
    "    ('abdulle', 0, ['FE'], [0.025], get_pert_params(-2, 1, 0.5)),\n",
    "    ('abdulle', 0, ['HN'], [0.025], get_pert_params(-2, 2, 0.5)),\n",
    "    \n",
    "    ('abdulle', 1, ['RKBS', 'RKDP'], [1e-2, 1e-4], get_pert_params(-4, 0, 1)),\n",
    "    \n",
    "     # Abdulle, lognormal\n",
    "    ('abdulle_ln', 0, ['EE', 'EEMP'], [0.25, 0.025], get_pert_params(-2, 2, 0.5)),\n",
    "    ('abdulle_ln', 0, ['FE', 'HN'], [0.05, 0.025], get_pert_params(-2, 2, 0.5)),    \n",
    "    ('abdulle_ln', 1, ['RKBS', 'RKDP'], [1e-2, 1e-4], get_pert_params(-4, 2, 1)),\n",
    " ]"
   ]
  },
  {
   "cell_type": "code",
   "execution_count": null,
   "metadata": {},
   "outputs": [],
   "source": [
    "np.seterr(over='raise', invalid='raise') # Don't raise warnings, but errors\n",
    "\n",
    "for stim, gen in gens.items():\n",
    "\n",
    "    print('----------------------------------------------------------')\n",
    "    print(stim, ':', gen.subfoldername)\n",
    "    print('----------------------------------------------------------') \n",
    "    \n",
    "    for pert_method, adaptive, methods, step_params, pert_params in solver_params:\n",
    "        for step_param, method, pert_param in itproduct(step_params, methods, pert_params):\n",
    "            gen.gen_and_save_data(\n",
    "                method=method, adaptive=adaptive, step_param=step_param,\n",
    "                pert_method=pert_method, pert_param=pert_param,\n",
    "                overwrite=False, allowgenerror=True,\n",
    "            )\n",
    "            \n",
    "np.seterr(over='warn', invalid='warn') # Reset"
   ]
  },
  {
   "cell_type": "markdown",
   "metadata": {},
   "source": [
    "# Load data"
   ]
  },
  {
   "cell_type": "code",
   "execution_count": null,
   "metadata": {},
   "outputs": [],
   "source": [
    "from data_loader import data_loader\n",
    "\n",
    "df = pd.DataFrame()\n",
    "\n",
    "for stim, gen in gens.items():\n",
    "    stim_df = data_loader(gen).load_data2dataframe(\n",
    "        solver_params=solver_params, allowgenerror=True, MAEs=True, MAE_SS_flat=True, drop_traces=True\n",
    "    )\n",
    "    \n",
    "    stim_df['stimfun'] = stim\n",
    "    stim_df['stim'] = stim.name\n",
    "    \n",
    "    df = df.append(stim_df, ignore_index=True)"
   ]
  },
  {
   "cell_type": "code",
   "execution_count": null,
   "metadata": {},
   "outputs": [],
   "source": [
    "metric_utils.add_MAE_metrics_to_df(df, metric='mean')"
   ]
  },
  {
   "cell_type": "code",
   "execution_count": null,
   "metadata": {},
   "outputs": [],
   "source": [
    "df.head()"
   ]
  },
  {
   "cell_type": "markdown",
   "metadata": {},
   "source": [
    "# Plot - Summary"
   ]
  },
  {
   "cell_type": "markdown",
   "metadata": {},
   "source": [
    "## Plot functions"
   ]
  },
  {
   "cell_type": "code",
   "execution_count": null,
   "metadata": {},
   "outputs": [],
   "source": [
    "def stim2kwargs(stim):\n",
    "    if stim == 'Constant':\n",
    "        return dict(color=pltu.neuron2color(0), marker='+', ls='-', label='Const.', lw=0.8, alpha=0.7)\n",
    "    elif stim == 'Step':\n",
    "        return dict(color=pltu.neuron2color(1), marker='.', ls='--', label='Step', lw=0.8, alpha=0.7)\n",
    "    elif stim == 'Noisy':\n",
    "        return dict(color=pltu.neuron2color(2), marker='x', ls=':', label='Noisy', lw=0.8, alpha=0.7)\n",
    "    elif stim == 'Subthreshold':\n",
    "        return dict(color=pltu.neuron2color(3), marker='*', ls='dashdot', label='Subth.', lw=0.8, alpha=0.7)\n",
    "    else:\n",
    "        return dict(color='k', marker='.', ls='-', label=stim, lw=0.8, alpha=0.7)"
   ]
  },
  {
   "cell_type": "code",
   "execution_count": null,
   "metadata": {},
   "outputs": [],
   "source": [
    "def plot_R(ax, data_rows, mode='N', plot_kw=dict(marker='.', ls = '-', c='k'), lim_xticks=False):\n",
    "    \"\"\"Plot MAE ratio for data rows.\"\"\"\n",
    "    \n",
    "    if mode == 'N':\n",
    "        ydata = data_rows.MAE_ratio_RN\n",
    "        ylabel = \"R_N\"\n",
    "    elif mode == 'D':\n",
    "        ydata = data_rows.MAE_ratio_RD\n",
    "        ylabel = \"R_D\"\n",
    "    elif mode == 'ND':\n",
    "        ydata = data_rows.MAE_ratio_RNRD\n",
    "        ylabel = \"R_N R_D \\,\"\n",
    "    \n",
    "    ax.axhline(1, color='gray', ls=':', zorder=-100, clip_on=False)  \n",
    "    ax.set_yticks([0,1])\n",
    "    ax.set_ylim([0,1.1])\n",
    "    \n",
    "    ax.plot(np.log10(data_rows.pert_param), np.minimum(ydata, 1.1),\n",
    "            clip_on=False, **plot_kw)\n",
    "    \n",
    "    ax.plot(np.log10(data_rows.pert_param)[ydata>1.1], np.minimum(ydata[ydata>1.1], 1.1)[ydata>1.1],\n",
    "            clip_on=False, color='k', marker='o', fillstyle='none', alpha=0.3)\n",
    "    \n",
    "    ax.axvline(0, color='darkred', ls='-', zorder=-100)\n",
    "    ax.set_ylabel(pltu.text2mathtext(ylabel), labelpad=-5)\n",
    "    ax.set_xlabel(pltu.text2mathtext(\"log_10 \" + f\"({pltu.pert_param_symbol})\"))\n",
    "    \n",
    "    if lim_xticks:\n",
    "        max_lpp = np.log10(data_rows.pert_param).max()\n",
    "        min_lpp = np.log10(data_rows.pert_param).min()\n",
    "\n",
    "        ax.set_xlim(min_lpp-0.4, np.maximum(max_lpp, 0)+0.4)\n",
    "        ax.set_xticks([min_lpp, max_lpp])\n",
    "        ax.set_xticklabels([f\"{min_lpp}\".replace(\".0\", \"\"), f\"{max_lpp}\".replace(\".0\", \"\")])"
   ]
  },
  {
   "cell_type": "markdown",
   "metadata": {},
   "source": [
    "## Figure"
   ]
  },
  {
   "cell_type": "code",
   "execution_count": null,
   "metadata": {},
   "outputs": [],
   "source": [
    "fig, axs = pltu.subplots(\n",
    "    df.method.nunique(), 6, xsize='text',\n",
    "    yoffsize=0.4, ysizerow=0.9, squeeze=False, sharey='row',\n",
    "    gridspec_kw=dict(width_ratios=[1,1.2]*3)\n",
    ")\n",
    "\n",
    "pltu.tight_layout(h_pad=1.4, w_pad=0.2, rect=[0.12,0.11,1.02,0.94])\n",
    "\n",
    "### Plot data ###\n",
    "for i, ((method, adaptive), supergroup) in enumerate(df.groupby(by=[\"method\", \"adaptive\"], sort=False)):\n",
    "    pltu.row_title(axs[i,0], pltu.method2label(method=method, adaptive=adaptive), pad=35)\n",
    "    \n",
    "    for j, ((pert_method, step_param), group) in enumerate(supergroup.groupby(by=[\"pert_method\", \"step_param\"], sort=False)):\n",
    "\n",
    "        ax = axs[i,j]\n",
    "\n",
    "        ax.set_title(pltu.step_param2label(step_param=step_param, adaptive=adaptive).replace('ms', ''), fontsize=plt.rcParams['font.size'], pad=4)\n",
    "\n",
    "        for stim, subgroup in group.groupby(by=[\"stim\"], sort=False):\n",
    "            plot_R(ax=ax, data_rows=subgroup, mode='ND', plot_kw=stim2kwargs(stim), lim_xticks=True)\n",
    "            ax.set_xlabel(pltu.text2mathtext(\"log_10 \" + f\"({pltu.pert_param_symbol})\"))\n",
    "\n",
    "            \n",
    "        if i+1 == df.method.nunique() and j%2==0:\n",
    "            if pert_method == 'conrad':\n",
    "                ttl = 'State pert.' + '\\n' + ' '\n",
    "            elif pert_method == 'abdulle':\n",
    "                ttl = 'Step-size pert.' + '\\n' + 'uniform'\n",
    "            elif pert_method == 'abdulle_ln':\n",
    "                ttl = 'Step-size pert.' + '\\n' + 'log-normal'\n",
    "            else:\n",
    "                ttl = 'error'\n",
    "\n",
    "            ax.text(1.15, -1.45, ttl, transform=ax.transAxes, va='center', ha='center', fontsize=plt.rcParams['axes.titlesize'])\n",
    "        \n",
    "            \n",
    "### Decorate ###\n",
    "for ax in axs[:-1,:].flat: ax.set_xlabel(None)\n",
    "for ax in axs[:,1:].flat: ax.set_ylabel(None)\n",
    "\n",
    "box0 = np.array(axs.flat[0].get_position().bounds)\n",
    "for ax in axs.flat: \n",
    "    box = np.array(ax.get_position().bounds)\n",
    "    ax.set_position([box[0], box[1], box0[2], box[3]])\n",
    "\n",
    "for i, ax in enumerate(axs[0,:]):\n",
    "    panel_num = 'ABCDEFGHI'[i]\n",
    "    ax.text(\n",
    "        0.5, 1.5, panel_num, va='bottom', ha='center', fontweight='bold',\n",
    "        transform=ax.transAxes, fontsize=plt.rcParams['axes.titlesize']\n",
    "    )        \n",
    "    \n",
    "sns.despine()\n",
    "pltu.move_xaxis_outward(axs, scale=2)\n",
    "axs[0,0].legend(loc='upper right', frameon=False, bbox_to_anchor=(-0.35,0.11), handlelength=2.4)\n",
    "\n",
    "pltu.savefig(\"calibration_lineplots\")\n",
    "plt.show()\n",
    "pltu.show_saved_figure(fig)"
   ]
  },
  {
   "cell_type": "markdown",
   "metadata": {},
   "source": [
    "## Text"
   ]
  },
  {
   "cell_type": "code",
   "execution_count": null,
   "metadata": {},
   "outputs": [],
   "source": [
    "frame_utils.get_data_rows(df=df, method='RKBS', adaptive=1, step_param=1e-2, stim='Constant', pert_method='conrad').MAE_ratio_RNRD.max()"
   ]
  },
  {
   "cell_type": "code",
   "execution_count": null,
   "metadata": {},
   "outputs": [],
   "source": [
    "frame_utils.get_data_rows(df=df, method='RKDP', adaptive=1, step_param=1e-2, stim='Constant', pert_method='conrad').MAE_ratio_RNRD.max()"
   ]
  },
  {
   "cell_type": "markdown",
   "metadata": {},
   "source": [
    "# Plot - Histograms and Sigmoid"
   ]
  },
  {
   "cell_type": "markdown",
   "metadata": {},
   "source": [
    "## Plot functions"
   ]
  },
  {
   "cell_type": "code",
   "execution_count": null,
   "metadata": {},
   "outputs": [],
   "source": [
    "def plot_MAE_hist(ax, data_row=None, log=False):\n",
    "    \"\"\"Plot MAE histograms of SS and SR, also plot DR\"\"\"\n",
    "    \n",
    "    if data_row.n_samples == 0: return\n",
    "    \n",
    "    # Extract data\n",
    "    assert (MAE_SS is None) and (MAE_SR is None) and (MAE_DR is None)\n",
    "    MAE_SS = data_row['MAE_SS']\n",
    "    MAE_SR = data_row['MAE_SR']\n",
    "    MAE_DR = data_row['MAE_DR']\n",
    "    \n",
    "    # Flatten?\n",
    "    if MAE_SS.ndim == 2:\n",
    "        MAE_SS = MAE_SS[np.triu_indices(MAE_SS.shape[0], 1)]\n",
    "    \n",
    "    # Transform data?\n",
    "    if log:\n",
    "        MAE_SS = np.log10(MAE_SS)\n",
    "        MAE_SR = np.log10(MAE_SR)\n",
    "        MAE_DR = np.log10(MAE_DR)\n",
    "                \n",
    "    # Plot\n",
    "    for i, MAE in enumerate([MAE_SS, MAE_SR]):\n",
    "        \n",
    "        label = ['SS', 'SR'][i]\n",
    "        color = ['red', 'C0'][i]\n",
    "        \n",
    "        sns.histplot(\n",
    "            MAE, ax=ax, label=label, color=color, bins=15,\n",
    "            stat=\"probability\", element=\"step\", fill=True, alpha=0.2\n",
    "        )\n",
    "        ax.plot(np.mean(MAE), 0, color=color, ls='-', marker='d')\n",
    "\n",
    "    ax.axvline(MAE_DR, color='grey', label='DR', ls='--', zorder=1000)"
   ]
  },
  {
   "cell_type": "markdown",
   "metadata": {},
   "source": [
    "## Figure"
   ]
  },
  {
   "cell_type": "code",
   "execution_count": null,
   "metadata": {},
   "outputs": [],
   "source": [
    "### Parameters ###\n",
    "pert_methods = ['conrad', 'abdulle', 'abdulle_ln']\n",
    "R_modes = ['N', 'D', 'ND']\n",
    "\n",
    "### Create axes ###\n",
    "n_R_cols = len(R_modes)\n",
    "\n",
    "fig, axs = pltu.subplots(\n",
    "    3+n_R_cols, len(pert_methods), squeeze=False,\n",
    "    sharex='col', sharey=False, xsize='text',\n",
    "    ysizerow=0.9, yoffsize=0.4,\n",
    ")\n",
    "\n",
    "pltu.tight_layout(w_pad=-1.3, h_pad=2, rect=[0.1,0.07,0.89,0.93])\n",
    "\n",
    "### Plot data ###\n",
    "for ax_row, pert_method in zip(axs, pert_methods):\n",
    "    \n",
    "    # Row title\n",
    "    if pert_method == 'conrad':\n",
    "        ttl = 'State pert.' + '\\n' + ' '\n",
    "    elif pert_method == 'abdulle':\n",
    "        ttl = 'Step-size pert.' + '\\n' + 'uniform'\n",
    "    elif pert_method == 'abdulle_ln':\n",
    "        ttl = 'Step-size pert.' + '\\n' + 'log-normal'\n",
    "        \n",
    "    pltu.row_title(ax_row[0], ttl, pad=16, rotation=90, va='center', ha='center', fontsize=plt.rcParams['font.size'])\n",
    "    \n",
    "    # Get data\n",
    "    data_rows = frame_utils.get_data_rows(\n",
    "        df=df, method='EEMP', adaptive=0, step_param=0.025, pert_method=pert_method, stim='Noisy'\n",
    "    )\n",
    "    \n",
    "    # Plot ratios\n",
    "    for ax, R_mode in zip(ax[-n_R_cols:], R_modes):\n",
    "        plot_R(ax=ax, data_rows=data_rows, mode=R_mode)\n",
    "    \n",
    "    # Plot histograms\n",
    "    data_rows = data_rows[(data_rows.pert_param == 0.1) | (data_rows.pert_param == 1) | (data_rows.pert_param == 10)]\n",
    "    for ax, (i, data_row) in zip(ax_row[:-2], data_rows.iterrows()):\n",
    "        \n",
    "        ax.set_xlabel(pltu.text2mathtext(\"log_10 (MAE)\"))\n",
    "        \n",
    "        if ax_row[0] == axs[0,0]:\n",
    "            title = ax.set_title(\n",
    "                pltu.text2mathtext(f\"{pltu.pert_param_symbol}=\" + f\"{data_row.pert_param:.1f}\".replace('.0', ''))\n",
    "            )\n",
    "            if data_row.pert_param == 1.0: title.set_color('darkred')\n",
    "        \n",
    "        if data_row.n_samples == 0:\n",
    "            ax.text(0.5, 0.5, 'No data', transform=ax.transAxes, ha='center', va='center')\n",
    "        else:\n",
    "            plot_MAE.plot_MAE_hist(ax=ax, data_row=data_row, log=True)\n",
    "    \n",
    "### Decorate ###\n",
    "pltu.set_labs(axs, panel_nums='auto', panel_num_va='center')\n",
    "\n",
    "for ax in axs[:-1,:].flat:\n",
    "    ax.set_xlabel(None)\n",
    "for ax in axs[:,0].flat:\n",
    "    ax.set_ylabel('Norm. count')\n",
    "    ax.set_yticklabels([0,1])\n",
    "for ax in axs[:,1:-n_R_cols].flat: ax.set_ylabel(None)\n",
    "for ax in axs[:,:-n_R_cols].flat:\n",
    "    ax.set_yticks([0, ax.get_ylim()[1]*0.95])\n",
    "    ax.set_xticks([-2,0])\n",
    "for ax in axs[:,1:-n_R_cols].flat: ax.set_yticklabels([])\n",
    "\n",
    "pltu.make_share_xlims(axs[:,:-n_R_cols])\n",
    "pltu.make_share_xlims(axs[:,-n_R_cols:])\n",
    "    \n",
    "fig.align_labels()\n",
    "sns.despine()\n",
    "                \n",
    "pltu.move_xaxis_outward(axs, scale=2)\n",
    "\n",
    "pltu.move_box(axs=axs[:,-3], dx=+0.05)\n",
    "pltu.move_box(axs=axs[:,-2], dx=+0.08)\n",
    "pltu.move_box(axs=axs[:,-1], dx=+0.11)\n",
    "\n",
    "axs[0,2].legend(loc='upper left', frameon=False, handlelength=0.7)\n",
    "\n",
    "pltu.savefig('calibration_histograms')\n",
    "pltu.show_saved_figure(fig)"
   ]
  },
  {
   "cell_type": "markdown",
   "metadata": {},
   "source": [
    "# Appendix"
   ]
  },
  {
   "cell_type": "code",
   "execution_count": null,
   "metadata": {},
   "outputs": [],
   "source": [
    "raise"
   ]
  },
  {
   "cell_type": "markdown",
   "metadata": {},
   "source": [
    "## Plot all histograms"
   ]
  },
  {
   "cell_type": "code",
   "execution_count": null,
   "metadata": {},
   "outputs": [],
   "source": [
    "### Plot data ###\n",
    "for (method, adaptive, step_param, pert_method), group in\\\n",
    "        df.groupby(['method', 'adaptive', 'step_param', 'pert_method']):\n",
    "    \n",
    "    print(method, adaptive, step_param, pert_method)\n",
    "    \n",
    "    fig, axs = pltu.subplots(\n",
    "        group.pert_param.nunique(), group.stim.nunique(),\n",
    "        squeeze=True, xsize='fullwidth', sharey=False, sharex=True, ysizerow=0.8\n",
    "    )\n",
    "    \n",
    "    for i, (stim, subgroup) in enumerate(group.groupby(['stim'])):\n",
    "        \n",
    "        pltu.row_title(axs[i,0], stim)\n",
    "        \n",
    "        for j, (_, data_row) in enumerate(subgroup.sort_values(['pert_param']).iterrows()):\n",
    "            \n",
    "            title = axs[i,j].set_title(f\"{data_row.pert_param:.2f}\", pad=0.) \n",
    "            if data_row.n_samples == 0:\n",
    "                axs[i,j].text(0.5, 0.5, 'No data', transform=axs[i,j].transAxes, ha='center', va='center')\n",
    "            else:\n",
    "                plot_MAE.plot_MAE_hist(ax=axs[i,j], data_row=data_row, log=True)\n",
    "                \n",
    "            axs[i,j].set_yticks([])\n",
    "            axs[i,j].set_ylabel(None)\n",
    "                \n",
    "    plt.tight_layout()\n",
    "    plt.show()\n",
    "    break"
   ]
  }
 ],
 "metadata": {
  "kernelspec": {
   "display_name": "Python 3",
   "language": "python",
   "name": "python3"
  },
  "language_info": {
   "codemirror_mode": {
    "name": "ipython",
    "version": 3
   },
   "file_extension": ".py",
   "mimetype": "text/x-python",
   "name": "python",
   "nbconvert_exporter": "python",
   "pygments_lexer": "ipython3",
   "version": "3.7.5"
  },
  "toc": {
   "base_numbering": 1,
   "nav_menu": {},
   "number_sections": true,
   "sideBar": true,
   "skip_h1_title": false,
   "title_cell": "Table of Contents",
   "title_sidebar": "Contents",
   "toc_cell": false,
   "toc_position": {
    "height": "calc(100% - 180px)",
    "left": "10px",
    "top": "150px",
    "width": "383.938px"
   },
   "toc_section_display": true,
   "toc_window_display": true
  },
  "toc-autonumbering": false,
  "toc-showtags": false,
  "varInspector": {
   "cols": {
    "lenName": 16,
    "lenType": 16,
    "lenVar": 40
   },
   "kernels_config": {
    "python": {
     "delete_cmd_postfix": "",
     "delete_cmd_prefix": "del ",
     "library": "var_list.py",
     "varRefreshCmd": "print(var_dic_list())"
    },
    "r": {
     "delete_cmd_postfix": ") ",
     "delete_cmd_prefix": "rm(",
     "library": "var_list.r",
     "varRefreshCmd": "cat(var_dic_list()) "
    }
   },
   "types_to_exclude": [
    "module",
    "function",
    "builtin_function_or_method",
    "instance",
    "_Feature"
   ],
   "window_display": false
  }
 },
 "nbformat": 4,
 "nbformat_minor": 4
}
