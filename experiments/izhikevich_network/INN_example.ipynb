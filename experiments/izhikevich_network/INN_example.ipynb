{
 "cells": [
  {
   "cell_type": "markdown",
   "metadata": {},
   "source": [
    "# Izhikevich neuron network | Examples\n",
    "\n",
    "Simulate INN examples"
   ]
  },
  {
   "cell_type": "code",
   "execution_count": null,
   "metadata": {},
   "outputs": [],
   "source": [
    "import numpy as np\n",
    "import pandas as pd\n",
    "\n",
    "from matplotlib import pyplot as plt\n",
    "import seaborn as sns\n",
    "\n",
    "from itertools import product as itproduct"
   ]
  },
  {
   "cell_type": "code",
   "execution_count": null,
   "metadata": {},
   "outputs": [],
   "source": [
    "from sys import path as sys_path\n",
    "from os.path import abspath as os_path_abspath\n",
    "sys_path.append(os_path_abspath('..'))\n",
    "import addpaths"
   ]
  },
  {
   "cell_type": "code",
   "execution_count": null,
   "metadata": {},
   "outputs": [],
   "source": [
    "%load_ext autoreload\n",
    "%autoreload 2"
   ]
  },
  {
   "cell_type": "code",
   "execution_count": null,
   "metadata": {},
   "outputs": [],
   "source": [
    "import plot_utils as pltu"
   ]
  },
  {
   "cell_type": "markdown",
   "metadata": {},
   "source": [
    "# Model"
   ]
  },
  {
   "cell_type": "code",
   "execution_count": null,
   "metadata": {},
   "outputs": [],
   "source": [
    "t0, tmax = 0, 70"
   ]
  },
  {
   "cell_type": "code",
   "execution_count": null,
   "metadata": {},
   "outputs": [],
   "source": [
    "import izhikevich_network\n",
    "network = izhikevich_network.network(DEBUG=True)\n",
    "network.plot()"
   ]
  },
  {
   "cell_type": "markdown",
   "metadata": {},
   "source": [
    "# Generator"
   ]
  },
  {
   "cell_type": "code",
   "execution_count": null,
   "metadata": {},
   "outputs": [],
   "source": [
    "from data_generator_INN import data_generator_INN\n",
    "\n",
    "gen = data_generator_INN(\n",
    "    t0=t0, y0=network.y0, tmax=tmax, model=network, n_parallel=2,\n",
    "    n_samples=40, gen_det_sols=False, gen_acc_sols=True,\n",
    "    t_eval_adaptive=None, return_vars=['ys', 'events'],\n",
    "    base_folder='_data/INN_uncertainty_example',\n",
    ")\n",
    "gen.update_subfoldername()\n",
    "gen.load_acc_sols_from_file()"
   ]
  },
  {
   "cell_type": "markdown",
   "metadata": {},
   "source": [
    "## Data"
   ]
  },
  {
   "cell_type": "code",
   "execution_count": null,
   "metadata": {},
   "outputs": [],
   "source": [
    "method='FE'\n",
    "adaptive=0\n",
    "step_param=0.5\n",
    "pert_method='conrad'"
   ]
  },
  {
   "cell_type": "code",
   "execution_count": null,
   "metadata": {},
   "outputs": [],
   "source": [
    "solver = gen.get_solver(\n",
    "method=method, adaptive=adaptive, step_param=step_param,\n",
    "    pert_method=pert_method\n",
    ")"
   ]
  },
  {
   "cell_type": "code",
   "execution_count": null,
   "metadata": {},
   "outputs": [],
   "source": [
    "gen.gen_and_save_data(\n",
    "    method=method, adaptive=adaptive, step_param=step_param, pert_method=pert_method,\n",
    "    plot=True, overwrite=False,\n",
    ")"
   ]
  },
  {
   "cell_type": "markdown",
   "metadata": {},
   "source": [
    "## Load data"
   ]
  },
  {
   "cell_type": "code",
   "execution_count": null,
   "metadata": {},
   "outputs": [],
   "source": [
    "from data_generator_INN import data_loader_INN\n",
    "\n",
    "data_dict = data_loader_INN(gen).load_data2dict(\n",
    "    method=method, adaptive=adaptive,\n",
    "    step_param=step_param, pert_method=pert_method, MAEs=False\n",
    ")"
   ]
  },
  {
   "cell_type": "markdown",
   "metadata": {},
   "source": [
    "# Plot"
   ]
  },
  {
   "cell_type": "markdown",
   "metadata": {},
   "source": [
    "## Plot functions"
   ]
  },
  {
   "cell_type": "code",
   "execution_count": null,
   "metadata": {},
   "outputs": [],
   "source": [
    "nidxs = [int(1000/8), int(1000*3/8), int(1000*5/8), int(1000*7/8)]\n",
    "\n",
    "def plot_traces(ax, ts, vs, nidxs):\n",
    "    \"\"\"Plot v(t) for sample neurons.\"\"\"\n",
    "    ax.set_xlim(t0, tmax)\n",
    "    ax.set_ylim(-80, 40)\n",
    "\n",
    "    for i, nidx in enumerate(nidxs):\n",
    "        ax.plot(ts, vs[:,nidx], color=pltu.neuron2color(i), clip_on=True, alpha=0.85) \n",
    "\n",
    "\n",
    "def plot_events(ax, events, nidxs):\n",
    "    \"\"\"Plot events as scatter and highlight neurons\"\"\"\n",
    "    ax.set_xlim(t0, tmax)\n",
    "    ax.set_ylim(0, network.N)\n",
    "    \n",
    "    for nidx, elist in enumerate(events):\n",
    "        ax.scatter(elist, np.full(len(elist), nidx), marker='.', zorder=0, color='darkgray', s=0.3) \n",
    "    \n",
    "    for i, nidx in enumerate(nidxs):\n",
    "        ax.scatter(\n",
    "            events[nidx], np.full(len(events[nidx]), nidx),\n",
    "            marker='x', zorder=10, color=pltu.neuron2color(i), alpha=0.9\n",
    "        ) \n",
    "    \n",
    "    \n",
    "def plot_kde(ax, kde_ts, kde):\n",
    "    \"\"\"Plot KDE.\"\"\"\n",
    "    ax.set_ylim(0,65)\n",
    "    ax.set_yticks([0,25,50])\n",
    "    ax.plot(kde_ts, kde, color='k', clip_on=False)\n",
    "    \n",
    "    \n",
    "def plot_kde_traces(ax, kde_ts, kdes):\n",
    "    \"\"\"Plot every KDE as a line\"\"\"\n",
    "    ax.set_ylim(0,65)\n",
    "    ax.set_yticks([0,25,50])\n",
    "    for kde in kdes:\n",
    "        ax.plot(kde_ts, kde, lw=0.5, color='k', alpha=0.5, clip_on=False)\n",
    "    \n",
    "    \n",
    "def plot_kde_summary(ax, kde_ts, kdes, acc_kde):\n",
    "    \"\"\"Plot KDE summary\"\"\"\n",
    "    ax.set_ylim(0,65)\n",
    "    ax.set_yticks([0,25,50])\n",
    "    pltu.plot_sample_trace(ax, kde_ts, acc_kde, label='ref.')\n",
    "    pltu.plot_mean_and_uncertainty(ax, kde_ts, kdes)"
   ]
  },
  {
   "cell_type": "markdown",
   "metadata": {},
   "source": [
    "## Figure"
   ]
  },
  {
   "cell_type": "code",
   "execution_count": null,
   "metadata": {},
   "outputs": [],
   "source": [
    "smpidxs = [11, 12, 13]\n",
    "\n",
    "### Prepare plot ###\n",
    "sbnx = 4\n",
    "sbny = 2\n",
    "fig, axs = pltu.subplots(sbnx, sbny, gridspec_kw=dict(height_ratios=[0.4, 1]), ysizerow=1.)\n",
    "\n",
    "taxs = []\n",
    "\n",
    "### Plot data ###\n",
    "for smpidx, ax_col in zip(smpidxs, axs.T[:-1]):\n",
    "    plot_traces(ax_col[0], data_dict['ts'], data_dict['ys'][smpidx], nidxs=nidxs)\n",
    "    plot_events(ax_col[1], data_dict['events'][smpidx], nidxs=nidxs)\n",
    "    tax = ax_col[1].twinx()\n",
    "    taxs.append(tax)\n",
    "    plot_kde(tax, data_dict['kde_ts'], data_dict['kdes'][smpidx])\n",
    "\n",
    "# Plot single KDE traces\n",
    "tax = axs[0,-1].twinx()\n",
    "taxs.append(tax)\n",
    "plot_kde_traces(ax=tax, kde_ts=data_dict['kde_ts'], kdes=data_dict['kdes'])\n",
    "\n",
    "# Plot summary KDE\n",
    "tax = axs[1,-1].twinx()\n",
    "taxs.append(tax)\n",
    "plot_kde_summary(ax=tax, kde_ts=data_dict['kde_ts'], kdes=data_dict['kdes'], acc_kde=data_dict['acc_kde'])\n",
    "    \n",
    "### Decorate ###\n",
    "axs[0,-1].spines['left'].set_visible(False)\n",
    "for ax in axs[1,:]: sns.despine(ax=ax, top=1, right=1, left=0, bottom=0)\n",
    "for ax in taxs: sns.despine(ax=ax, top=1, right=0, left=0, bottom=1)\n",
    "    \n",
    "for ax in taxs[-2:]: ax.set_ylabel('Rate (Hz)')\n",
    "    \n",
    "for ax in axs[0,:]:\n",
    "    sns.despine(ax=ax, top=1, right=1, left=0, bottom=1)\n",
    "    ax.set_xticks([])\n",
    "    \n",
    "for ax in taxs: ax.spines['left'].set_visible(False)\n",
    "for ax in axs[:,1:].flat: ax.set_yticklabels([])\n",
    "for ax in axs[:,-1]:\n",
    "    ax.set_yticks([])\n",
    "    ax.spines['left'].set_visible(False)\n",
    "    \n",
    "for ax in taxs[:-2]: ax.set_yticklabels([])\n",
    "    \n",
    "pltu.make_share_xlims(axs[-1,:])\n",
    "    \n",
    "pltu.move_xaxis_outward(axs)\n",
    "pltu.set_labs(axs[-1,:], xlabs='Time (ms)')\n",
    "pltu.set_labs(axs[1,0], ylabs='Neuron')\n",
    "pltu.set_labs(axs[0,0], ylabs='v(t)')\n",
    "pltu.set_labs(axs[0,:], panel_nums='auto', panel_num_va='center')\n",
    "pltu.tight_layout(w_pad=0.5, h_pad=0.5)\n",
    " \n",
    "fig.align_labels()\n",
    "\n",
    "taxs[-1].legend(loc='upper left', borderpad=0., bbox_to_anchor=(-0.1,1.1))\n",
    "\n",
    "pltu.savefig(\"INN_examples\")\n",
    "plt.show()\n",
    "pltu.show_saved_figure(fig)"
   ]
  },
  {
   "cell_type": "markdown",
   "metadata": {},
   "source": [
    "## Appendix"
   ]
  },
  {
   "cell_type": "code",
   "execution_count": null,
   "metadata": {},
   "outputs": [],
   "source": [
    "solver = gen.get_solver(method=method, adaptive=adaptive, step_param=0.1, pert_method=pert_method)"
   ]
  },
  {
   "cell_type": "code",
   "execution_count": null,
   "metadata": {},
   "outputs": [],
   "source": [
    "solver.solve(tmax=tmax)"
   ]
  },
  {
   "cell_type": "code",
   "execution_count": null,
   "metadata": {},
   "outputs": [],
   "source": [
    "%timeit solver.eval_odefun(t=tmax, y=network.y0)"
   ]
  },
  {
   "cell_type": "code",
   "execution_count": null,
   "metadata": {},
   "outputs": [],
   "source": [
    "print(solver.prestepfun)\n",
    "%timeit solver.step(step_tmax=tmax+solver.h0)"
   ]
  },
  {
   "cell_type": "code",
   "execution_count": null,
   "metadata": {},
   "outputs": [],
   "source": [
    "solver.prestepfun = None\n",
    "%timeit solver.step(step_tmax=tmax+solver.h0)"
   ]
  },
  {
   "cell_type": "code",
   "execution_count": null,
   "metadata": {},
   "outputs": [],
   "source": [
    "%timeit network.spike_kernel((tmax-solver.last_spike_times))"
   ]
  },
  {
   "cell_type": "code",
   "execution_count": null,
   "metadata": {},
   "outputs": [],
   "source": [
    "# No spikes --> no spike kernel evluation\n",
    "solver.presolvefun(solver)\n",
    "%timeit solver.eval_odefun(t=tmax, y=network.y0)"
   ]
  },
  {
   "cell_type": "code",
   "execution_count": null,
   "metadata": {},
   "outputs": [],
   "source": [
    "idx = solver.y_new.argmax()\n",
    "%timeit solver.dense_eval_at_y(np.mean([solver.y[idx], solver.y_new[idx]]), yidx=idx)"
   ]
  }
 ],
 "metadata": {
  "kernelspec": {
   "display_name": "Python 3",
   "language": "python",
   "name": "python3"
  },
  "language_info": {
   "codemirror_mode": {
    "name": "ipython",
    "version": 3
   },
   "file_extension": ".py",
   "mimetype": "text/x-python",
   "name": "python",
   "nbconvert_exporter": "python",
   "pygments_lexer": "ipython3",
   "version": "3.7.5"
  },
  "toc": {
   "base_numbering": 1,
   "nav_menu": {},
   "number_sections": true,
   "sideBar": true,
   "skip_h1_title": false,
   "title_cell": "Table of Contents",
   "title_sidebar": "Contents",
   "toc_cell": false,
   "toc_position": {
    "height": "calc(100% - 180px)",
    "left": "10px",
    "top": "150px",
    "width": "383.991px"
   },
   "toc_section_display": true,
   "toc_window_display": true
  },
  "toc-autonumbering": false,
  "varInspector": {
   "cols": {
    "lenName": 16,
    "lenType": 16,
    "lenVar": 40
   },
   "kernels_config": {
    "python": {
     "delete_cmd_postfix": "",
     "delete_cmd_prefix": "del ",
     "library": "var_list.py",
     "varRefreshCmd": "print(var_dic_list())"
    },
    "r": {
     "delete_cmd_postfix": ") ",
     "delete_cmd_prefix": "rm(",
     "library": "var_list.r",
     "varRefreshCmd": "cat(var_dic_list()) "
    }
   },
   "types_to_exclude": [
    "module",
    "function",
    "builtin_function_or_method",
    "instance",
    "_Feature"
   ],
   "window_display": false
  }
 },
 "nbformat": 4,
 "nbformat_minor": 4
}
