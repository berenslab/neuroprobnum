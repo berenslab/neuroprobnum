{
 "cells": [
  {
   "cell_type": "markdown",
   "metadata": {},
   "source": [
    "# Izhikevich neuron network | Uncertainty analysis"
   ]
  },
  {
   "cell_type": "code",
   "execution_count": null,
   "metadata": {},
   "outputs": [],
   "source": [
    "import numpy as np\n",
    "import pandas as pd\n",
    "from matplotlib import pyplot as plt\n",
    "import seaborn as sns\n",
    "\n",
    "from itertools import product as itproduct"
   ]
  },
  {
   "cell_type": "code",
   "execution_count": null,
   "metadata": {},
   "outputs": [],
   "source": [
    "from sys import path as sys_path\n",
    "from os.path import abspath as os_path_abspath\n",
    "sys_path.append(os_path_abspath('..'))\n",
    "import addpaths"
   ]
  },
  {
   "cell_type": "code",
   "execution_count": null,
   "metadata": {},
   "outputs": [],
   "source": [
    "%load_ext autoreload\n",
    "%autoreload 2"
   ]
  },
  {
   "cell_type": "code",
   "execution_count": null,
   "metadata": {},
   "outputs": [],
   "source": [
    "import metric_utils\n",
    "import frame_utils\n",
    "import plot_utils as pltu"
   ]
  },
  {
   "cell_type": "markdown",
   "metadata": {},
   "source": [
    "# Model"
   ]
  },
  {
   "cell_type": "code",
   "execution_count": null,
   "metadata": {},
   "outputs": [],
   "source": [
    "import izhikevich_network\n",
    "\n",
    "t0, tmax = 0, 70\n",
    "network = izhikevich_network.network()\n",
    "network.plot()"
   ]
  },
  {
   "cell_type": "code",
   "execution_count": null,
   "metadata": {},
   "outputs": [],
   "source": [
    "from scipy.interpolate import interp1d\n",
    "\n",
    "network_smooth = izhikevich_network.network()\n",
    "\n",
    "I_ts = np.append(np.arange(t0, tmax), tmax)\n",
    "get_I_at_t = interp1d(x=I_ts, y=network_smooth.Is[:,:I_ts.size], kind='cubic')\n",
    "network_smooth.get_I_at_t=get_I_at_t"
   ]
  },
  {
   "cell_type": "code",
   "execution_count": null,
   "metadata": {},
   "outputs": [],
   "source": [
    "ts = np.arange(0,7,0.2)\n",
    "plt.plot(ts, [network.get_I_at_t(t)[0] for t in ts], '.-', label='network')\n",
    "plt.plot(ts, [network_smooth.get_I_at_t(t)[0] for t in ts], '.-', label='network smooth')\n",
    "plt.legend();"
   ]
  },
  {
   "cell_type": "markdown",
   "metadata": {},
   "source": [
    "# Data"
   ]
  },
  {
   "cell_type": "code",
   "execution_count": null,
   "metadata": {},
   "outputs": [],
   "source": [
    "from data_generator_INN import data_generator_INN\n",
    "\n",
    "n_samples = 20\n",
    "\n",
    "# pert_method, adaptive, methods, step_params\n",
    "solver_params = [    \n",
    "    ('conrad', 0, ['FE', ], [0.5, 0.05, 0.005]),\n",
    "    ('conrad', 0, ['RKBS'], [1.0, 0.5, 0.05, 0.005]),\n",
    "    ('conrad', 0, ['RKDP'], [1.0, 0.5, 0.05, 0.005]),\n",
    "    \n",
    "    ('conrad', 2, ['FE', ], [0.5, 0.05, 0.005]),\n",
    "    ('conrad', 2, ['RKBS'], [1.0, 0.5, 0.05, 0.005]),\n",
    "    ('conrad', 2, ['RKDP'], [1.0, 0.5, 0.05, 0.005]),\n",
    "    \n",
    "    ('conrad', 1, ['RKBS'], [1e-2, 1e-5, 1e-8]),\n",
    "    ('conrad', 1, ['RKDP'], [1e-2, 1e-5, 1e-8]),\n",
    "]"
   ]
  },
  {
   "cell_type": "markdown",
   "metadata": {},
   "source": [
    "## Step stimulus"
   ]
  },
  {
   "cell_type": "code",
   "execution_count": null,
   "metadata": {},
   "outputs": [],
   "source": [
    "gen_steps = data_generator_INN(\n",
    "    t0=t0, y0=network.y0, tmax=tmax, model=network,\n",
    "    n_samples=n_samples, n_parallel=2, gen_det_sols=False, gen_acc_sols=True,\n",
    "    acc_same_ts=False, return_vars=['events'],\n",
    "    base_folder='_data/INN_uncertainty'\n",
    ")\n",
    "gen_steps.load_acc_sols_from_file()"
   ]
  },
  {
   "cell_type": "code",
   "execution_count": null,
   "metadata": {},
   "outputs": [],
   "source": [
    "for pert_method, adaptive, methods, step_params in solver_params:\n",
    "    for step_param, method in itproduct(step_params, methods):\n",
    "        \n",
    "        gen_steps.gen_and_save_data(\n",
    "            method=method, adaptive=adaptive, step_param=step_param, pert_method=pert_method,\n",
    "            allowgenerror=False, plot=True, overwrite=False,\n",
    "        )"
   ]
  },
  {
   "cell_type": "markdown",
   "metadata": {},
   "source": [
    "## Smooth stimulus"
   ]
  },
  {
   "cell_type": "code",
   "execution_count": null,
   "metadata": {},
   "outputs": [],
   "source": [
    "gen_smooth = data_generator_INN(\n",
    "    t0=t0, y0=network_smooth.y0, tmax=tmax, model=network_smooth,\n",
    "    n_samples=n_samples, n_parallel=2, gen_det_sols=False, gen_acc_sols=True,\n",
    "    acc_same_ts=False, return_vars=['events'],\n",
    "    base_folder='_data/INN_uncertainty_smooth_currents'\n",
    ")\n",
    "gen_smooth.load_acc_sols_from_file()"
   ]
  },
  {
   "cell_type": "code",
   "execution_count": null,
   "metadata": {},
   "outputs": [],
   "source": [
    "for pert_method, adaptive, methods, step_params in solver_params:\n",
    "    for step_param, method in itproduct(step_params, methods):\n",
    "        \n",
    "        gen_smooth.gen_and_save_data(\n",
    "            method=method, adaptive=adaptive, step_param=step_param, pert_method=pert_method,\n",
    "            allowgenerror=False, plot=False, overwrite=False,\n",
    "        )"
   ]
  },
  {
   "cell_type": "markdown",
   "metadata": {},
   "source": [
    "# Load data"
   ]
  },
  {
   "cell_type": "code",
   "execution_count": null,
   "metadata": {},
   "outputs": [],
   "source": [
    "from data_generator_INN import data_loader_INN\n",
    "\n",
    "df_steps = data_loader_INN(gen_steps).load_data2dataframe(solver_params, MAEs=True)\n",
    "df_steps['stim'] = 'steps'\n",
    "\n",
    "df_smooth = data_loader_INN(gen_smooth).load_data2dataframe(solver_params, MAEs=True)\n",
    "df_smooth['stim'] = 'smooth'\n",
    "\n",
    "df = df_steps.append(df_smooth, ignore_index=True)\n",
    "df = df.sort_values(by=['stim', 'method', 'step_param', 'adaptive'])\n",
    "df.columns"
   ]
  },
  {
   "cell_type": "code",
   "execution_count": null,
   "metadata": {},
   "outputs": [],
   "source": [
    "metric_utils.add_det_nODEcalls(df, T=tmax-t0)\n",
    "df.columns"
   ]
  },
  {
   "cell_type": "markdown",
   "metadata": {},
   "source": [
    "### Plot traces"
   ]
  },
  {
   "cell_type": "code",
   "execution_count": null,
   "metadata": {},
   "outputs": [],
   "source": [
    "def plot_kde_traces_and_summary(ax, data_row, title=None, xlim=None):\n",
    "    \"\"\"Plot kde traces and reference\"\"\"\n",
    "        \n",
    "    pltu.plot_sample_trace(ax=ax, ts=data_row.kde_ts, ys=data_row.acc_kde, label='ref.', tr_kw=dict(clip_on=False, zorder=10000))\n",
    "        \n",
    "    pltu.plot_mean_and_uncertainty(\n",
    "        ax=ax, ts=data_row.kde_ts, ys=data_row.kdes, smpidxs=np.arange(data_row.n_samples),\n",
    "        tr_mean_kw=dict(clip_on=False), tr_bnds_kw=dict(clip_on=False), tr_smp_kw=dict(clip_on=False),\n",
    "        qs=(10,90),\n",
    "    )    \n",
    "    \n",
    "    if title is not None:\n",
    "        if title == 'step_param':\n",
    "            ax.set_title(\n",
    "                pltu.step_param2label(adaptive=data_row.adaptive, step_param=data_row.step_param)\n",
    "            )\n",
    "        else:\n",
    "            ax.set_title(\n",
    "                pltu.method2label(method=data_row.method, pert_method=data_row.pert_method,\n",
    "                adaptive=data_row.adaptive, step_param=data_row.step_param)\n",
    "            )"
   ]
  },
  {
   "cell_type": "code",
   "execution_count": null,
   "metadata": {},
   "outputs": [],
   "source": [
    "for stim in ['steps', 'smooth']:\n",
    "    print(stim)\n",
    "    fig, axs = pltu.auto_subplots(\n",
    "        df[df.stim==stim].shape[0], xsize='fullwidth',\n",
    "        max_nx_sb=3, max_ny_sb=20, ysizerow=1.3,\n",
    "    )\n",
    "    for ii, (i, data_row) in enumerate(df[df.stim==stim].sort_values(['adaptive', 'method', 'step_param']).iterrows()):\n",
    "        plot_kde_traces_and_summary(axs.flat[ii], data_row, title=True)\n",
    "    axs[0,0].legend()\n",
    "    plt.tight_layout()\n",
    "    plt.show()"
   ]
  },
  {
   "cell_type": "markdown",
   "metadata": {},
   "source": [
    "### Plot run time vs MAE"
   ]
  },
  {
   "cell_type": "code",
   "execution_count": null,
   "metadata": {},
   "outputs": [],
   "source": [
    "def plot_run_time_vs_MAE_SR(ax, df, x='run_times', y='MAE_SR'):\n",
    "    \"\"\"Plot runtime vs MAE\"\"\"\n",
    "    ax.set(xscale='log', yscale='log')\n",
    "\n",
    "    for (method, adaptive, pert_method), df_group in df.groupby(['method', 'adaptive', 'pert_method']):\n",
    "\n",
    "        df_group = df_group.sort_values(['step_param'])\n",
    "\n",
    "        pltu.plot_xy_percentiles(\n",
    "            ax,\n",
    "            datax=[data_row[x] for _, data_row in df_group.iterrows()],\n",
    "            datay=[data_row[y] for _, data_row in df_group.iterrows()],\n",
    "            color=pltu.method2color(method), marker=pltu.method2marker(method),\n",
    "            mean_kw=dict(alpha=0.6, ls=pltu.mode2ls(adaptive), mfc=pltu.mode2mfc(adaptive), ms=6, clip_on=False),\n",
    "            line_kw=dict(color=pltu.method2color(method), lw=0.5, alpha=1.0, clip_on=False),\n",
    "            connect=True, connect_alpha=0.4,\n",
    "        )\n",
    "    \n",
    "    if x == 'run_times':\n",
    "        ax.set_xlabel('Run time (s), prob.')\n",
    "    elif x == 'det_nODEcalls':\n",
    "        ax.set_xlabel('N$_\\mathrm{det.}$(ODE)')\n",
    "    elif x == 'det_nODEcalls_per_time':\n",
    "        ax.set_xlabel('N$_\\mathrm{det.}$(ODE) (1/ms)')\n",
    "    else:\n",
    "        ax.set_xlabel(x)\n",
    "    if y == 'MAE_SR': ax.set_ylabel(r'$\\mathrm{MAE}_\\mathrm{SR}$ (Hz)')"
   ]
  },
  {
   "cell_type": "code",
   "execution_count": null,
   "metadata": {},
   "outputs": [],
   "source": [
    "# Sort by adaptive\n",
    "fig, axs = pltu.subplots(3,2,xsize='fullwidth', ysizerow=2, sharex=True, sharey=True)\n",
    "for ax_row, stim in zip(axs, ['steps', 'smooth']):\n",
    "    for ax, (name, df_group) in zip(ax_row, df[df.stim==stim].groupby(['adaptive'])):\n",
    "        ax.set_title(f\"adaptive = {name}\")\n",
    "        plot_run_time_vs_MAE_SR(ax=ax, df=df_group, x='det_nODEcalls_per_time')    \n",
    "plt.tight_layout()"
   ]
  },
  {
   "cell_type": "code",
   "execution_count": null,
   "metadata": {},
   "outputs": [],
   "source": [
    "# Sort by method\n",
    "fig, axs = pltu.subplots(3,2,xsize='fullwidth', ysizerow=2, sharex=True, sharey=True)\n",
    "for ax_row, stim in zip(axs, ['steps', 'smooth']):\n",
    "    for ax, (name, df_group) in zip(ax_row, df[df.stim==stim].groupby(['method'])):\n",
    "        ax.set_title(name)\n",
    "        plot_run_time_vs_MAE_SR(ax=ax, df=df_group, x='det_nODEcalls_per_time')    \n",
    "plt.tight_layout()"
   ]
  },
  {
   "cell_type": "markdown",
   "metadata": {},
   "source": [
    "### Plot step size vs MAE"
   ]
  },
  {
   "cell_type": "code",
   "execution_count": null,
   "metadata": {},
   "outputs": [],
   "source": [
    "def plot_step_param_vs_MAE_SR(ax, df):\n",
    "    \"\"\"Plot runtime vs MAE\"\"\"\n",
    "    \n",
    "    assert np.all(np.unique(df.adaptive) == np.array([0,2]))\n",
    "    \n",
    "    step_params = np.flip(np.unique(df.step_param))\n",
    "    \n",
    "    ax.set(xscale='linear', yscale='log')\n",
    "    \n",
    "    groups = df.groupby(['method', 'adaptive'])\n",
    "    \n",
    "    for i, ((method, adaptive), group) in enumerate(groups):\n",
    "\n",
    "        MAEs = [frame_utils.get_data_rows(group, n_ex=1, step_param=step_param)['MAE_SR']\n",
    "                for step_param in step_params]\n",
    "\n",
    "        pltu.plot_percentiles(\n",
    "            ax, data=MAEs, connect=False,\n",
    "            positions=pltu.get_x_positions(n_positions=len(MAEs), idx=i, n_idxs=len(groups), offset=0.12),\n",
    "            color=pltu.method2color(method), marker=pltu.method2marker(method),\n",
    "            mean_kw=dict(alpha=0.8, ls=pltu.mode2ls(adaptive), mfc=pltu.mode2mfc(adaptive), ms=6),\n",
    "\n",
    "        )\n",
    "    \n",
    "    ax.set_xlabel('Step-size (ms)')\n",
    "    ax.set_ylabel(r'$\\mathrm{MAE}_\\mathrm{SR}$ (Hz)')\n",
    "    \n",
    "    ax.set_xticks(range(len(step_params)))\n",
    "    ax.set_xticklabels(step_params)\n",
    "    \n",
    "    pltu.grid(ax, axis='y')"
   ]
  },
  {
   "cell_type": "code",
   "execution_count": null,
   "metadata": {},
   "outputs": [],
   "source": [
    "fig, axs = pltu.subplots(\n",
    "    np.unique(df.stim).size, 1,\n",
    "    xsize='text', ysizerow=1.6, sharex=False, sharey=False, squeeze=False\n",
    ")\n",
    "\n",
    "for ax, stim in zip(axs.flat, ['steps', 'smooth']):\n",
    "    plot_step_param_vs_MAE_SR(ax=ax, df=df[(df.stim==stim) & (df.adaptive != 1) & ((df.step_param == 0.5) | (df.step_param == 0.05) | (df.step_param == 0.005))])\n",
    "    \n",
    "for ax in axs[:,1:].flat: ax.set_ylabel(None)\n",
    "for ax in axs[:-1,:].flat: ax.set_xlabel(None)\n",
    "plt.tight_layout()\n",
    "sns.despine()\n",
    "pltu.move_xaxis_outward(axs, scale=3)"
   ]
  },
  {
   "cell_type": "markdown",
   "metadata": {},
   "source": [
    "# Figure - Pseudo-fixed step size"
   ]
  },
  {
   "cell_type": "code",
   "execution_count": null,
   "metadata": {},
   "outputs": [],
   "source": [
    "### Select parameters to plot ###\n",
    "pert_method = 'conrad'\n",
    "\n",
    "plot_solver_params = [\n",
    "    [dict(stim='steps', pert_method=pert_method, adaptive=0, method='FE', step_param=0.5),\n",
    "     dict(stim='steps', pert_method=pert_method, adaptive=0, method='FE', step_param=0.05),\n",
    "     dict(stim='steps', pert_method=pert_method, adaptive=0, method='FE', step_param=0.005)],\n",
    "    [dict(stim='steps', pert_method=pert_method, adaptive=2, method='FE', step_param=0.5),\n",
    "     dict(stim='steps', pert_method=pert_method, adaptive=2, method='FE', step_param=0.05),\n",
    "     dict(stim='steps', pert_method=pert_method, adaptive=2, method='FE', step_param=0.005)],\n",
    "]\n",
    "\n",
    "### Create figure ###\n",
    "fig = plt.figure(figsize=(pltu.TEXT_WIDTH, 4))\n",
    "\n",
    "n_rows = 3\n",
    "n_cols = 6\n",
    "\n",
    "axs = []\n",
    "for i in range(2):\n",
    "    axs.append([plt.subplot2grid((n_rows, n_cols), (i, j), colspan=2) for j in np.arange(0,6,2)])\n",
    "axs = np.asarray(axs)\n",
    "    \n",
    "summary_axs = [plt.subplot2grid((n_rows, n_cols), (2, j), colspan=3) for j in np.arange(0,6,3)]\n",
    "\n",
    "\n",
    "### Plot data ###\n",
    "\n",
    "# Traces\n",
    "for i, params_list in enumerate(plot_solver_params):\n",
    "    for j, params in enumerate(params_list):\n",
    "        plot_kde_traces_and_summary(axs[i][j], frame_utils.get_data_rows(df, n_ex=1, **params), title='step_param')\n",
    "    \n",
    "# Summaries\n",
    "for ax, stim, ttl in zip(summary_axs, ['steps', 'smooth'], ['Step stimulus', 'Smooth stimulus']):\n",
    "    ax.set_title(ttl)\n",
    "    plot_step_param_vs_MAE_SR(ax=ax, df=df[\n",
    "        (df.stim==stim) & (df.adaptive != 1) & ((df.step_param == 0.5) | (df.step_param == 0.05) | (df.step_param == 0.005))\n",
    "    ])\n",
    "    \n",
    "#### Decorate ###\n",
    "for ax in axs[1:,:].flat:\n",
    "    ax.set_ylabel(None)\n",
    "for ax in summary_axs[1:]:\n",
    "    ax.set_ylabel(None)\n",
    "for ax in axs[:-1,:].flat:\n",
    "    ax.set_xticklabels([])\n",
    "    ax.set_xlabel(None)\n",
    "    \n",
    "for ax in axs[-1,:]:\n",
    "    ax.set_xlabel('Time (ms)')\n",
    "for ax in axs[:,0]:\n",
    "    ax.set_ylabel('Rate (Hz)')\n",
    "\n",
    "fig.align_labels()\n",
    "    \n",
    "for ax, adaptive in zip(axs[:,-1], [0, 2]):\n",
    "    ax.yaxis.set_label_position(\"right\")\n",
    "    ax.set_ylabel(pltu.mode2label(adaptive), labelpad=10, va='top')\n",
    "\n",
    "summary_axs[-1].set_yticks(10.**np.arange(-3,1.1))\n",
    "     \n",
    "pltu.make_share_ylims(axs, ylim=(0,75))\n",
    "for ax in axs[:,1:].flat: ax.set_yticklabels([])\n",
    "pltu.tight_layout(h_pad=-0.2, w_pad=0.2, rect=[0,0.12,1,0.99])\n",
    "sns.despine()\n",
    "pltu.move_xaxis_outward(axs, scale=3)\n",
    "pltu.move_xaxis_outward(summary_axs, scale=3)\n",
    "pltu.set_labs(list(axs.flatten())+summary_axs, panel_nums='auto', panel_num_space=2)\n",
    "\n",
    "pltu.move_box(axs[-1,:], dy=+0.03)\n",
    "pltu.move_box(summary_axs, dy=-0.1)\n",
    "pltu.change_box(summary_axs, dy=+0.07)\n",
    "pltu.move_box(summary_axs[-1], dx=+0.02)\n",
    "    \n",
    "# Legends\n",
    "axs[0,-1].legend(loc='upper left', bbox_to_anchor=(0.02, 1.05))\n",
    "\n",
    "pltu.make_method_and_mode_legend(\n",
    "    ax=summary_axs[0], methods=df.method.unique(), modes=[0,2], pert_method=pert_method,\n",
    "    legend1_kw=dict(loc='lower left', bbox_to_anchor=(0.0, -0.05)),\n",
    "    legend2_kw=dict(loc='lower left', bbox_to_anchor=(0.3, -0.05)), mode_lines=False,\n",
    ")\n",
    "\n",
    "pltu.savefig(\"INN_fixed_vs_pdeuso_fixed\")\n",
    "plt.show()\n",
    "\n",
    "pltu.show_saved_figure(fig)"
   ]
  },
  {
   "cell_type": "markdown",
   "metadata": {},
   "source": [
    "# Figure - Run time vs MAE"
   ]
  },
  {
   "cell_type": "code",
   "execution_count": null,
   "metadata": {},
   "outputs": [],
   "source": [
    "### Figure and axes ###\n",
    "fig, axs = pltu.subplots(2, 1, ysizerow=2.3, sharex='row', sharey=True, squeeze=False)\n",
    "\n",
    "plot_df = df[(df.method != 'RKCK')]\n",
    "\n",
    "### Plot data ###\n",
    "for i, (ax, stim) in enumerate(zip(axs.flat, ['steps', 'smooth'])):\n",
    "    ax.set_title('Step stimulus' if stim == 'steps' else 'Smooth stimulus')\n",
    "    plot_run_time_vs_MAE_SR(ax=ax, df=plot_df[plot_df.stim==stim], x='det_nODEcalls_per_time') \n",
    "\n",
    "### Decorate ###\n",
    "for ax in axs[:,1:].flat:\n",
    "    ax.set_ylabel(None)\n",
    "    \n",
    "for ax in axs.flat:\n",
    "    ax.set_yscale('symlog', linthreshy=1e-1)\n",
    "    ax.set_ylim(0, None)\n",
    "    ax.set_xlim(ax.get_xlim())\n",
    "    ax.fill_between(ax.get_xlim(), [1e-1, 1e-1], color='lightgray', zorder=-1000)\n",
    "\n",
    "pltu.make_method_and_mode_legend(\n",
    "    ax=axs[0,0], methods=pltu.sort_methods(np.unique(plot_df.method)), pert_method=pert_method,\n",
    "    legend2_kw=dict(loc='lower left', bbox_to_anchor=(0.29,0)), modes=np.unique(plot_df.adaptive),\n",
    "    mode_lines=True,\n",
    ")\n",
    "    \n",
    "fig.align_labels()\n",
    "pltu.move_xaxis_outward(axs, scale=5)\n",
    "pltu.set_labs(axs, panel_nums='auto', panel_num_space=2)\n",
    "\n",
    "pltu.tight_layout(h_pad=0.2, rect=[0,0,1,1], w_pad=1.5)\n",
    "sns.despine()\n",
    "\n",
    "pltu.grid(axs[0,:], axis='both')\n",
    "pltu.savefig(\"INN_runtime\")\n",
    "plt.show()\n",
    "\n",
    "pltu.show_saved_figure(fig)"
   ]
  },
  {
   "cell_type": "code",
   "execution_count": null,
   "metadata": {},
   "outputs": [],
   "source": [
    "ax = plt.subplot(111)\n",
    "legend_handles = pltu._get_mode_legend_handles(method='FE', mean_kw=dict(), modes=[0,1])\n",
    "ax.legend(handles=legend_handles)\n",
    "#pltu.make_method_and_mode_legend(ax=ax, methods=['FE', 'HN'], mode_lines=True)"
   ]
  },
  {
   "cell_type": "markdown",
   "metadata": {},
   "source": [
    "# Text"
   ]
  },
  {
   "cell_type": "code",
   "execution_count": null,
   "metadata": {},
   "outputs": [],
   "source": [
    "frame_utils.get_data_rows(df=df, method='FE', step_param=0.5, stim='smooth', adaptive=0, pert_method='conrad').det_nODEcalls_per_time"
   ]
  },
  {
   "cell_type": "markdown",
   "metadata": {},
   "source": [
    "# Appendix"
   ]
  },
  {
   "cell_type": "code",
   "execution_count": null,
   "metadata": {},
   "outputs": [],
   "source": [
    "raise"
   ]
  },
  {
   "cell_type": "markdown",
   "metadata": {},
   "source": [
    "### Why is this one solution so bad?"
   ]
  },
  {
   "cell_type": "code",
   "execution_count": null,
   "metadata": {},
   "outputs": [],
   "source": [
    "plot_kde_traces_and_summary(\n",
    "    plt.subplot(121),\n",
    "    data_row=frame_utils.get_data_rows(df=df, method='RKDP', adaptive=0, step_param=0.05, stim='smooth', n_ex=1),\n",
    "    title=True\n",
    ")\n",
    "\n",
    "plot_kde_traces_and_summary(\n",
    "    plt.subplot(122),\n",
    "    data_row=frame_utils.get_data_rows(df=df, method='RKBS', adaptive=0, step_param=0.5, stim='smooth', n_ex=1),\n",
    "    title=True\n",
    ")"
   ]
  },
  {
   "cell_type": "code",
   "execution_count": null,
   "metadata": {},
   "outputs": [],
   "source": [
    "np.concatenate(frame_utils.get_data_rows(df=df, method='RKBS', adaptive=0, step_param=0.5, stim='smooth', n_ex=1).acc_events).size"
   ]
  },
  {
   "cell_type": "markdown",
   "metadata": {},
   "source": [
    "### Why is pseudo-fixed more expensive?"
   ]
  },
  {
   "cell_type": "code",
   "execution_count": null,
   "metadata": {},
   "outputs": [],
   "source": [
    "data_row_f = frame_utils.get_data_rows(df, n_ex=1, method='RKBS', adaptive=0, step_param=0.5, stim='smooth')\n",
    "data_row_pf = frame_utils.get_data_rows(df, n_ex=1, method='RKBS', adaptive=2, step_param=0.5, stim='smooth')"
   ]
  },
  {
   "cell_type": "code",
   "execution_count": null,
   "metadata": {},
   "outputs": [],
   "source": [
    "plt.boxplot(np.sort(data_row_f.run_times / data_row_f.nODEcalls), positions=[0])\n",
    "plt.boxplot(np.sort(data_row_pf.run_times / data_row_pf.nODEcalls), positions=[1])\n",
    "plt.show()"
   ]
  },
  {
   "cell_type": "code",
   "execution_count": null,
   "metadata": {},
   "outputs": [],
   "source": [
    "1e3*np.mean(data_row_f.run_times / data_row_f.nODEcalls)"
   ]
  },
  {
   "cell_type": "code",
   "execution_count": null,
   "metadata": {},
   "outputs": [],
   "source": [
    "1e3*np.mean(data_row_pf.run_times / data_row_pf.nODEcalls)"
   ]
  }
 ],
 "metadata": {
  "kernelspec": {
   "display_name": "Python 3",
   "language": "python",
   "name": "python3"
  },
  "language_info": {
   "codemirror_mode": {
    "name": "ipython",
    "version": 3
   },
   "file_extension": ".py",
   "mimetype": "text/x-python",
   "name": "python",
   "nbconvert_exporter": "python",
   "pygments_lexer": "ipython3",
   "version": "3.7.5"
  },
  "toc": {
   "base_numbering": 1,
   "nav_menu": {},
   "number_sections": true,
   "sideBar": true,
   "skip_h1_title": false,
   "title_cell": "Table of Contents",
   "title_sidebar": "Contents",
   "toc_cell": false,
   "toc_position": {
    "height": "calc(100% - 180px)",
    "left": "10px",
    "top": "150px",
    "width": "383.991px"
   },
   "toc_section_display": true,
   "toc_window_display": true
  },
  "toc-autonumbering": false,
  "varInspector": {
   "cols": {
    "lenName": 16,
    "lenType": 16,
    "lenVar": 40
   },
   "kernels_config": {
    "python": {
     "delete_cmd_postfix": "",
     "delete_cmd_prefix": "del ",
     "library": "var_list.py",
     "varRefreshCmd": "print(var_dic_list())"
    },
    "r": {
     "delete_cmd_postfix": ") ",
     "delete_cmd_prefix": "rm(",
     "library": "var_list.r",
     "varRefreshCmd": "cat(var_dic_list()) "
    }
   },
   "types_to_exclude": [
    "module",
    "function",
    "builtin_function_or_method",
    "instance",
    "_Feature"
   ],
   "window_display": false
  }
 },
 "nbformat": 4,
 "nbformat_minor": 4
}
