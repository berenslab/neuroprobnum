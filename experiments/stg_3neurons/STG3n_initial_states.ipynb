{
 "cells": [
  {
   "cell_type": "markdown",
   "metadata": {},
   "source": [
    "# Readme\n",
    "\n",
    "Computes the intial states $y_0$ of for all panels.\n",
    "\n",
    "This is a semi automatic procedure, where the network is simulated and a point is picked that resembles the initial point in the figure below.\n",
    "\n",
    "For some panels this requires some fine-tuning of solver because the solutions are not numerically stable.\n",
    "\n",
    "Note: The figure you might want to load it from Prinz et al. 2004 Figure 3. It's not mine, therefore it is not part of this repo."
   ]
  },
  {
   "cell_type": "markdown",
   "metadata": {},
   "source": [
    "# Imports"
   ]
  },
  {
   "cell_type": "code",
   "execution_count": null,
   "metadata": {},
   "outputs": [],
   "source": [
    "import numpy as np\n",
    "from matplotlib import pyplot as plt"
   ]
  },
  {
   "cell_type": "code",
   "execution_count": null,
   "metadata": {},
   "outputs": [],
   "source": [
    "from sys import path as sys_path\n",
    "from os.path import abspath as os_path_abspath\n",
    "sys_path.append(os_path_abspath('..'))\n",
    "import addpaths"
   ]
  },
  {
   "cell_type": "code",
   "execution_count": null,
   "metadata": {},
   "outputs": [],
   "source": [
    "import data_utils\n",
    "import plot_utils as pltu"
   ]
  },
  {
   "cell_type": "markdown",
   "metadata": {},
   "source": [
    "# Solver functions"
   ]
  },
  {
   "cell_type": "code",
   "execution_count": null,
   "metadata": {},
   "outputs": [],
   "source": [
    "import stg_model\n",
    "from data_generator_STG import data_generator_STG\n",
    "\n",
    "def get_panel_generator(panel, tmax):\n",
    "    \"\"\"Get generator for panel\"\"\"\n",
    "    \n",
    "    network = stg_model.stg_model(n_neurons=3, g_params=panel, y0from1n=True)\n",
    "    \n",
    "    gen = data_generator_STG(\n",
    "        y0=network.y0, t0=0.0, tmax=tmax*1e3, t_eval_adaptive=None,\n",
    "        vidx=None, yidxs=np.arange(46), model=network, n_samples=1,\n",
    "        gen_det_sols=False, gen_acc_sols=False, \n",
    "        base_folder='_data/intial_states'\n",
    "    )\n",
    "    \n",
    "    gen.update_subfoldername(panel=panel)\n",
    "    \n",
    "    return gen"
   ]
  },
  {
   "cell_type": "code",
   "execution_count": null,
   "metadata": {},
   "outputs": [],
   "source": [
    "def get_y_at_t(data, t):\n",
    "    \"\"\"Get y at t\"\"\"\n",
    "    \n",
    "    ts = data.ts\n",
    "    ys = data.ys\n",
    "    tidx = np.argmin(np.abs(ts - t))\n",
    "    return ys[tidx,:]"
   ]
  },
  {
   "cell_type": "code",
   "execution_count": null,
   "metadata": {},
   "outputs": [],
   "source": [
    "def plot_data(data, plot_t_rng, y0_t=None):\n",
    "    \"\"\"Plot data and show y0 that is currently picked\"\"\"\n",
    "    \n",
    "    y0_t *= 1e3\n",
    "    \n",
    "    ts = data.ts\n",
    "    ys = data.ys\n",
    "\n",
    "    vss = ys[:,0], ys[:,13], ys[:,26]\n",
    "\n",
    "    plot_idxs = (ts >= plot_t_rng[0]*1e3) & (ts <= plot_t_rng[1]*1e3)\n",
    "    y0 = get_y_at_t(data, y0_t) if y0_t is not None else None\n",
    "\n",
    "    fig, axs = pltu.subplots(3, 2, squeeze=True, sharex='row', sharey=False)\n",
    "    for i, vs in enumerate(vss):\n",
    "        axs[0,i].set_title(f'n{i+1}: Zoom')\n",
    "        axs[0,i].plot(ts[plot_idxs], vs[plot_idxs])\n",
    "        axs[0,i].axvline(y0_t, c='r')\n",
    "        axs[0,i].axhline(y0[[0,13,26][i]], c='r')\n",
    "        axs[0,i].set(xlabel='Time', ylabel='v(t)')\n",
    "        \n",
    "        axs[1,i].set_title(f'n{i+1}: Full')\n",
    "        axs[1,i].plot(ts, vs)\n",
    "        axs[1,i].axvline(y0_t, c='r')\n",
    "        axs[1,i].axhline(y0[[0,13,26][i]], c='r')\n",
    "        axs[1,i].set(xlabel='Time (ms)', ylabel='v(t) (mV)')\n",
    "        \n",
    "    plt.tight_layout()"
   ]
  },
  {
   "cell_type": "code",
   "execution_count": null,
   "metadata": {},
   "outputs": [],
   "source": [
    "def show_panel_data(\n",
    "        panel, tmax=0.1, method='RKDP', adaptive=True, step_param=1e-5,\n",
    "        plot_t_rng=(0,np.inf), y0_t=None, save2dict=False\n",
    "    ): \n",
    "    \"\"\"load or generate data for panel. Plot data. May save eq state to dict: n3_panel2y0\"\"\"\n",
    "    \n",
    "    gen = get_panel_generator(panel=panel, tmax=tmax)\n",
    "    gen.gen_and_save_data(\n",
    "        method=method, adaptive=adaptive, step_param=step_param,\n",
    "        pert_method=None, plot=False, overwrite=False, allowgenerror=False\n",
    "    )\n",
    "    data = gen.load_data_and_check(method=method, adaptive=adaptive, step_param=step_param, pert_method=None)\n",
    "    \n",
    "    plot_data(data, plot_t_rng=plot_t_rng, y0_t=y0_t)\n",
    "    \n",
    "    if save2dict: n3_panel2y0[panel] = get_y_at_t(data, y0_t*1e3)"
   ]
  },
  {
   "cell_type": "markdown",
   "metadata": {},
   "source": [
    "## Test\n",
    "\n",
    "Pick a differetnt \"y0_t\" or \"plot_t_rng\""
   ]
  },
  {
   "cell_type": "code",
   "execution_count": null,
   "metadata": {},
   "outputs": [],
   "source": [
    "y0_t = 1.95\n",
    "plot_t_rng = (1.9, 2.1)\n",
    "assert y0_t > plot_t_rng[0] and y0_t < plot_t_rng[1], \"Pick a different time window\"\n",
    "\n",
    "show_panel_data(panel='a', tmax=2, y0_t=y0_t, plot_t_rng=plot_t_rng, save2dict=False)"
   ]
  },
  {
   "cell_type": "markdown",
   "metadata": {},
   "source": [
    "# Generate y0s\n",
    "\n",
    "This is a semi manual procedure.\n",
    "- Specify a panel and run the model.\n",
    "- Plot the data.\n",
    "- Find a good t0, such that the output looks as in the paper figure.\n",
    "- Save y0 at this t to the dict.\n",
    "- Repeat for other panels.\n",
    "- Save y0_dict to file."
   ]
  },
  {
   "cell_type": "code",
   "execution_count": null,
   "metadata": {},
   "outputs": [],
   "source": [
    "import os\n",
    "\n",
    "y0_filename = '../../models/stg_n3_panel2y0.pkl'\n",
    "\n",
    "if os.path.isfile(y0_filename):\n",
    "    print('Loaded file.')\n",
    "    n3_panel2y0 = data_utils.load_var(y0_filename)\n",
    "    assert isinstance(n3_panel2y0, dict)\n",
    "else:\n",
    "    print('Created new dict.')\n",
    "    n3_panel2y0 = {}"
   ]
  },
  {
   "cell_type": "markdown",
   "metadata": {},
   "source": [
    "## abcde"
   ]
  },
  {
   "cell_type": "code",
   "execution_count": null,
   "metadata": {},
   "outputs": [],
   "source": [
    "show_panel_data(panel='a', tmax=3, y0_t=1.945, plot_t_rng=(1.9, 2.1), save2dict=True)"
   ]
  },
  {
   "cell_type": "code",
   "execution_count": null,
   "metadata": {},
   "outputs": [],
   "source": [
    "show_panel_data(panel='b', tmax=6, y0_t=1.9, plot_t_rng=(1.85, 1.95), save2dict=True)"
   ]
  },
  {
   "cell_type": "code",
   "execution_count": null,
   "metadata": {},
   "outputs": [],
   "source": [
    "show_panel_data(panel='c', tmax=6, y0_t=3, plot_t_rng=(2.9, 3.1), save2dict=True)"
   ]
  },
  {
   "cell_type": "code",
   "execution_count": null,
   "metadata": {},
   "outputs": [],
   "source": [
    "show_panel_data(panel='d', tmax=10, y0_t=1.2, plot_t_rng=(1.1, 1.3), save2dict=True)"
   ]
  },
  {
   "cell_type": "code",
   "execution_count": null,
   "metadata": {},
   "outputs": [],
   "source": [
    "show_panel_data(panel='e', tmax=6, y0_t=4.5, plot_t_rng=(4.0, 4.9), save2dict=True)"
   ]
  },
  {
   "cell_type": "markdown",
   "metadata": {},
   "source": [
    "Load the Fig. 3 from Prinz et al. for easier comparison:\n",
    "<img src=\"_background/n3_traces_top_row_small.png\">"
   ]
  },
  {
   "cell_type": "markdown",
   "metadata": {},
   "source": [
    "## fghij"
   ]
  },
  {
   "cell_type": "code",
   "execution_count": null,
   "metadata": {},
   "outputs": [],
   "source": [
    "show_panel_data(panel='f', tmax=6, y0_t=4, plot_t_rng=(3.9, 4.2), save2dict=True)"
   ]
  },
  {
   "cell_type": "code",
   "execution_count": null,
   "metadata": {},
   "outputs": [],
   "source": [
    "show_panel_data(panel='g', tmax=6, y0_t=3.01, plot_t_rng=(2.9, 3.1), save2dict=True)"
   ]
  },
  {
   "cell_type": "code",
   "execution_count": null,
   "metadata": {},
   "outputs": [],
   "source": [
    "show_panel_data(panel='h', tmax=6, y0_t=4.29, plot_t_rng=(4.1, 4.5), save2dict=True)"
   ]
  },
  {
   "cell_type": "code",
   "execution_count": null,
   "metadata": {},
   "outputs": [],
   "source": [
    "show_panel_data(panel='i', tmax=6, y0_t=0.2, plot_t_rng=(0.1, 0.3), save2dict=True)"
   ]
  },
  {
   "cell_type": "code",
   "execution_count": null,
   "metadata": {},
   "outputs": [],
   "source": [
    "show_panel_data(panel='j', tmax=6, y0_t=2.45, plot_t_rng=(2.2, 2.6), save2dict=True)"
   ]
  },
  {
   "cell_type": "markdown",
   "metadata": {},
   "source": [
    "Load the Fig. 3 from Prinz et al. for easier comparison:\n",
    "<img src=\"_background/n3_traces_bottom_row_small.png\">"
   ]
  },
  {
   "cell_type": "markdown",
   "metadata": {},
   "source": [
    "# Save"
   ]
  },
  {
   "cell_type": "code",
   "execution_count": null,
   "metadata": {},
   "outputs": [],
   "source": [
    "data_utils.save_var(n3_panel2y0, y0_filename)"
   ]
  }
 ],
 "metadata": {
  "kernelspec": {
   "display_name": "Python 3",
   "language": "python",
   "name": "python3"
  },
  "language_info": {
   "codemirror_mode": {
    "name": "ipython",
    "version": 3
   },
   "file_extension": ".py",
   "mimetype": "text/x-python",
   "name": "python",
   "nbconvert_exporter": "python",
   "pygments_lexer": "ipython3",
   "version": "3.7.5"
  },
  "toc": {
   "base_numbering": 1,
   "nav_menu": {},
   "number_sections": true,
   "sideBar": true,
   "skip_h1_title": false,
   "title_cell": "Table of Contents",
   "title_sidebar": "Contents",
   "toc_cell": false,
   "toc_position": {
    "height": "calc(100% - 180px)",
    "left": "10px",
    "top": "150px",
    "width": "384px"
   },
   "toc_section_display": true,
   "toc_window_display": true
  },
  "varInspector": {
   "cols": {
    "lenName": 16,
    "lenType": 16,
    "lenVar": 40
   },
   "kernels_config": {
    "python": {
     "delete_cmd_postfix": "",
     "delete_cmd_prefix": "del ",
     "library": "var_list.py",
     "varRefreshCmd": "print(var_dic_list())"
    },
    "r": {
     "delete_cmd_postfix": ") ",
     "delete_cmd_prefix": "rm(",
     "library": "var_list.r",
     "varRefreshCmd": "cat(var_dic_list()) "
    }
   },
   "types_to_exclude": [
    "module",
    "function",
    "builtin_function_or_method",
    "instance",
    "_Feature"
   ],
   "window_display": false
  }
 },
 "nbformat": 4,
 "nbformat_minor": 4
}
