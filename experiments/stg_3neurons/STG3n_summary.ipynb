{
 "cells": [
  {
   "cell_type": "markdown",
   "metadata": {},
   "source": [
    "# STG 3\n",
    "\n",
    "Simulate the parameterizations of the STG model shown in the original paper.\n",
    "\n",
    "Simulate with a highly accurate solver, and with probabilistic solvers using different tolerances."
   ]
  },
  {
   "cell_type": "code",
   "execution_count": null,
   "metadata": {},
   "outputs": [],
   "source": [
    "import numpy as np\n",
    "from matplotlib import pyplot as plt\n",
    "import seaborn as sns\n",
    "from itertools import product as itproduct"
   ]
  },
  {
   "cell_type": "code",
   "execution_count": null,
   "metadata": {},
   "outputs": [],
   "source": [
    "from sys import path as sys_path\n",
    "from os.path import abspath as os_path_abspath\n",
    "sys_path.append(os_path_abspath('..'))\n",
    "import addpaths"
   ]
  },
  {
   "cell_type": "code",
   "execution_count": null,
   "metadata": {},
   "outputs": [],
   "source": [
    "%load_ext autoreload\n",
    "%autoreload 2"
   ]
  },
  {
   "cell_type": "code",
   "execution_count": null,
   "metadata": {},
   "outputs": [],
   "source": [
    "import metric_utils\n",
    "import frame_utils\n",
    "import plot_utils as pltu"
   ]
  },
  {
   "cell_type": "markdown",
   "metadata": {},
   "source": [
    "# Generator"
   ]
  },
  {
   "cell_type": "code",
   "execution_count": null,
   "metadata": {},
   "outputs": [],
   "source": [
    "import stg_model\n",
    "stg_model.compile_cython()"
   ]
  },
  {
   "cell_type": "code",
   "execution_count": null,
   "metadata": {},
   "outputs": [],
   "source": [
    "from data_generator_STG import data_generator_STG\n",
    "\n",
    "def get_panel_generator(panel, tmax, n_samples=40):\n",
    "    \"\"\"Get generator for panel\"\"\"\n",
    "    network = stg_model.stg_model(n_neurons=3, g_params=panel, y0from1n=False)\n",
    "    \n",
    "    gen = data_generator_STG(\n",
    "        y0=network.y0, t0=0.0, tmax=tmax*1e3, acc_same_ts=False,\n",
    "        vidx=None, yidxs=np.arange(46), max_step=10,\n",
    "        model=network, n_samples=n_samples,\n",
    "        gen_det_sols=True, gen_acc_sols=True, \n",
    "        base_folder='_data/uncertainty',\n",
    "        return_vars=['ys', 'events']\n",
    "    )\n",
    "    \n",
    "    gen.update_subfoldername(panel=panel)\n",
    "    \n",
    "    return gen"
   ]
  },
  {
   "cell_type": "markdown",
   "metadata": {},
   "source": [
    "<img src=\"_background/n3_traces.png\">"
   ]
  },
  {
   "cell_type": "code",
   "execution_count": null,
   "metadata": {},
   "outputs": [],
   "source": [
    "panel2tmax = {\n",
    "    'a': 2.5,\n",
    "    'b': 2.5,\n",
    "    'c': 2.5,\n",
    "    'd': 6,\n",
    "    'e': 2.5,\n",
    "    'f': 2.5, \n",
    "    'g': 2.5,\n",
    "    'h': 2.5,\n",
    "    'i': 6,\n",
    "    'j': 2.5,\n",
    "}\n",
    "\n",
    "gens = {}\n",
    "\n",
    "panels = 'abcde'\n",
    "for panel in panels:\n",
    "    print(panel)\n",
    "    gens[panel] = get_panel_generator(panel=panel, tmax=panel2tmax[panel])\n",
    "    gens[panel].load_acc_sols_from_file()"
   ]
  },
  {
   "cell_type": "markdown",
   "metadata": {},
   "source": [
    "## Test"
   ]
  },
  {
   "cell_type": "code",
   "execution_count": null,
   "metadata": {},
   "outputs": [],
   "source": [
    "sol = gens['e'].gen_sol(method='RKDP', adaptive=1, step_param=1e-3, pert_method='conrad')"
   ]
  },
  {
   "cell_type": "code",
   "execution_count": null,
   "metadata": {},
   "outputs": [],
   "source": [
    "sol.plot(y_idxs=[0,13,26])"
   ]
  },
  {
   "cell_type": "markdown",
   "metadata": {},
   "source": [
    "## Data"
   ]
  },
  {
   "cell_type": "code",
   "execution_count": null,
   "metadata": {},
   "outputs": [],
   "source": [
    "# pert_method, adaptive, methods, step_params\n",
    "solver_params = [\n",
    "    ('conrad', 0, ['EE'], [0.5, 0.25, 0.2, 0.1, 0.025, 0.01]),\n",
    "    ('conrad', 0, ['EEMP'], [0.5, 0.25, 0.2, 0.1, 0.025, 0.01]),\n",
    "    ('conrad', 1, ['RKBS', 'RKDP'], [1e-3, 1e-5, 1e-7]),\n",
    "]"
   ]
  },
  {
   "cell_type": "code",
   "execution_count": null,
   "metadata": {},
   "outputs": [],
   "source": [
    "np.seterr(over='raise', invalid='raise') # Don't raise warnings, but errors\n",
    "\n",
    "for panel, gen in gens.items():\n",
    "    \n",
    "    print('----------------------------------------------------------')\n",
    "    print(panel, ':', gen.subfoldername)\n",
    "    print('----------------------------------------------------------')   \n",
    "    \n",
    "    for pert_method, adaptive, methods, step_params in solver_params:\n",
    "        for step_param, method in itproduct(step_params, methods):\n",
    "            gen.gen_and_save_data(\n",
    "                method=method, adaptive=adaptive, step_param=step_param,\n",
    "                pert_method=pert_method, plot=False, allowgenerror=True,\n",
    "                overwrite=False\n",
    "            )\n",
    "            \n",
    "np.seterr(over='warn', invalid='warn') # Reset"
   ]
  },
  {
   "cell_type": "markdown",
   "metadata": {},
   "source": [
    "# Load data"
   ]
  },
  {
   "cell_type": "code",
   "execution_count": null,
   "metadata": {},
   "outputs": [],
   "source": [
    "from data_generator_STG import data_loader_STG\n",
    "import pandas as pd\n",
    "\n",
    "df = pd.DataFrame()\n",
    "\n",
    "for panel, gen in gens.items():\n",
    "    panel_df = data_loader_STG(gen).load_data2dataframe(solver_params, MAEs=True, allowgenerror=True)\n",
    "    metric_utils.add_det_nODEcalls(panel_df, T=gen.tmax-gen.t0)\n",
    "    panel_df['panel'] = panel\n",
    "    df = df.append(panel_df, ignore_index=True)\n",
    "df.columns"
   ]
  },
  {
   "cell_type": "markdown",
   "metadata": {},
   "source": [
    "# Plot"
   ]
  },
  {
   "cell_type": "markdown",
   "metadata": {},
   "source": [
    "## Traces plots"
   ]
  },
  {
   "cell_type": "code",
   "execution_count": null,
   "metadata": {},
   "outputs": [],
   "source": [
    "vidxs = [0,13,26]"
   ]
  },
  {
   "cell_type": "markdown",
   "metadata": {},
   "source": [
    "## Kernel density estimates"
   ]
  },
  {
   "cell_type": "code",
   "execution_count": null,
   "metadata": {},
   "outputs": [],
   "source": [
    "def plot_voltage(ax, data_row, event_idx, xlim=None):\n",
    "    \"\"\"Plot voltage traces and kernel density estimates\"\"\"\n",
    "    \n",
    "    if xlim is not None: xlim = (xlim[0]*1e3, xlim[1]*1e3) # s to ms\n",
    "    \n",
    "    vidx = vidxs[event_idx]\n",
    "\n",
    "    pltu.plot_sample_trace(\n",
    "        ax=ax, ts=data_row.acc_ts, ys=data_row.acc_ys[:,vidx],\n",
    "        tr_kw=dict(lw=0.4), label='ref.', xlim=xlim\n",
    "    )\n",
    "    pltu.plot_mean_and_uncertainty(\n",
    "        ax=ax, ts=data_row.ts,\n",
    "        ys=data_row.ys[:,:,vidx] if isinstance(data_row.ys, np.ndarray) else [ys_i[:,vidx] for ys_i in data_row.ys],\n",
    "        intpol_dt=1, xlim=xlim, tr_mean_kw=dict(lw=0.4),\n",
    "    )\n",
    "    \n",
    "    ax.set_ylabel('v(t) (mV)')\n",
    "    ax.set_xlabel('Time (s)')"
   ]
  },
  {
   "cell_type": "code",
   "execution_count": null,
   "metadata": {},
   "outputs": [],
   "source": [
    "def plot_voltage_samples(ax, data_row, event_idx, smp_idxs=[0,1,2], xlim=None):\n",
    "    \"\"\"Plot voltage traces and kernel density estimates\"\"\"\n",
    "    \n",
    "    if xlim is not None: xlim = (xlim[0]*1e3, xlim[1]*1e3) # s to ms\n",
    "        \n",
    "    vidx = vidxs[event_idx]\n",
    "    \n",
    "    for i, smp_idx in enumerate(smp_idxs):\n",
    "        pltu.plot_sample_trace(\n",
    "            ax=ax, ts=data_row.ts[smp_idx] if data_row.adaptive else data_row.ts,\n",
    "            ys=data_row.ys[smp_idx][:,vidx],\n",
    "            tr_kw=dict(c=pltu.neuron2color(i), alpha=0.9, lw=0.7, ls='-'), xlim=xlim\n",
    "        ) \n",
    "    \n",
    "    pltu.plot_sample_trace(\n",
    "        ax=ax, ts=data_row.acc_ts, ys=data_row.acc_ys[:,vidx],\n",
    "        tr_kw=dict(lw=0.7, zorder=1000), label='ref.', xlim=xlim\n",
    "    )\n",
    "    \n",
    "    ax.set_ylabel('v(t) (mV)')\n",
    "    ax.set_xlabel('Time (s)')"
   ]
  },
  {
   "cell_type": "code",
   "execution_count": null,
   "metadata": {},
   "outputs": [],
   "source": [
    "def plot_kde(ax, data_row, event_idx, xlim=None):\n",
    "    \"\"\"Plot voltage traces and kernel density estimates\"\"\"\n",
    "    \n",
    "    if xlim is not None: xlim = (xlim[0]*1e3, xlim[1]*1e3) # s to ms\n",
    "    \n",
    "    vidx = vidxs[event_idx]\n",
    "\n",
    "    pltu.plot_sample_trace(ax=ax, ts=data_row.kde_ts, ys=data_row.acc_kde[:,event_idx], xlim=xlim)\n",
    "    pltu.plot_mean_and_uncertainty(ax=ax, ts=data_row.kde_ts, ys=data_row.kdes[:,:,event_idx], xlim=xlim)\n",
    "\n",
    "    ax.set_ylabel('Rate (Hz)')\n",
    "    ax.set_xlabel('Time (s)')"
   ]
  },
  {
   "cell_type": "markdown",
   "metadata": {},
   "source": [
    "### Test"
   ]
  },
  {
   "cell_type": "code",
   "execution_count": null,
   "metadata": {},
   "outputs": [],
   "source": [
    "data_rows = frame_utils.get_data_rows(df=df, method='RKBS', panel='e')\n",
    "data_rows"
   ]
  },
  {
   "cell_type": "code",
   "execution_count": null,
   "metadata": {},
   "outputs": [],
   "source": [
    "fig, axs = pltu.subplots(data_rows.shape[0], 3, xsize='fullwidth')\n",
    "for ax_col, (i, data_row) in zip(axs.T, data_rows.iterrows()):\n",
    "    plot_voltage(ax=ax_col[0], data_row=data_row, event_idx=1)\n",
    "    plot_voltage_samples(ax=ax_col[1], data_row=data_row, event_idx=1, xlim=None, smp_idxs=[0,3,4])\n",
    "    plot_kde(ax=ax_col[2], data_row=data_row, event_idx=1)\n",
    "plt.tight_layout()"
   ]
  },
  {
   "cell_type": "markdown",
   "metadata": {},
   "source": [
    "## Summary plot"
   ]
  },
  {
   "cell_type": "code",
   "execution_count": null,
   "metadata": {},
   "outputs": [],
   "source": [
    "panel2xlim = {\n",
    "    'a': [(0,2.5), (1, 2)],\n",
    "    'b': [(0,2.5), (1, 2)],\n",
    "    'c': [(0,2.5), (1.2, 2.2)],\n",
    "    'd': [(0,6), (2.8, 3.8)],\n",
    "    'e': [(0,2.5), (1.6, 2.6)],\n",
    "}"
   ]
  },
  {
   "cell_type": "code",
   "execution_count": null,
   "metadata": {},
   "outputs": [],
   "source": [
    "pert_method = 'conrad'\n",
    "event_idx = 1\n",
    "\n",
    "df_groups = df.groupby(['panel'], sort=False)\n",
    "\n",
    "### Prepare axes ###\n",
    "sbnx = len(df_groups)\n",
    "sbny = 5\n",
    "\n",
    "fig, axs = pltu.subplots(\n",
    "    sbnx, sbny, ysizerow=0.95, yoffsize=0.3, squeeze=False, xsize='fullwidth',\n",
    "    gridspec_kw=dict(height_ratios=[0.7,0.7,0.5,0.5,1])\n",
    ")\n",
    "\n",
    "plot_methods = set()\n",
    "\n",
    "### Plot traces ###\n",
    "for idx, (panel, group) in enumerate(df_groups):\n",
    "    ax_col = axs[:-1,idx]\n",
    "    \n",
    "    data_row1 = frame_utils.get_data_rows(group, n_ex=1, pert_method=pert_method, adaptive=0, method='EE', step_param=0.1)\n",
    "    data_row2 = frame_utils.get_data_rows(group, n_ex=1, pert_method=pert_method, adaptive=0, method='EE', step_param=0.01)\n",
    "    \n",
    "    plot_voltage(ax=ax_col[0], data_row=data_row1, event_idx=event_idx, xlim=panel2xlim[panel][0])\n",
    "    plot_voltage_samples(\n",
    "        ax=ax_col[1], data_row=data_row1, event_idx=event_idx, xlim=panel2xlim[panel][1],\n",
    "        smp_idxs=[3,0,4] if panel!='c' else [3,4,0]) # Select samples.\n",
    "    plot_kde(ax=ax_col[-2], data_row=data_row1, event_idx=event_idx, xlim=panel2xlim[panel][0])\n",
    "    plot_kde(ax=ax_col[-1], data_row=data_row2, event_idx=event_idx, xlim=panel2xlim[panel][0])\n",
    "\n",
    "### Plot summaries ###\n",
    "for idx, (panel, group) in enumerate(df_groups):\n",
    "    ax = axs[-1,idx]\n",
    "    for (method, adaptive, pert_param), subgroup in group.groupby(['method', 'adaptive', 'pert_param'], sort=False):\n",
    "        plot_methods.add(method)\n",
    "               \n",
    "        pltu.plot_xy_percentiles(\n",
    "            ax,\n",
    "            datax=[data_row['det_nODEcalls_per_time'] for i, data_row in subgroup.iterrows() if data_row.n_samples > 0],\n",
    "            datay=[data_row['MAE_SR'][event_idx] for i, data_row in subgroup.iterrows() if data_row.n_samples > 0],\n",
    "            marker=pltu.method2marker(method), color=pltu.method2color(method),\n",
    "            mean_kw=dict(alpha=0.6, ls=pltu.mode2ls(adaptive), mfc=pltu.mode2mfc(adaptive), ms=6),\n",
    "            line_kw=dict(color='k', lw=0.5, alpha=1.0), \n",
    "        )\n",
    "        \n",
    "    ax.grid(True, axis='both', alpha=.3, c='k', lw=plt.rcParams['ytick.major.width'])\n",
    "    ax.set_xscale('log')\n",
    "    ax.set_yscale('log')\n",
    "\n",
    "### Decorate ###\n",
    "\n",
    "# labels\n",
    "pltu.set_labs(axs[-1,:], xlabs=r'N$_\\mathrm{det.}$(ODE) (1/ms)')\n",
    "pltu.set_labs(axs[-1,0], ylabs=r'$\\mathrm{MAE}_\\mathrm{SR}$ (Hz)')\n",
    "pltu.set_labs(axs, panel_nums='auto', panel_num_space=2, panel_num_va='top')\n",
    "for ax in axs[:,1:].flat: ax.set_ylabel(None)\n",
    "for ax in axs[:-2].flat: ax.set_xlabel(None)\n",
    "    \n",
    "# ylims\n",
    "pltu.make_share_ylims(axs[-1,:])\n",
    "pltu.make_share_xlims(axs[-1,:])\n",
    "pltu.make_share_ylims(axs[0,:])\n",
    "pltu.make_share_ylims(axs[2:4,:2])\n",
    "pltu.make_share_ylims(axs[2:4,2:])\n",
    "\n",
    "# ticks\n",
    "for ax in axs[2:4,:2].flat: ax.set_yticks([0,20]) \n",
    "for ax in axs[2:4,2:].flat: ax.set_yticks([0,60]) \n",
    "for ax in axs[0:2,:].flat: ax.set_yticks([-60, -30, 0, 30])   \n",
    "pltu.scale_ticks(axs[:-1,:], scale=1e-3, x=True, y=False)\n",
    "\n",
    "# alignment\n",
    "fig.align_labels()\n",
    "sns.despine()\n",
    "\n",
    "pltu.move_xaxis_outward(axs, scale=2)\n",
    "pltu.tight_layout(h_pad=-0.3, w_pad=0.2)\n",
    "for i, ax_row in enumerate(axs[1:-1,:]): pltu.move_box(axs=ax_row, dy=0.013*(i+1))\n",
    "\n",
    "# legend\n",
    "plot_methods = pltu.sort_methods(list(plot_methods))\n",
    "pltu.make_method_and_mode_legend(\n",
    "    ax=axs[-1,0], methods=plot_methods, example_method=plot_methods[-1], pert_method=pert_method,\n",
    "    legend1_kw=dict(labelspacing=0.0, borderpad=0.0, loc='lower left', bbox_to_anchor=(0.00,-0.06), handlelength=0.4),\n",
    "    legend2_kw=dict(labelspacing=0.0, borderpad=0.0, loc='lower left', bbox_to_anchor=(0.4,-0.06)),\n",
    ")\n",
    "axs[0,0].legend(\n",
    "    loc='upper right', borderpad=0.15, frameon=True, framealpha=0.7,\n",
    "    borderaxespad=0.0, bbox_to_anchor=(1,1.2)\n",
    ")\n",
    "\n",
    "# save and show\n",
    "pltu.savefig(\"STG3_summary_runtime\")\n",
    "plt.show()"
   ]
  },
  {
   "cell_type": "code",
   "execution_count": null,
   "metadata": {},
   "outputs": [],
   "source": [
    "pltu.show_saved_figure(fig)"
   ]
  },
  {
   "cell_type": "markdown",
   "metadata": {},
   "source": [
    "# Text"
   ]
  },
  {
   "cell_type": "code",
   "execution_count": null,
   "metadata": {},
   "outputs": [],
   "source": [
    "data_rows = frame_utils.get_data_rows(df=df, method='EEMP')\n",
    "data_rows = data_rows[data_rows.n_samples > 0]"
   ]
  },
  {
   "cell_type": "code",
   "execution_count": null,
   "metadata": {},
   "outputs": [],
   "source": [
    "for panel, group in data_rows.groupby(['panel']):\n",
    "    print(panel)\n",
    "    for _, data_row in group.iterrows():\n",
    "        print(np.mean(data_row.det_nODEcalls_per_time))"
   ]
  }
 ],
 "metadata": {
  "kernelspec": {
   "display_name": "Python 3",
   "language": "python",
   "name": "python3"
  },
  "language_info": {
   "codemirror_mode": {
    "name": "ipython",
    "version": 3
   },
   "file_extension": ".py",
   "mimetype": "text/x-python",
   "name": "python",
   "nbconvert_exporter": "python",
   "pygments_lexer": "ipython3",
   "version": "3.7.5"
  },
  "toc": {
   "base_numbering": 1,
   "nav_menu": {},
   "number_sections": true,
   "sideBar": true,
   "skip_h1_title": false,
   "title_cell": "Table of Contents",
   "title_sidebar": "Contents",
   "toc_cell": false,
   "toc_position": {
    "height": "calc(100% - 180px)",
    "left": "10px",
    "top": "150px",
    "width": "384px"
   },
   "toc_section_display": true,
   "toc_window_display": true
  },
  "varInspector": {
   "cols": {
    "lenName": 16,
    "lenType": 16,
    "lenVar": 40
   },
   "kernels_config": {
    "python": {
     "delete_cmd_postfix": "",
     "delete_cmd_prefix": "del ",
     "library": "var_list.py",
     "varRefreshCmd": "print(var_dic_list())"
    },
    "r": {
     "delete_cmd_postfix": ") ",
     "delete_cmd_prefix": "rm(",
     "library": "var_list.r",
     "varRefreshCmd": "cat(var_dic_list()) "
    }
   },
   "types_to_exclude": [
    "module",
    "function",
    "builtin_function_or_method",
    "instance",
    "_Feature"
   ],
   "window_display": false
  }
 },
 "nbformat": 4,
 "nbformat_minor": 4
}
