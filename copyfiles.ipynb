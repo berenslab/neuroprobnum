{
 "cells": [
  {
   "cell_type": "markdown",
   "id": "71f35d6e",
   "metadata": {},
   "source": [
    "# Copy files from main folder"
   ]
  },
  {
   "cell_type": "code",
   "execution_count": null,
   "id": "9e6a0e64",
   "metadata": {},
   "outputs": [],
   "source": [
    "from shutil import copyfile\n",
    "import os"
   ]
  },
  {
   "cell_type": "code",
   "execution_count": null,
   "id": "bfabcaef",
   "metadata": {},
   "outputs": [],
   "source": [
    "def get_files_in_folder(folder, extensions=None):\n",
    "    paths = os.listdir(folder)\n",
    "    \n",
    "    files = []\n",
    "    for path in paths:\n",
    "        fullpath = os.path.join(folder, path)\n",
    "        if os.path.isfile(fullpath):\n",
    "            valid = False\n",
    "            if extensions is None:\n",
    "                valid = True\n",
    "            else:\n",
    "                for extension in extensions:\n",
    "                    if fullpath.endswith(extension):\n",
    "                        valid = True\n",
    "                        break\n",
    "            if valid:\n",
    "                files.append(fullpath)\n",
    "\n",
    "    return sorted(files)"
   ]
  },
  {
   "cell_type": "code",
   "execution_count": null,
   "id": "34aca67c",
   "metadata": {},
   "outputs": [],
   "source": [
    "def get_folders_in_folder(folder):\n",
    "    paths = os.listdir(folder)\n",
    "    \n",
    "    folders = []\n",
    "    for path in paths:\n",
    "        fullpath = os.path.join(folder, path)\n",
    "        if os.path.isdir(fullpath) and not \".ipynb_checkpoints\" in fullpath and not \"__pycache__\" in fullpath:\n",
    "            folders.append(fullpath)\n",
    "\n",
    "    return sorted(folders)"
   ]
  },
  {
   "cell_type": "markdown",
   "id": "a2ef04da",
   "metadata": {},
   "source": [
    "## Solver"
   ]
  },
  {
   "cell_type": "code",
   "execution_count": null,
   "id": "1dbf9649",
   "metadata": {},
   "outputs": [],
   "source": [
    "infolder = \"../postneurips/solver\"\n",
    "outfolder = \"solver\"\n",
    "filenames = get_files_in_folder(folder=infolder, extensions=['.py'])\n",
    "filenames"
   ]
  },
  {
   "cell_type": "code",
   "execution_count": null,
   "id": "212f5097",
   "metadata": {},
   "outputs": [],
   "source": [
    "if not os.path.isdir(outfolder): os.mkdir(outfolder)\n",
    "for filename in filenames:\n",
    "    copyfile(filename, os.path.join(outfolder, os.path.split(filename)[-1]))"
   ]
  },
  {
   "cell_type": "markdown",
   "id": "aa48c4ef",
   "metadata": {},
   "source": [
    "## Utils"
   ]
  },
  {
   "cell_type": "code",
   "execution_count": null,
   "id": "7ff20b6c",
   "metadata": {},
   "outputs": [],
   "source": [
    "infolder = \"../postneurips/utils\"\n",
    "outfolder = \"utils\"\n",
    "filenames = get_files_in_folder(folder=infolder, extensions=['.py'])\n",
    "filenames"
   ]
  },
  {
   "cell_type": "code",
   "execution_count": null,
   "id": "5b8dbc2f",
   "metadata": {},
   "outputs": [],
   "source": [
    "if not os.path.isdir(outfolder): os.mkdir(outfolder)\n",
    "for filename in filenames:\n",
    "    copyfile(filename, os.path.join(outfolder, os.path.split(filename)[-1]))"
   ]
  },
  {
   "cell_type": "markdown",
   "id": "12288a23",
   "metadata": {},
   "source": [
    "## Generator"
   ]
  },
  {
   "cell_type": "code",
   "execution_count": null,
   "id": "8ae76250",
   "metadata": {},
   "outputs": [],
   "source": [
    "infolder = \"../postneurips/generator\"\n",
    "outfolder = \"generator\"\n",
    "filenames = get_files_in_folder(folder=infolder, extensions=['.py'])\n",
    "filenames"
   ]
  },
  {
   "cell_type": "code",
   "execution_count": null,
   "id": "5f96426e",
   "metadata": {},
   "outputs": [],
   "source": [
    "if not os.path.isdir(outfolder): os.mkdir(outfolder)\n",
    "for filename in filenames:\n",
    "    copyfile(filename, os.path.join(outfolder, os.path.split(filename)[-1]))"
   ]
  },
  {
   "cell_type": "markdown",
   "id": "20b1f319",
   "metadata": {},
   "source": [
    "## Models"
   ]
  },
  {
   "cell_type": "markdown",
   "id": "e48bc7d7",
   "metadata": {},
   "source": [
    "### python models"
   ]
  },
  {
   "cell_type": "code",
   "execution_count": null,
   "id": "969d04a2",
   "metadata": {},
   "outputs": [],
   "source": [
    "infolder = \"../postneurips/models\"\n",
    "outfolder = \"models\"\n",
    "filenames = get_files_in_folder(folder=infolder, extensions=['.py'])\n",
    "filenames"
   ]
  },
  {
   "cell_type": "code",
   "execution_count": null,
   "id": "5704d564",
   "metadata": {},
   "outputs": [],
   "source": [
    "filenames = [\n",
    "    '../postneurips/models/base_neuron.py',\n",
    "    '../postneurips/models/hodgkin_huxley.py',\n",
    "    '../postneurips/models/izhikevich.py',\n",
    "    '../postneurips/models/izhikevich_network.py',\n",
    "    '../postneurips/models/izhikevich_parameters.py',\n",
    "    #'../postneurips/models/markov_channel.py',\n",
    "    #'../postneurips/models/rtm_model.py',\n",
    "    '../postneurips/models/stg_model.py',\n",
    "    '../postneurips/models/stg_parameters.py',\n",
    "    '../postneurips/models/test_models.py'\n",
    "]\n",
    "\n",
    "if not os.path.isdir(outfolder): os.mkdir(outfolder)\n",
    "for filename in filenames:\n",
    "    copyfile(filename, os.path.join(outfolder, os.path.split(filename)[-1]))"
   ]
  },
  {
   "cell_type": "markdown",
   "id": "39e29a4a",
   "metadata": {},
   "source": [
    "### cython models"
   ]
  },
  {
   "cell_type": "code",
   "execution_count": null,
   "id": "79f8e325",
   "metadata": {},
   "outputs": [],
   "source": [
    "foldernames = get_folders_in_folder(folder=infolder)\n",
    "foldernames"
   ]
  },
  {
   "cell_type": "code",
   "execution_count": null,
   "id": "4e3c2530",
   "metadata": {},
   "outputs": [],
   "source": [
    "foldernames = [\n",
    "    '../postneurips/models/cython_hodgkin_huxley',\n",
    "    #'../postneurips/models/cython_rtm_model',\n",
    "    '../postneurips/models/cython_stg_model'\n",
    "]\n",
    "\n",
    "\n",
    "for infolder in foldernames:\n",
    "    filenames = get_files_in_folder(folder=infolder, extensions=['.pyx', '.py', '.pxd'])\n",
    "            \n",
    "    for filename in filenames:\n",
    "        print(filename)\n",
    "    \n",
    "    inp = input('Confirm! y/n')\n",
    "    \n",
    "    if inp != 'y':\n",
    "        print('Interrupted!')\n",
    "        break\n",
    "    \n",
    "    if not os.path.isdir('models'): os.mkdir('models')\n",
    "    outfolder = os.path.join('models', os.path.split(infolder)[-1])\n",
    "    if not os.path.isdir(outfolder): os.mkdir(outfolder)\n",
    "    \n",
    "    for filename in filenames:\n",
    "        copyfile(filename, os.path.join(outfolder, os.path.split(filename)[-1]))"
   ]
  },
  {
   "cell_type": "markdown",
   "id": "e2dac14e",
   "metadata": {},
   "source": [
    "## Experiments"
   ]
  },
  {
   "cell_type": "code",
   "execution_count": null,
   "id": "57dc14f8",
   "metadata": {},
   "outputs": [],
   "source": [
    "infolder = \"../postneurips/experiments\"\n",
    "foldernames = get_folders_in_folder(folder=infolder)\n",
    "foldernames"
   ]
  },
  {
   "cell_type": "code",
   "execution_count": null,
   "id": "89e8effe",
   "metadata": {},
   "outputs": [],
   "source": [
    "foldernames = [\n",
    "    '../postneurips/experiments/hodgkin_huxley',\n",
    "    '../postneurips/experiments/introduction',\n",
    "    '../postneurips/experiments/izhikevich',\n",
    "    '../postneurips/experiments/izhikevich_network',\n",
    "    #'../postneurips/experiments/multiple_step_sizes',\n",
    "    #'../postneurips/experiments/rtm_model',\n",
    "    #'../postneurips/experiments/solvers',\n",
    "    '../postneurips/experiments/stg_1neuron',\n",
    "    #'../postneurips/experiments/stg_2neurons',\n",
    "    '../postneurips/experiments/stg_3neurons',\n",
    "    #'../postneurips/experiments/tests'\n",
    "]\n",
    "\n",
    "if not os.path.isdir('experiments'): os.mkdir('experiments')\n",
    "copyfile(\"../postneurips/experiments/addpaths.py\", \"experiments/addpaths.py\")\n",
    "\n",
    "for infolder in foldernames:\n",
    "    filenames = get_files_in_folder(folder=infolder, extensions=['.py', 'ipynb'])\n",
    "    \n",
    "    filtered_filenames = []\n",
    "    for filename in filenames:\n",
    "        if not os.path.split(filename)[-1].startswith(\"ex_\") and not os.path.split(filename)[-1].endswith(\"_introduction.ipynb\"):\n",
    "            filtered_filenames.append(filename)\n",
    "            \n",
    "    for filename in filtered_filenames:\n",
    "        print(filename)\n",
    "        \n",
    "    inp = input('Confirm! y/n')\n",
    "    \n",
    "    if inp != 'y':\n",
    "        print('Interrupted!')\n",
    "        break\n",
    "    \n",
    "    outfolder = os.path.join('experiments', os.path.split(infolder)[-1])\n",
    "    if not os.path.isdir(outfolder): os.mkdir(outfolder)\n",
    "    \n",
    "    for filename in filtered_filenames:\n",
    "        copyfile(filename, os.path.join(outfolder, os.path.split(filename)[-1]))"
   ]
  }
 ],
 "metadata": {
  "kernelspec": {
   "display_name": "Python 3",
   "language": "python",
   "name": "python3"
  },
  "language_info": {
   "codemirror_mode": {
    "name": "ipython",
    "version": 3
   },
   "file_extension": ".py",
   "mimetype": "text/x-python",
   "name": "python",
   "nbconvert_exporter": "python",
   "pygments_lexer": "ipython3",
   "version": "3.7.5"
  }
 },
 "nbformat": 4,
 "nbformat_minor": 5
}
